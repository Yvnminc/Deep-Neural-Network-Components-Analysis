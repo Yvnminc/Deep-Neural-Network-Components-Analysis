{
 "cells": [
  {
   "cell_type": "code",
   "execution_count": 1,
   "metadata": {},
   "outputs": [
    {
     "name": "stdout",
     "output_type": "stream",
     "text": [
      "(45000, 128)\n",
      "(45000, 10)\n",
      "(5000, 128)\n",
      "(5000, 10)\n",
      "(10000, 128)\n",
      "(10000, 10)\n"
     ]
    }
   ],
   "source": [
    "from algorithms import *\n",
    "from algorithms.MlpV2 import *\n",
    "data = Data()\n",
    "data.print_shapes()\n",
    "X_train = data.train_data\n",
    "y_train = data.train_label"
   ]
  },
  {
   "cell_type": "code",
   "execution_count": 2,
   "metadata": {},
   "outputs": [],
   "source": [
    "X_test = data.test_data\n",
    "y_test = data.test_label"
   ]
  },
  {
   "cell_type": "code",
   "execution_count": 3,
   "metadata": {},
   "outputs": [],
   "source": [
    "MOMENTUM = 0.9"
   ]
  },
  {
   "cell_type": "code",
   "execution_count": null,
   "metadata": {},
   "outputs": [],
   "source": []
  },
  {
   "cell_type": "code",
   "execution_count": 4,
   "metadata": {},
   "outputs": [],
   "source": [
    "nn = MlpV2(learning_rate=0.003, batch_size= 100)\n",
    "nn.set_optimiser('Adam',[0.9,0.9])\n",
    "nn.set_batchNormalizer(momentum = MOMENTUM)\n",
    "nn.add_layer(128,512,\"relu\",1)\n",
    "nn.add_layer(512,256,\"relu\",1)\n",
    "nn.add_layer(256,128,\"relu\",1)\n",
    "nn.add_layer(128,64,\"relu\",1)\n",
    "nn.add_layer(64,10,\"softmax\",1)\n",
    "### Try different learning rate and epochs\n",
    "\n",
    "#print('loss:%f'%MSE[-1])"
   ]
  },
  {
   "cell_type": "code",
   "execution_count": 4,
   "metadata": {},
   "outputs": [
    {
     "data": {
      "text/plain": [
       "1.1698074678658485"
      ]
     },
     "execution_count": 4,
     "metadata": {},
     "output_type": "execute_result"
    }
   ],
   "source": [
    "X_train.std()"
   ]
  },
  {
   "cell_type": "code",
   "execution_count": 5,
   "metadata": {},
   "outputs": [
    {
     "name": "stdout",
     "output_type": "stream",
     "text": [
      "Epoch: 1  Training Loss: 1.626418503532976  Time (sec): 15.946357011795044\n",
      "Epoch: 2  Training Loss: 1.4353389325907058  Time (sec): 14.578981876373291\n",
      "Epoch: 3  Training Loss: 1.3435633147399761  Time (sec): 14.075329542160034\n",
      "Epoch: 4  Training Loss: 1.2779225582507088  Time (sec): 18.48480796813965\n",
      "Epoch: 5  Training Loss: 1.2332846553834083  Time (sec): 18.4683198928833\n",
      "Epoch: 6  Training Loss: 1.1914021137634965  Time (sec): 18.603408098220825\n",
      "Epoch: 7  Training Loss: 1.1567037840598455  Time (sec): 16.457980155944824\n",
      "Epoch: 8  Training Loss: 1.1328922898595026  Time (sec): 16.378166437149048\n",
      "Epoch: 9  Training Loss: 1.1053943177399086  Time (sec): 15.258163928985596\n",
      "Epoch: 10  Training Loss: 1.0858198022916932  Time (sec): 18.51557683944702\n",
      "Epoch: 11  Training Loss: 1.065277820773185  Time (sec): 16.16274642944336\n",
      "Epoch: 12  Training Loss: 1.0486674649586265  Time (sec): 18.32232975959778\n",
      "Epoch: 13  Training Loss: 1.0351908198040733  Time (sec): 18.55736494064331\n",
      "Epoch: 14  Training Loss: 1.0210096502600228  Time (sec): 17.749809741973877\n",
      "Epoch: 15  Training Loss: 1.0084591456636025  Time (sec): 15.75480318069458\n",
      "Epoch: 16  Training Loss: 1.0003824800547338  Time (sec): 14.668742895126343\n",
      "Epoch: 17  Training Loss: 0.9900758220055081  Time (sec): 15.291041851043701\n",
      "Epoch: 18  Training Loss: 0.9824767032685134  Time (sec): 18.64101481437683\n",
      "Epoch: 19  Training Loss: 0.9754152130069178  Time (sec): 15.260188579559326\n",
      "Epoch: 20  Training Loss: 0.9685735030927918  Time (sec): 17.05934166908264\n"
     ]
    },
    {
     "data": {
      "text/plain": [
       "array([1.6264185 , 1.43533893, 1.34356331, 1.27792256, 1.23328466,\n",
       "       1.19140211, 1.15670378, 1.13289229, 1.10539432, 1.0858198 ,\n",
       "       1.06527782, 1.04866746, 1.03519082, 1.02100965, 1.00845915,\n",
       "       1.00038248, 0.99007582, 0.9824767 , 0.97541521, 0.9685735 ])"
      ]
     },
     "execution_count": 5,
     "metadata": {},
     "output_type": "execute_result"
    }
   ],
   "source": [
    "nn.fit(X_train, y_train, epochs= 20)"
   ]
  },
  {
   "cell_type": "code",
   "execution_count": 6,
   "metadata": {},
   "outputs": [
    {
     "data": {
      "text/plain": [
       "0.8180222222222222"
      ]
     },
     "execution_count": 6,
     "metadata": {},
     "output_type": "execute_result"
    }
   ],
   "source": [
    "nn.evaluate(X_train,y_train)"
   ]
  },
  {
   "cell_type": "code",
   "execution_count": null,
   "metadata": {},
   "outputs": [],
   "source": []
  }
 ],
 "metadata": {
  "kernelspec": {
   "display_name": "Python 3",
   "language": "python",
   "name": "python3"
  },
  "language_info": {
   "codemirror_mode": {
    "name": "ipython",
    "version": 3
   },
   "file_extension": ".py",
   "mimetype": "text/x-python",
   "name": "python",
   "nbconvert_exporter": "python",
   "pygments_lexer": "ipython3",
   "version": "3.11.2"
  },
  "vscode": {
   "interpreter": {
    "hash": "3c882730db67e28db1e924ef806594fad4161f4a410f43aebd253948128b358f"
   }
  }
 },
 "nbformat": 4,
 "nbformat_minor": 2
}
