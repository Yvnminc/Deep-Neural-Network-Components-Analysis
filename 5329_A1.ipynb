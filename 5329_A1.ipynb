{
 "cells": [
  {
   "cell_type": "code",
   "execution_count": 2,
   "metadata": {},
   "outputs": [
    {
     "name": "stdout",
     "output_type": "stream",
     "text": [
      "(45000, 128)\n",
      "(45000, 10)\n",
      "(5000, 128)\n",
      "(5000, 10)\n",
      "(10000, 128)\n",
      "(10000, 10)\n"
     ]
    }
   ],
   "source": [
    "from algorithms import *\n",
    "data = Data()\n",
    "data.print_shapes()\n",
    "X_train = data.train_data\n",
    "y_train = data.train_label"
   ]
  },
  {
   "cell_type": "code",
   "execution_count": 3,
   "metadata": {},
   "outputs": [],
   "source": [
    "X_test = data.test_data\n",
    "y_test = data.test_label"
   ]
  },
  {
   "cell_type": "code",
   "execution_count": 4,
   "metadata": {},
   "outputs": [],
   "source": [
    "nn = Mlp(learning_rate=0.001, batch_size= 5000)\n",
    "nn.set_momentum(0.9)\n",
    "nn.set_batchNormalizer()\n",
    "nn.add_layer(128,64,\"relu\",1)\n",
    "#nn.add_layer(64,32,\"relu\",1)\n",
    "nn.add_layer(64,10,\"softmax\",1)\n",
    "### Try different learning rate and epochs\n",
    "\n",
    "#print('loss:%f'%MSE[-1])"
   ]
  },
  {
   "cell_type": "code",
   "execution_count": 5,
   "metadata": {},
   "outputs": [
    {
     "data": {
      "text/plain": [
       "1.1690781570631141"
      ]
     },
     "execution_count": 5,
     "metadata": {},
     "output_type": "execute_result"
    }
   ],
   "source": [
    "X_train.std()"
   ]
  },
  {
   "cell_type": "code",
   "execution_count": 6,
   "metadata": {},
   "outputs": [
    {
     "name": "stdout",
     "output_type": "stream",
     "text": [
      "Epoch: 1  Training Loss: 2.140103250804842  Time (sec): 2.043877124786377\n",
      "Epoch: 2  Training Loss: 1.8721844004089807  Time (sec): 1.0551929473876953\n",
      "Epoch: 3  Training Loss: 1.8543800862784723  Time (sec): 1.0750257968902588\n",
      "Epoch: 4  Training Loss: 1.8387323544718488  Time (sec): 2.049363136291504\n",
      "Epoch: 5  Training Loss: 1.843905156210018  Time (sec): 1.31602144241333\n"
     ]
    },
    {
     "data": {
      "text/plain": [
       "array([2.14010325, 1.8721844 , 1.85438009, 1.83873235, 1.84390516])"
      ]
     },
     "execution_count": 6,
     "metadata": {},
     "output_type": "execute_result"
    }
   ],
   "source": [
    "nn.fit(X_train, y_train, epochs= 5)"
   ]
  },
  {
   "cell_type": "code",
   "execution_count": 7,
   "metadata": {},
   "outputs": [],
   "source": [
    "pred = nn.predict(X_test)"
   ]
  },
  {
   "cell_type": "code",
   "execution_count": 8,
   "metadata": {},
   "outputs": [
    {
     "data": {
      "text/plain": [
       "(10000, 10)"
      ]
     },
     "execution_count": 8,
     "metadata": {},
     "output_type": "execute_result"
    }
   ],
   "source": [
    "pred.shape"
   ]
  },
  {
   "cell_type": "code",
   "execution_count": 9,
   "metadata": {},
   "outputs": [],
   "source": [
    "p = np.argmax(pred, 1)"
   ]
  },
  {
   "cell_type": "code",
   "execution_count": 10,
   "metadata": {},
   "outputs": [
    {
     "name": "stdout",
     "output_type": "stream",
     "text": [
      "[3 8 8 8 4 6 3 2 5 1]\n"
     ]
    }
   ],
   "source": [
    "print(p[:10])"
   ]
  },
  {
   "cell_type": "code",
   "execution_count": 23,
   "metadata": {},
   "outputs": [
    {
     "data": {
      "text/plain": [
       "array([[-3.47967057e+00,  9.06426369e-01,  1.25195572e+00, ...,\n",
       "         8.61874214e-01,  6.31729322e-01,  2.60908392e-01],\n",
       "       [ 9.94315784e+00, -9.58055259e+00,  5.06857801e+00, ...,\n",
       "         1.63248427e-01, -3.18574521e-01, -2.67055346e-01],\n",
       "       [ 4.70429957e+00, -8.83720616e+00,  4.10928532e+00, ...,\n",
       "         5.57491883e-02,  2.65140024e-01,  1.67865616e-01],\n",
       "       ...,\n",
       "       [-1.52911933e+01,  2.50308666e+00, -2.27169405e-01, ...,\n",
       "        -2.68454413e-01, -6.99688324e-02, -6.08919845e-01],\n",
       "       [-5.85707877e+00,  2.04437491e+00,  3.65488937e+00, ...,\n",
       "         7.85415991e-01,  6.86344933e-03,  2.01131653e-02],\n",
       "       [-1.76542944e+00, -1.89117258e+00, -2.14885246e+00, ...,\n",
       "        -4.11516440e-01,  1.87276097e-02,  2.38587672e-01]])"
      ]
     },
     "execution_count": 23,
     "metadata": {},
     "output_type": "execute_result"
    }
   ],
   "source": [
    "nn.layers[0].input"
   ]
  },
  {
   "cell_type": "code",
   "execution_count": 29,
   "metadata": {},
   "outputs": [
    {
     "data": {
      "text/plain": [
       "array([0.87002005, 1.52524759, 1.18347009, ..., 1.61005482, 1.04959738,\n",
       "       0.81149064])"
      ]
     },
     "execution_count": 29,
     "metadata": {},
     "output_type": "execute_result"
    }
   ],
   "source": [
    "X_test.std(axis=1)"
   ]
  },
  {
   "cell_type": "code",
   "execution_count": null,
   "metadata": {},
   "outputs": [],
   "source": []
  }
 ],
 "metadata": {
  "kernelspec": {
   "display_name": "Python 3",
   "language": "python",
   "name": "python3"
  },
  "language_info": {
   "codemirror_mode": {
    "name": "ipython",
    "version": 3
   },
   "file_extension": ".py",
   "mimetype": "text/x-python",
   "name": "python",
   "nbconvert_exporter": "python",
   "pygments_lexer": "ipython3",
   "version": "3.11.2"
  },
  "vscode": {
   "interpreter": {
    "hash": "3c882730db67e28db1e924ef806594fad4161f4a410f43aebd253948128b358f"
   }
  }
 },
 "nbformat": 4,
 "nbformat_minor": 2
}
