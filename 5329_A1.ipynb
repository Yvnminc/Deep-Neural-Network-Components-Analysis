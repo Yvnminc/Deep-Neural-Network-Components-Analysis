{
 "cells": [
  {
   "cell_type": "code",
   "execution_count": 1,
   "metadata": {},
   "outputs": [
    {
     "name": "stdout",
     "output_type": "stream",
     "text": [
      "(50000, 128)\n",
      "(50000, 1)\n",
      "(10000, 128)\n",
      "(10000, 1)\n"
     ]
    }
   ],
   "source": [
    "from algorithms import *\n",
    "data = Data()\n",
    "data.print_shapes()"
   ]
  },
  {
   "cell_type": "code",
   "execution_count": 2,
   "metadata": {},
   "outputs": [
    {
     "name": "stdout",
     "output_type": "stream",
     "text": [
      "relu\n",
      "(1,)\n"
     ]
    },
    {
     "ename": "TypeError",
     "evalue": "unsupported operand type(s) for /: 'int' and 'tuple'",
     "output_type": "error",
     "traceback": [
      "\u001b[0;31m---------------------------------------------------------------------------\u001b[0m",
      "\u001b[0;31mTypeError\u001b[0m                                 Traceback (most recent call last)",
      "\u001b[1;32m/Users/yann/Desktop/COMP5329_A1/5329_A1.ipynb Cell 2\u001b[0m in \u001b[0;36m3\n\u001b[1;32m      <a href='vscode-notebook-cell:/Users/yann/Desktop/COMP5329_A1/5329_A1.ipynb#W4sZmlsZQ%3D%3D?line=0'>1</a>\u001b[0m nn \u001b[39m=\u001b[39m Mlp([\u001b[39m128\u001b[39m,\u001b[39m64\u001b[39m,\u001b[39m1\u001b[39m], [\u001b[39mNone\u001b[39;00m,\u001b[39m'\u001b[39m\u001b[39mtanh\u001b[39m\u001b[39m'\u001b[39m,\u001b[39m'\u001b[39m\u001b[39mrelu\u001b[39m\u001b[39m'\u001b[39m])\n\u001b[1;32m      <a href='vscode-notebook-cell:/Users/yann/Desktop/COMP5329_A1/5329_A1.ipynb#W4sZmlsZQ%3D%3D?line=1'>2</a>\u001b[0m \u001b[39m### Try different learning rate and epochs\u001b[39;00m\n\u001b[0;32m----> <a href='vscode-notebook-cell:/Users/yann/Desktop/COMP5329_A1/5329_A1.ipynb#W4sZmlsZQ%3D%3D?line=2'>3</a>\u001b[0m MSE \u001b[39m=\u001b[39m nn\u001b[39m.\u001b[39;49mfit(data\u001b[39m.\u001b[39;49mtrain_data, data\u001b[39m.\u001b[39;49mtrain_label, learning_rate\u001b[39m=\u001b[39;49m\u001b[39m0.001\u001b[39;49m, epochs\u001b[39m=\u001b[39;49m\u001b[39m1\u001b[39;49m)\n\u001b[1;32m      <a href='vscode-notebook-cell:/Users/yann/Desktop/COMP5329_A1/5329_A1.ipynb#W4sZmlsZQ%3D%3D?line=3'>4</a>\u001b[0m \u001b[39mprint\u001b[39m(\u001b[39m'\u001b[39m\u001b[39mloss:\u001b[39m\u001b[39m%f\u001b[39;00m\u001b[39m'\u001b[39m\u001b[39m%\u001b[39mMSE[\u001b[39m-\u001b[39m\u001b[39m1\u001b[39m])\n",
      "File \u001b[0;32m~/Desktop/COMP5329_A1/algorithms/Mlp.py:98\u001b[0m, in \u001b[0;36mMlp.fit\u001b[0;34m(self, X, y, learning_rate, epochs)\u001b[0m\n\u001b[1;32m     93\u001b[0m y_hat \u001b[39m=\u001b[39m \u001b[39mself\u001b[39m\u001b[39m.\u001b[39mforward(X[i])\n\u001b[1;32m     95\u001b[0m \u001b[39m# backward pass\u001b[39;00m\n\u001b[1;32m     96\u001b[0m \u001b[39m# loss[it],delta=self.criterion_MSE(y[i],y_hat)\u001b[39;00m\n\u001b[0;32m---> 98\u001b[0m loss[it],delta\u001b[39m=\u001b[39m \u001b[39mself\u001b[39;49m\u001b[39m.\u001b[39;49mcriterion_loss(y[i],y_hat)\n\u001b[1;32m    100\u001b[0m \u001b[39mself\u001b[39m\u001b[39m.\u001b[39mbackward(delta)\n\u001b[1;32m    102\u001b[0m \u001b[39m# update\u001b[39;00m\n",
      "File \u001b[0;32m~/Desktop/COMP5329_A1/algorithms/Loss.py:28\u001b[0m, in \u001b[0;36mLoss.__criterion_CE\u001b[0;34m(self, y, y_hat)\u001b[0m\n\u001b[1;32m     26\u001b[0m \u001b[39mprint\u001b[39m(y\u001b[39m.\u001b[39mshape)\n\u001b[1;32m     27\u001b[0m m \u001b[39m=\u001b[39m y\u001b[39m.\u001b[39mshape\n\u001b[0;32m---> 28\u001b[0m loss \u001b[39m=\u001b[39m (\u001b[39m-\u001b[39;49m\u001b[39m1\u001b[39;49m\u001b[39m/\u001b[39;49mm) \u001b[39m*\u001b[39m np\u001b[39m.\u001b[39msum(np\u001b[39m.\u001b[39msum((y \u001b[39m*\u001b[39m np\u001b[39m.\u001b[39mlog(y_hat))))\n\u001b[1;32m     30\u001b[0m \u001b[39m# calculate the MSE's delta of the output layer\u001b[39;00m\n\u001b[1;32m     31\u001b[0m delta\u001b[39m=\u001b[39m\u001b[39m-\u001b[39mloss \u001b[39m*\u001b[39m activation_deriv(y_hat)\n",
      "\u001b[0;31mTypeError\u001b[0m: unsupported operand type(s) for /: 'int' and 'tuple'"
     ]
    }
   ],
   "source": [
    "nn = Mlp([128,64,1], [None,'tanh','relu'])\n",
    "### Try different learning rate and epochs\n",
    "MSE = nn.fit(data.train_data, data.train_label, learning_rate=0.001, epochs=1)\n",
    "print('loss:%f'%MSE[-1])"
   ]
  },
  {
   "cell_type": "code",
   "execution_count": null,
   "metadata": {},
   "outputs": [],
   "source": []
  }
 ],
 "metadata": {
  "kernelspec": {
   "display_name": "Python 3",
   "language": "python",
   "name": "python3"
  },
  "language_info": {
   "codemirror_mode": {
    "name": "ipython",
    "version": 3
   },
   "file_extension": ".py",
   "mimetype": "text/x-python",
   "name": "python",
   "nbconvert_exporter": "python",
   "pygments_lexer": "ipython3",
   "version": "3.10.6"
  },
  "orig_nbformat": 4,
  "vscode": {
   "interpreter": {
    "hash": "3c882730db67e28db1e924ef806594fad4161f4a410f43aebd253948128b358f"
   }
  }
 },
 "nbformat": 4,
 "nbformat_minor": 2
}
