{
 "cells": [
  {
   "cell_type": "code",
   "execution_count": 5,
   "metadata": {},
   "outputs": [
    {
     "name": "stdout",
     "output_type": "stream",
     "text": [
      "(45000, 128)\n",
      "(45000, 10)\n",
      "(5000, 128)\n",
      "(5000, 10)\n",
      "(10000, 128)\n",
      "(10000, 10)\n"
     ]
    }
   ],
   "source": [
    "from algorithms import *\n",
    "from algorithms.MlpV2 import *\n",
    "data = Data()\n",
    "data.print_shapes()\n",
    "X_train = data.train_data\n",
    "y_train = data.train_label"
   ]
  },
  {
   "cell_type": "code",
   "execution_count": 6,
   "metadata": {},
   "outputs": [],
   "source": [
    "X_test = data.test_data\n",
    "y_test = data.test_label"
   ]
  },
  {
   "cell_type": "code",
   "execution_count": 7,
   "metadata": {},
   "outputs": [],
   "source": [
    "nn = MlpV2(learning_rate=0.01, batch_size= 64)\n",
    "nn.set_momentum(0.9)\n",
    "nn.set_batchNormalizer()\n",
    "nn.add_layer(128,64,\"relu\",1)\n",
    "nn.add_layer(64,32,\"relu\",1)\n",
    "nn.add_layer(32,10,\"softmax\",1)\n",
    "### Try different learning rate and epochs\n",
    "\n",
    "#print('loss:%f'%MSE[-1])"
   ]
  },
  {
   "cell_type": "code",
   "execution_count": 8,
   "metadata": {},
   "outputs": [
    {
     "data": {
      "text/plain": [
       "1.1688609442723896"
      ]
     },
     "execution_count": 8,
     "metadata": {},
     "output_type": "execute_result"
    }
   ],
   "source": [
    "X_train.std()"
   ]
  },
  {
   "cell_type": "code",
   "execution_count": 9,
   "metadata": {},
   "outputs": [
    {
     "name": "stdout",
     "output_type": "stream",
     "text": [
      "Epoch: 1  Training Loss: 2.1713914475733187  Time (sec): 2.705084800720215\n",
      "Epoch: 2  Training Loss: 1.9168518931184424  Time (sec): 2.357929229736328\n",
      "Epoch: 3  Training Loss: 1.8339863206112441  Time (sec): 2.4728991985321045\n",
      "Epoch: 4  Training Loss: 1.7832334100879765  Time (sec): 3.0636868476867676\n",
      "Epoch: 5  Training Loss: 1.7407575723665656  Time (sec): 2.0835320949554443\n",
      "Epoch: 6  Training Loss: 1.7073109546532794  Time (sec): 2.21567964553833\n",
      "Epoch: 7  Training Loss: 1.6777827431506593  Time (sec): 1.7549633979797363\n",
      "Epoch: 8  Training Loss: 1.653947867620072  Time (sec): 2.7121098041534424\n",
      "Epoch: 9  Training Loss: 1.628972716775714  Time (sec): 1.5159025192260742\n",
      "Epoch: 10  Training Loss: 1.6108406275379814  Time (sec): 2.072101593017578\n"
     ]
    },
    {
     "data": {
      "text/plain": [
       "array([2.17139145, 1.91685189, 1.83398632, 1.78323341, 1.74075757,\n",
       "       1.70731095, 1.67778274, 1.65394787, 1.62897272, 1.61084063])"
      ]
     },
     "execution_count": 9,
     "metadata": {},
     "output_type": "execute_result"
    }
   ],
   "source": [
    "nn.fit(X_train, y_train, epochs= 10)"
   ]
  },
  {
   "cell_type": "code",
   "execution_count": 10,
   "metadata": {},
   "outputs": [],
   "source": [
    "pred = nn.predict(X_test)"
   ]
  },
  {
   "cell_type": "code",
   "execution_count": 11,
   "metadata": {},
   "outputs": [
    {
     "data": {
      "text/plain": [
       "(10000, 10)"
      ]
     },
     "execution_count": 11,
     "metadata": {},
     "output_type": "execute_result"
    }
   ],
   "source": [
    "pred.shape"
   ]
  },
  {
   "cell_type": "code",
   "execution_count": 12,
   "metadata": {},
   "outputs": [],
   "source": [
    "p = np.argmax(pred, 1)"
   ]
  },
  {
   "cell_type": "code",
   "execution_count": 13,
   "metadata": {},
   "outputs": [
    {
     "name": "stdout",
     "output_type": "stream",
     "text": [
      "[5 9 8 8 4 6 3 6 5 1]\n"
     ]
    }
   ],
   "source": [
    "print(p[:10])"
   ]
  },
  {
   "cell_type": "code",
   "execution_count": 26,
   "metadata": {},
   "outputs": [
    {
     "data": {
      "text/plain": [
       "4714"
      ]
     },
     "execution_count": 26,
     "metadata": {},
     "output_type": "execute_result"
    }
   ],
   "source": [
    "sum(p == np.argmax(y_test, 1))"
   ]
  },
  {
   "cell_type": "code",
   "execution_count": null,
   "metadata": {},
   "outputs": [
    {
     "data": {
      "text/plain": [
       "array([0.87002005, 1.52524759, 1.18347009, ..., 1.61005482, 1.04959738,\n",
       "       0.81149064])"
      ]
     },
     "execution_count": 14,
     "metadata": {},
     "output_type": "execute_result"
    }
   ],
   "source": [
    "X_test.std(axis=1)"
   ]
  },
  {
   "cell_type": "code",
   "execution_count": null,
   "metadata": {},
   "outputs": [],
   "source": []
  }
 ],
 "metadata": {
  "kernelspec": {
   "display_name": "Python 3",
   "language": "python",
   "name": "python3"
  },
  "language_info": {
   "codemirror_mode": {
    "name": "ipython",
    "version": 3
   },
   "file_extension": ".py",
   "mimetype": "text/x-python",
   "name": "python",
   "nbconvert_exporter": "python",
   "pygments_lexer": "ipython3",
   "version": "3.11.2"
  },
  "vscode": {
   "interpreter": {
    "hash": "3c882730db67e28db1e924ef806594fad4161f4a410f43aebd253948128b358f"
   }
  }
 },
 "nbformat": 4,
 "nbformat_minor": 2
}
