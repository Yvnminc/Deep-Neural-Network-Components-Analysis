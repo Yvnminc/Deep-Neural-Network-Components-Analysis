{
 "cells": [
  {
   "cell_type": "code",
   "execution_count": 1,
   "metadata": {},
   "outputs": [
    {
     "name": "stdout",
     "output_type": "stream",
     "text": [
      "(45000, 128)\n",
      "(45000, 10)\n",
      "(5000, 128)\n",
      "(5000, 10)\n",
      "(10000, 128)\n",
      "(10000, 10)\n"
     ]
    },
    {
     "data": {
      "text/plain": [
       "array([[ 6.38510251e+00,  2.87491281e+00, -4.17390116e+00, ...,\n",
       "        -5.72647169e-01, -9.02093289e-02, -9.62730818e-02],\n",
       "       [ 5.60762337e-01,  1.36522773e+00,  1.04284125e+00, ...,\n",
       "        -3.13840470e-03, -2.91950581e-01,  5.19396513e-01],\n",
       "       [-7.10870314e-01, -8.55687427e-01, -9.26474801e-01, ...,\n",
       "        -7.47107796e-02,  1.46083832e-01,  1.10024894e-01],\n",
       "       ...,\n",
       "       [ 4.54113854e+00, -1.47564501e+00,  2.91616285e+00, ...,\n",
       "        -1.79495868e-01, -1.32077838e-01,  2.00913940e-01],\n",
       "       [-4.89172378e+00,  9.76358987e+00, -5.47746157e+00, ...,\n",
       "        -2.12921731e-01,  3.31234389e-01,  1.29401570e-01],\n",
       "       [ 3.47437575e+00,  1.83377429e+00,  1.62330126e+00, ...,\n",
       "         2.29916655e-01,  6.82301668e-01, -4.89841317e-02]])"
      ]
     },
     "execution_count": 1,
     "metadata": {},
     "output_type": "execute_result"
    }
   ],
   "source": [
    "from algorithms import *\n",
    "data = Data()\n",
    "data.print_shapes()\n",
    "data.get_train_data()"
   ]
  },
  {
   "cell_type": "code",
   "execution_count": 2,
   "metadata": {},
   "outputs": [],
   "source": [
    "nn = Mlp()\n",
    "nn.add_layer(128,512,\"relu\",1)\n",
    "nn.add_layer(512,512,\"relu\",1)\n",
    "nn.add_layer(512,10,\"softmax\",1)\n",
    "### Try different learning rate and epochs\n",
    "\n",
    "#print('loss:%f'%MSE[-1])"
   ]
  },
  {
   "cell_type": "code",
   "execution_count": 4,
   "metadata": {},
   "outputs": [],
   "source": [
    "f = nn.forward(data.get_train_data())"
   ]
  },
  {
   "cell_type": "code",
   "execution_count": 8,
   "metadata": {},
   "outputs": [
    {
     "data": {
      "text/plain": [
       "(45000, 10)"
      ]
     },
     "execution_count": 8,
     "metadata": {},
     "output_type": "execute_result"
    }
   ],
   "source": [
    "f.shape"
   ]
  },
  {
   "cell_type": "code",
   "execution_count": 15,
   "metadata": {},
   "outputs": [],
   "source": [
    "b = nn.backward(f)"
   ]
  },
  {
   "cell_type": "code",
   "execution_count": 17,
   "metadata": {},
   "outputs": [
    {
     "name": "stdout",
     "output_type": "stream",
     "text": [
      "None\n"
     ]
    }
   ],
   "source": [
    "print(b)"
   ]
  },
  {
   "cell_type": "code",
   "execution_count": null,
   "metadata": {},
   "outputs": [],
   "source": []
  }
 ],
 "metadata": {
  "kernelspec": {
   "display_name": "Python 3",
   "language": "python",
   "name": "python3"
  },
  "language_info": {
   "codemirror_mode": {
    "name": "ipython",
    "version": 3
   },
   "file_extension": ".py",
   "mimetype": "text/x-python",
   "name": "python",
   "nbconvert_exporter": "python",
   "pygments_lexer": "ipython3",
   "version": "3.10.6"
  },
  "vscode": {
   "interpreter": {
    "hash": "3c882730db67e28db1e924ef806594fad4161f4a410f43aebd253948128b358f"
   }
  }
 },
 "nbformat": 4,
 "nbformat_minor": 2
}
