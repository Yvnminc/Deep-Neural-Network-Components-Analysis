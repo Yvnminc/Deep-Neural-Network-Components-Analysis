{
 "cells": [
  {
   "cell_type": "code",
   "execution_count": 1,
   "metadata": {},
   "outputs": [
    {
     "name": "stdout",
     "output_type": "stream",
     "text": [
      "(45000, 128)\n",
      "(45000, 10)\n",
      "(5000, 128)\n",
      "(5000, 10)\n",
      "(10000, 128)\n",
      "(10000, 10)\n"
     ]
    }
   ],
   "source": [
    "from algorithms import *\n",
    "data = Data()\n",
    "data.print_shapes()\n",
    "X = data.train_data\n",
    "y = data.train_label"
   ]
  },
  {
   "cell_type": "code",
   "execution_count": 4,
   "metadata": {},
   "outputs": [],
   "source": [
    "nn = Mlp(batch_size= 50)\n",
    "nn.set_momentum(1)\n",
    "nn.set_batchNormalizer()\n",
    "nn.add_layer(128,100,\"relu\",1)\n",
    "nn.add_layer(100,20,\"relu\",1)\n",
    "nn.add_layer(20,10,\"softmax\",1)\n",
    "### Try different learning rate and epochs\n",
    "\n",
    "#print('loss:%f'%MSE[-1])"
   ]
  },
  {
   "cell_type": "code",
   "execution_count": 5,
   "metadata": {},
   "outputs": [
    {
     "name": "stdout",
     "output_type": "stream",
     "text": [
      "1\n",
      "2.4541812037887714\n",
      "10.032598972320557\n",
      "2\n",
      "2.3035645975648973\n",
      "9.58021092414856\n",
      "3\n",
      "2.3030081299262806\n",
      "8.45450210571289\n",
      "4\n",
      "2.302796669106364\n",
      "9.39063310623169\n",
      "5\n",
      "2.302712142774601\n",
      "10.062818050384521\n"
     ]
    },
    {
     "data": {
      "text/plain": [
       "array([2.4541812 , 2.3035646 , 2.30300813, 2.30279667, 2.30271214])"
      ]
     },
     "execution_count": 5,
     "metadata": {},
     "output_type": "execute_result"
    }
   ],
   "source": [
    "nn.fit(data.train_data, data.train_label, epochs= 5)"
   ]
  },
  {
   "cell_type": "code",
   "execution_count": null,
   "metadata": {},
   "outputs": [],
   "source": []
  },
  {
   "cell_type": "code",
   "execution_count": null,
   "metadata": {},
   "outputs": [],
   "source": []
  }
 ],
 "metadata": {
  "kernelspec": {
   "display_name": "Python 3",
   "language": "python",
   "name": "python3"
  },
  "language_info": {
   "codemirror_mode": {
    "name": "ipython",
    "version": 3
   },
   "file_extension": ".py",
   "mimetype": "text/x-python",
   "name": "python",
   "nbconvert_exporter": "python",
   "pygments_lexer": "ipython3",
   "version": "3.10.6"
  },
  "vscode": {
   "interpreter": {
    "hash": "3c882730db67e28db1e924ef806594fad4161f4a410f43aebd253948128b358f"
   }
  }
 },
 "nbformat": 4,
 "nbformat_minor": 2
}
