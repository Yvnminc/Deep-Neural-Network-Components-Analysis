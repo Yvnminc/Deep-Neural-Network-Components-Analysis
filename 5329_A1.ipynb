{
 "cells": [
  {
   "cell_type": "code",
   "execution_count": 1,
   "metadata": {},
   "outputs": [
    {
     "name": "stdout",
     "output_type": "stream",
     "text": [
      "(45000, 128)\n",
      "(45000, 10)\n",
      "(5000, 128)\n",
      "(5000, 10)\n",
      "(10000, 128)\n",
      "(10000, 10)\n"
     ]
    },
    {
     "data": {
      "text/plain": [
       "array([[ 3.68662686e+00,  1.22370877e+01, -4.66937842e+00, ...,\n",
       "         1.49054843e-02, -2.01971927e-01, -2.88275807e-01],\n",
       "       [-1.54144056e+01, -3.28692043e-01,  1.41751013e+00, ...,\n",
       "         1.93654430e-01, -1.42356755e-01,  2.72401424e-01],\n",
       "       [-3.42266377e-02, -1.17951855e+00, -3.02355992e+00, ...,\n",
       "         1.33781941e-01, -3.52772095e-01,  4.49733891e-01],\n",
       "       ...,\n",
       "       [-7.15850219e+00,  2.55430285e-01,  2.26017358e+00, ...,\n",
       "        -1.88720059e-01,  3.09841703e-01,  2.86594412e-01],\n",
       "       [-3.99504499e+00, -5.72320677e+00, -6.02325161e+00, ...,\n",
       "         1.84969394e-01, -1.82564893e-02, -1.42322044e-01],\n",
       "       [ 5.86134715e+00,  7.68895778e-02,  1.05269219e+00, ...,\n",
       "        -1.75783837e-01,  5.65472227e-03, -4.48227819e-01]])"
      ]
     },
     "execution_count": 1,
     "metadata": {},
     "output_type": "execute_result"
    }
   ],
   "source": [
    "from algorithms import *\n",
    "data = Data()\n",
    "data.print_shapes()\n",
    "data.get_train_data()"
   ]
  },
  {
   "cell_type": "code",
   "execution_count": 2,
   "metadata": {},
   "outputs": [],
   "source": [
    "nn = Mlp()\n",
    "nn.add_layer(128,512,\"relu\",1)\n",
    "nn.add_layer(512,512,\"relu\",1)\n",
    "nn.add_layer(512,10,\"softmax\",1)\n",
    "### Try different learning rate and epochs\n",
    "\n",
    "#print('loss:%f'%MSE[-1])"
   ]
  },
  {
   "cell_type": "code",
   "execution_count": 3,
   "metadata": {},
   "outputs": [],
   "source": [
    "f = nn.forward(data.get_train_data())"
   ]
  },
  {
   "cell_type": "code",
   "execution_count": 4,
   "metadata": {},
   "outputs": [
    {
     "data": {
      "text/plain": [
       "(45000, 10)"
      ]
     },
     "execution_count": 4,
     "metadata": {},
     "output_type": "execute_result"
    }
   ],
   "source": [
    "f.shape"
   ]
  },
  {
   "cell_type": "code",
   "execution_count": 5,
   "metadata": {},
   "outputs": [],
   "source": [
    "b = nn.backward(f)"
   ]
  },
  {
   "cell_type": "code",
   "execution_count": 6,
   "metadata": {},
   "outputs": [
    {
     "ename": "ValueError",
     "evalue": "all the input array dimensions for the concatenation axis must match exactly, but along dimension 1, the array at index 0 has size 128 and the array at index 1 has size 10",
     "output_type": "error",
     "traceback": [
      "\u001b[0;31m---------------------------------------------------------------------------\u001b[0m",
      "\u001b[0;31mValueError\u001b[0m                                Traceback (most recent call last)",
      "\u001b[1;32m/Users/yann/Desktop/COMP5329_A1/5329_A1.ipynb Cell 6\u001b[0m in \u001b[0;36m1\n\u001b[0;32m----> <a href='vscode-notebook-cell:/Users/yann/Desktop/COMP5329_A1/5329_A1.ipynb#X15sZmlsZQ%3D%3D?line=0'>1</a>\u001b[0m nn\u001b[39m.\u001b[39;49mfit(data\u001b[39m.\u001b[39;49mtrain_data, data\u001b[39m.\u001b[39;49mtrain_label, epochs\u001b[39m=\u001b[39;49m \u001b[39m1\u001b[39;49m)\n",
      "File \u001b[0;32m~/Desktop/COMP5329_A1/algorithms/Mlp.py:154\u001b[0m, in \u001b[0;36mMlp.fit\u001b[0;34m(self, X, y, epochs)\u001b[0m\n\u001b[1;32m    151\u001b[0m to_return \u001b[39m=\u001b[39m np\u001b[39m.\u001b[39mzeros(epochs)\n\u001b[1;32m    153\u001b[0m \u001b[39mfor\u001b[39;00m k \u001b[39min\u001b[39;00m \u001b[39mrange\u001b[39m(epochs):\n\u001b[0;32m--> 154\u001b[0m     batches \u001b[39m=\u001b[39m \u001b[39mself\u001b[39;49m\u001b[39m.\u001b[39;49mbatch\u001b[39m.\u001b[39;49mget_batch(X, y, \u001b[39mself\u001b[39;49m\u001b[39m.\u001b[39;49mbatch_size)\n\u001b[1;32m    155\u001b[0m     loss \u001b[39m=\u001b[39m np\u001b[39m.\u001b[39mzeros(\u001b[39mlen\u001b[39m(batches))\n\u001b[1;32m    156\u001b[0m     index \u001b[39m=\u001b[39m \u001b[39m0\u001b[39m\n",
      "File \u001b[0;32m~/Desktop/COMP5329_A1/algorithms/MiniBatchTraining.py:20\u001b[0m, in \u001b[0;36mMiniBatch.get_batch\u001b[0;34m(self, X, Y, batch_size)\u001b[0m\n\u001b[1;32m     13\u001b[0m \u001b[39m\"\"\"\u001b[39;00m\n\u001b[1;32m     14\u001b[0m \u001b[39mDivide data into batches.\u001b[39;00m\n\u001b[1;32m     15\u001b[0m \u001b[39m:param X: Input data or features, assume with shape (n_features, n_examples)\u001b[39;00m\n\u001b[1;32m     16\u001b[0m \u001b[39m:param Y: Input targets, assume with the shape (n_classes, n_example)\u001b[39;00m\n\u001b[1;32m     17\u001b[0m \u001b[39m:param batch_size: a hyperparameter that defines the size of a batch\u001b[39;00m\n\u001b[1;32m     18\u001b[0m \u001b[39m\"\"\"\u001b[39;00m\n\u001b[1;32m     19\u001b[0m mini_batches \u001b[39m=\u001b[39m []\n\u001b[0;32m---> 20\u001b[0m data \u001b[39m=\u001b[39m np\u001b[39m.\u001b[39;49mvstack((X, Y))\n\u001b[1;32m     21\u001b[0m np\u001b[39m.\u001b[39mrandom\u001b[39m.\u001b[39mshuffle(data)\n\u001b[1;32m     22\u001b[0m num_batches \u001b[39m=\u001b[39m X\u001b[39m.\u001b[39mshape[\u001b[39m0\u001b[39m] \u001b[39m/\u001b[39m\u001b[39m/\u001b[39m batch_size\n",
      "File \u001b[0;32m<__array_function__ internals>:180\u001b[0m, in \u001b[0;36mvstack\u001b[0;34m(*args, **kwargs)\u001b[0m\n",
      "File \u001b[0;32m~/.pyenv/versions/3.10.6/lib/python3.10/site-packages/numpy/core/shape_base.py:282\u001b[0m, in \u001b[0;36mvstack\u001b[0;34m(tup)\u001b[0m\n\u001b[1;32m    280\u001b[0m \u001b[39mif\u001b[39;00m \u001b[39mnot\u001b[39;00m \u001b[39misinstance\u001b[39m(arrs, \u001b[39mlist\u001b[39m):\n\u001b[1;32m    281\u001b[0m     arrs \u001b[39m=\u001b[39m [arrs]\n\u001b[0;32m--> 282\u001b[0m \u001b[39mreturn\u001b[39;00m _nx\u001b[39m.\u001b[39;49mconcatenate(arrs, \u001b[39m0\u001b[39;49m)\n",
      "File \u001b[0;32m<__array_function__ internals>:180\u001b[0m, in \u001b[0;36mconcatenate\u001b[0;34m(*args, **kwargs)\u001b[0m\n",
      "\u001b[0;31mValueError\u001b[0m: all the input array dimensions for the concatenation axis must match exactly, but along dimension 1, the array at index 0 has size 128 and the array at index 1 has size 10"
     ]
    }
   ],
   "source": [
    "nn.fit(data.train_data, data.train_label, epochs= 1)"
   ]
  },
  {
   "cell_type": "code",
   "execution_count": null,
   "metadata": {},
   "outputs": [],
   "source": []
  }
 ],
 "metadata": {
  "kernelspec": {
   "display_name": "Python 3",
   "language": "python",
   "name": "python3"
  },
  "language_info": {
   "codemirror_mode": {
    "name": "ipython",
    "version": 3
   },
   "file_extension": ".py",
   "mimetype": "text/x-python",
   "name": "python",
   "nbconvert_exporter": "python",
   "pygments_lexer": "ipython3",
   "version": "3.10.6"
  },
  "vscode": {
   "interpreter": {
    "hash": "3c882730db67e28db1e924ef806594fad4161f4a410f43aebd253948128b358f"
   }
  }
 },
 "nbformat": 4,
 "nbformat_minor": 2
}
