{
 "cells": [
  {
   "cell_type": "code",
   "execution_count": 1,
   "metadata": {},
   "outputs": [
    {
     "name": "stdout",
     "output_type": "stream",
     "text": [
      "(45000, 128)\n",
      "(45000, 10)\n",
      "(5000, 128)\n",
      "(5000, 10)\n",
      "(10000, 128)\n",
      "(10000, 10)\n"
     ]
    }
   ],
   "source": [
    "from algorithms import *\n",
    "data = Data()\n",
    "data.print_shapes()"
   ]
  },
  {
   "cell_type": "code",
   "execution_count": 2,
   "metadata": {},
   "outputs": [
    {
     "ename": "UnboundLocalError",
     "evalue": "local variable 'output' referenced before assignment",
     "output_type": "error",
     "traceback": [
      "\u001b[0;31m---------------------------------------------------------------------------\u001b[0m",
      "\u001b[0;31mUnboundLocalError\u001b[0m                         Traceback (most recent call last)",
      "\u001b[1;32m/Users/yann/Desktop/COMP5329_A1/5329_A1.ipynb Cell 2\u001b[0m in \u001b[0;36m3\n\u001b[1;32m      <a href='vscode-notebook-cell:/Users/yann/Desktop/COMP5329_A1/5329_A1.ipynb#W1sZmlsZQ%3D%3D?line=0'>1</a>\u001b[0m nn \u001b[39m=\u001b[39m Mlp([\u001b[39m128\u001b[39m,\u001b[39m64\u001b[39m,\u001b[39m1\u001b[39m], [\u001b[39m'\u001b[39m\u001b[39mrelu\u001b[39m\u001b[39m'\u001b[39m,\u001b[39m'\u001b[39m\u001b[39mtanh\u001b[39m\u001b[39m'\u001b[39m,\u001b[39m'\u001b[39m\u001b[39mrelu\u001b[39m\u001b[39m'\u001b[39m])\n\u001b[1;32m      <a href='vscode-notebook-cell:/Users/yann/Desktop/COMP5329_A1/5329_A1.ipynb#W1sZmlsZQ%3D%3D?line=1'>2</a>\u001b[0m \u001b[39m### Try different learning rate and epochs\u001b[39;00m\n\u001b[0;32m----> <a href='vscode-notebook-cell:/Users/yann/Desktop/COMP5329_A1/5329_A1.ipynb#W1sZmlsZQ%3D%3D?line=2'>3</a>\u001b[0m MSE \u001b[39m=\u001b[39m nn\u001b[39m.\u001b[39;49mfit(data\u001b[39m.\u001b[39;49mtrain_data, data\u001b[39m.\u001b[39;49mtrain_label, learning_rate\u001b[39m=\u001b[39;49m\u001b[39m0.001\u001b[39;49m, epochs\u001b[39m=\u001b[39;49m\u001b[39m1\u001b[39;49m)\n\u001b[1;32m      <a href='vscode-notebook-cell:/Users/yann/Desktop/COMP5329_A1/5329_A1.ipynb#W1sZmlsZQ%3D%3D?line=3'>4</a>\u001b[0m \u001b[39mprint\u001b[39m(\u001b[39m'\u001b[39m\u001b[39mloss:\u001b[39m\u001b[39m%f\u001b[39;00m\u001b[39m'\u001b[39m\u001b[39m%\u001b[39mMSE[\u001b[39m-\u001b[39m\u001b[39m1\u001b[39m])\n",
      "File \u001b[0;32m~/Desktop/COMP5329_A1/algorithms/Mlp.py:165\u001b[0m, in \u001b[0;36mMlp.fit\u001b[0;34m(self, X, y, learning_rate, epochs)\u001b[0m\n\u001b[1;32m    162\u001b[0m i\u001b[39m=\u001b[39mnp\u001b[39m.\u001b[39mrandom\u001b[39m.\u001b[39mrandint(X\u001b[39m.\u001b[39mshape[\u001b[39m0\u001b[39m])\n\u001b[1;32m    164\u001b[0m \u001b[39m# forward pass\u001b[39;00m\n\u001b[0;32m--> 165\u001b[0m y_hat \u001b[39m=\u001b[39m \u001b[39mself\u001b[39;49m\u001b[39m.\u001b[39;49mforward(X[i])\n\u001b[1;32m    167\u001b[0m \u001b[39m# backward pass\u001b[39;00m\n\u001b[1;32m    168\u001b[0m \u001b[39m# loss[it],delta=self.criterion_MSE(y[i],y_hat)\u001b[39;00m\n\u001b[1;32m    170\u001b[0m loss[it],delta\u001b[39m=\u001b[39m \u001b[39mself\u001b[39m\u001b[39m.\u001b[39mcriterion_loss(y[i],y_hat)\n",
      "File \u001b[0;32m~/Desktop/COMP5329_A1/algorithms/Mlp.py:115\u001b[0m, in \u001b[0;36mMlp.forward\u001b[0;34m(self, my_input, train_mode)\u001b[0m\n\u001b[1;32m    113\u001b[0m     output \u001b[39m=\u001b[39m layer\u001b[39m.\u001b[39mforward(my_input, regularizer \u001b[39m=\u001b[39m \u001b[39mself\u001b[39m\u001b[39m.\u001b[39mregularizer, mode \u001b[39m=\u001b[39m train_mode)\n\u001b[1;32m    114\u001b[0m     my_input \u001b[39m=\u001b[39m output\n\u001b[0;32m--> 115\u001b[0m \u001b[39mreturn\u001b[39;00m output\n",
      "\u001b[0;31mUnboundLocalError\u001b[0m: local variable 'output' referenced before assignment"
     ]
    }
   ],
   "source": [
    "nn = Mlp([128,64,1], ['relu','tanh','relu'])\n",
    "### Try different learning rate and epochs\n",
    "MSE = nn.fit(data.train_data, data.train_label, learning_rate=0.001, epochs=1)\n",
    "print('loss:%f'%MSE[-1])"
   ]
  }
 ],
 "metadata": {
  "kernelspec": {
   "display_name": "Python 3",
   "language": "python",
   "name": "python3"
  },
  "language_info": {
   "codemirror_mode": {
    "name": "ipython",
    "version": 3
   },
   "file_extension": ".py",
   "mimetype": "text/x-python",
   "name": "python",
   "nbconvert_exporter": "python",
   "pygments_lexer": "ipython3",
   "version": "3.10.6"
  },
  "vscode": {
   "interpreter": {
    "hash": "3c882730db67e28db1e924ef806594fad4161f4a410f43aebd253948128b358f"
   }
  }
 },
 "nbformat": 4,
 "nbformat_minor": 2
}
