{
 "cells": [
  {
   "cell_type": "code",
   "execution_count": 1,
   "metadata": {},
   "outputs": [
    {
     "name": "stdout",
     "output_type": "stream",
     "text": [
      "Epoch: 1  Training Loss: 2.0507931344086137  Time (sec): 7.516357183456421\n",
      "Epoch: 2  Training Loss: 1.743045510550357  Time (sec): 7.8214240074157715\n",
      "Epoch: 1  Training Loss: 2.0193014253786346  Time (sec): 7.502276182174683\n",
      "Epoch: 2  Training Loss: 1.8243755953651983  Time (sec): 8.209578275680542\n"
     ]
    },
    {
     "data": {
      "text/html": [
       "<div>\n",
       "<style scoped>\n",
       "    .dataframe tbody tr th:only-of-type {\n",
       "        vertical-align: middle;\n",
       "    }\n",
       "\n",
       "    .dataframe tbody tr th {\n",
       "        vertical-align: top;\n",
       "    }\n",
       "\n",
       "    .dataframe thead th {\n",
       "        text-align: right;\n",
       "    }\n",
       "</style>\n",
       "<table border=\"1\" class=\"dataframe\">\n",
       "  <thead>\n",
       "    <tr style=\"text-align: right;\">\n",
       "      <th></th>\n",
       "      <th>Hyperparameters</th>\n",
       "      <th>loss</th>\n",
       "      <th>train_acc</th>\n",
       "      <th>valid_acc</th>\n",
       "      <th>train_precision</th>\n",
       "      <th>valid_precision</th>\n",
       "      <th>train_recall</th>\n",
       "      <th>valid_recall</th>\n",
       "      <th>train_f1</th>\n",
       "      <th>valid_f1</th>\n",
       "      <th>times</th>\n",
       "    </tr>\n",
       "  </thead>\n",
       "  <tbody>\n",
       "    <tr>\n",
       "      <th>0</th>\n",
       "      <td>relu</td>\n",
       "      <td>[2.0507931344086137, 1.743045510550357]</td>\n",
       "      <td>0.428356</td>\n",
       "      <td>0.4058</td>\n",
       "      <td>0.42309</td>\n",
       "      <td>0.400005</td>\n",
       "      <td>0.428435</td>\n",
       "      <td>0.405290</td>\n",
       "      <td>0.423414</td>\n",
       "      <td>0.400584</td>\n",
       "      <td>15.339305</td>\n",
       "    </tr>\n",
       "    <tr>\n",
       "      <th>1</th>\n",
       "      <td>tanh</td>\n",
       "      <td>[2.0193014253786346, 1.8243755953651983]</td>\n",
       "      <td>0.398689</td>\n",
       "      <td>0.3754</td>\n",
       "      <td>0.39437</td>\n",
       "      <td>0.370719</td>\n",
       "      <td>0.398812</td>\n",
       "      <td>0.374766</td>\n",
       "      <td>0.393241</td>\n",
       "      <td>0.370063</td>\n",
       "      <td>15.713014</td>\n",
       "    </tr>\n",
       "  </tbody>\n",
       "</table>\n",
       "</div>"
      ],
      "text/plain": [
       "  Hyperparameters                                      loss  train_acc  \\\n",
       "0            relu   [2.0507931344086137, 1.743045510550357]   0.428356   \n",
       "1            tanh  [2.0193014253786346, 1.8243755953651983]   0.398689   \n",
       "\n",
       "   valid_acc  train_precision  valid_precision  train_recall  valid_recall  \\\n",
       "0     0.4058          0.42309         0.400005      0.428435      0.405290   \n",
       "1     0.3754          0.39437         0.370719      0.398812      0.374766   \n",
       "\n",
       "   train_f1  valid_f1      times  \n",
       "0  0.423414  0.400584  15.339305  \n",
       "1  0.393241  0.370063  15.713014  "
      ]
     },
     "execution_count": 1,
     "metadata": {},
     "output_type": "execute_result"
    }
   ],
   "source": [
    "from algorithms import Evals\n",
    "\n",
    "# Setup activation experiment\n",
    "activaitons = ['relu', 'tanh'] #, 'logistic', 'leaky_relu', 'elu']\n",
    "nns, hyperparams = Evals.set_exp(activaitons, exp_name = \"activation\")\n",
    "eval_batch_df = Evals.run_exp(nns= nns, hyperparams= hyperparams, epochs= 2)\n",
    "eval_batch_df"
   ]
  },
  {
   "cell_type": "code",
   "execution_count": null,
   "metadata": {},
   "outputs": [],
   "source": [
    "Evals.plot_train_valid_acc_bar(eval_df= eval_batch_df)"
   ]
  }
 ],
 "metadata": {
  "kernelspec": {
   "display_name": "Python 3",
   "language": "python",
   "name": "python3"
  },
  "language_info": {
   "codemirror_mode": {
    "name": "ipython",
    "version": 3
   },
   "file_extension": ".py",
   "mimetype": "text/x-python",
   "name": "python",
   "nbconvert_exporter": "python",
   "pygments_lexer": "ipython3",
   "version": "3.10.6"
  },
  "orig_nbformat": 4
 },
 "nbformat": 4,
 "nbformat_minor": 2
}
