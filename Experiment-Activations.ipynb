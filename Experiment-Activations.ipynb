{
 "cells": [
  {
   "cell_type": "code",
   "execution_count": 2,
   "metadata": {},
   "outputs": [
    {
     "name": "stdout",
     "output_type": "stream",
     "text": [
      "(45000, 128)\n",
      "(45000, 10)\n",
      "(5000, 128)\n",
      "(5000, 10)\n",
      "(10000, 128)\n",
      "(10000, 10)\n"
     ]
    }
   ],
   "source": [
    "from algorithms import *\n",
    "from algorithms.MlpV2 import *\n",
    "data = Data()\n",
    "data.print_shapes()\n",
    "X_train = data.train_data\n",
    "y_train = data.train_label"
   ]
  },
  {
   "cell_type": "code",
   "execution_count": 3,
   "metadata": {},
   "outputs": [],
   "source": [
    "X_test = data.test_data\n",
    "y_test = data.test_label"
   ]
  },
  {
   "cell_type": "code",
   "execution_count": 7,
   "metadata": {},
   "outputs": [],
   "source": [
    "activations = [\"relu\", \"logistic\", \"tanh\", \"leaky_relu\", \"swish\", \"gelu\", \"elu\"]\n",
    "lr = 0.1\n",
    "loss = []\n",
    "train_acc = []\n",
    "test_acc = []\n",
    "train_precision = []\n",
    "test_precision = []\n",
    "train_recall = []\n",
    "test_recall = []\n",
    "train_f1 = []\n",
    "test_f1 = []"
   ]
  },
  {
   "cell_type": "code",
   "execution_count": 8,
   "metadata": {},
   "outputs": [
    {
     "name": "stdout",
     "output_type": "stream",
     "text": [
      "Epoch: 1  Training Loss: 1.8026439958840028  Time (sec): 13.220166206359863\n",
      "Epoch: 2  Training Loss: 1.5471248041676842  Time (sec): 16.270312786102295\n"
     ]
    },
    {
     "ename": "KeyboardInterrupt",
     "evalue": "",
     "output_type": "error",
     "traceback": [
      "\u001b[0;31m---------------------------------------------------------------------------\u001b[0m",
      "\u001b[0;31mKeyboardInterrupt\u001b[0m                         Traceback (most recent call last)",
      "\u001b[1;32m/Users/yann/Desktop/COMP5329_A1/Experiment-Activations.ipynb Cell 4\u001b[0m in \u001b[0;36m1\n\u001b[1;32m     <a href='vscode-notebook-cell:/Users/yann/Desktop/COMP5329_A1/Experiment-Activations.ipynb#W2sZmlsZQ%3D%3D?line=9'>10</a>\u001b[0m nn\u001b[39m.\u001b[39madd_layer(\u001b[39m128\u001b[39m,\u001b[39m64\u001b[39m,activation,\u001b[39m1\u001b[39m)\n\u001b[1;32m     <a href='vscode-notebook-cell:/Users/yann/Desktop/COMP5329_A1/Experiment-Activations.ipynb#W2sZmlsZQ%3D%3D?line=10'>11</a>\u001b[0m nn\u001b[39m.\u001b[39madd_layer(\u001b[39m64\u001b[39m,\u001b[39m10\u001b[39m,\u001b[39m\"\u001b[39m\u001b[39msoftmax\u001b[39m\u001b[39m\"\u001b[39m,\u001b[39m1\u001b[39m)\n\u001b[0;32m---> <a href='vscode-notebook-cell:/Users/yann/Desktop/COMP5329_A1/Experiment-Activations.ipynb#W2sZmlsZQ%3D%3D?line=12'>13</a>\u001b[0m train_loss \u001b[39m=\u001b[39m nn\u001b[39m.\u001b[39;49mfit(X_train, y_train, epochs\u001b[39m=\u001b[39;49m\u001b[39m50\u001b[39;49m)\n\u001b[1;32m     <a href='vscode-notebook-cell:/Users/yann/Desktop/COMP5329_A1/Experiment-Activations.ipynb#W2sZmlsZQ%3D%3D?line=13'>14</a>\u001b[0m loss\u001b[39m.\u001b[39mappend(train_loss)\n\u001b[1;32m     <a href='vscode-notebook-cell:/Users/yann/Desktop/COMP5329_A1/Experiment-Activations.ipynb#W2sZmlsZQ%3D%3D?line=15'>16</a>\u001b[0m acc \u001b[39m=\u001b[39m nn\u001b[39m.\u001b[39mevaluate(X_train, y_train)\n",
      "File \u001b[0;32m~/Desktop/COMP5329_A1/algorithms/MlpV2.py:171\u001b[0m, in \u001b[0;36mMlpV2.fit\u001b[0;34m(self, X, y, epochs)\u001b[0m\n\u001b[1;32m    169\u001b[0m \u001b[39mfor\u001b[39;00m k \u001b[39min\u001b[39;00m \u001b[39mrange\u001b[39m(epochs):\n\u001b[1;32m    170\u001b[0m     time_start \u001b[39m=\u001b[39m time\u001b[39m.\u001b[39mtime()\n\u001b[0;32m--> 171\u001b[0m     \u001b[39mself\u001b[39;49m\u001b[39m.\u001b[39;49mbatch\u001b[39m.\u001b[39;49mfit(\u001b[39mself\u001b[39;49m, size \u001b[39m=\u001b[39;49m \u001b[39mself\u001b[39;49m\u001b[39m.\u001b[39;49mbatch_size)\n\u001b[1;32m    172\u001b[0m     \u001b[39m#get mean loss of all batch losses\u001b[39;00m\n\u001b[1;32m    173\u001b[0m     \u001b[39m#print(self.batch.loss)\u001b[39;00m\n\u001b[1;32m    174\u001b[0m     mean_loss_train \u001b[39m=\u001b[39m np\u001b[39m.\u001b[39mmean(\u001b[39mself\u001b[39m\u001b[39m.\u001b[39mbatch\u001b[39m.\u001b[39mgetLoss())\n",
      "File \u001b[0;32m~/Desktop/COMP5329_A1/algorithms/MiniBatchTrainingV2.py:76\u001b[0m, in \u001b[0;36mMiniBatchV2.fit\u001b[0;34m(self, model, size)\u001b[0m\n\u001b[1;32m     72\u001b[0m mini_X \u001b[39m=\u001b[39m shuff_X[start:end,:]\n\u001b[1;32m     73\u001b[0m mini_Y \u001b[39m=\u001b[39m shuff_Y[start:end,:]\n\u001b[0;32m---> 76\u001b[0m mini_Y_hat \u001b[39m=\u001b[39m model\u001b[39m.\u001b[39;49mforward(mini_X, mode \u001b[39m=\u001b[39;49m \u001b[39mTrue\u001b[39;49;00m)\n\u001b[1;32m     77\u001b[0m \u001b[39mif\u001b[39;00m model\u001b[39m.\u001b[39mregularizer \u001b[39mis\u001b[39;00m \u001b[39mnot\u001b[39;00m \u001b[39mNone\u001b[39;00m:\n\u001b[1;32m     78\u001b[0m     \u001b[39mself\u001b[39m\u001b[39m.\u001b[39mloss\u001b[39m.\u001b[39mappend( model\u001b[39m.\u001b[39mcriterion_cross_entropy(mini_Y, mini_Y_hat)[\u001b[39m0\u001b[39m] \u001b[39m+\u001b[39m model\u001b[39m.\u001b[39mregularizer\u001b[39m.\u001b[39mget_reg_loss(\u001b[39mself\u001b[39m\u001b[39m.\u001b[39mm))\n",
      "File \u001b[0;32m~/Desktop/COMP5329_A1/algorithms/MlpV2.py:104\u001b[0m, in \u001b[0;36mMlpV2.forward\u001b[0;34m(self, input, mode)\u001b[0m\n\u001b[1;32m    100\u001b[0m     \u001b[39mself\u001b[39m\u001b[39m.\u001b[39mregularizer\u001b[39m.\u001b[39mreset()   \n\u001b[1;32m    102\u001b[0m \u001b[39mfor\u001b[39;00m layer \u001b[39min\u001b[39;00m \u001b[39mself\u001b[39m\u001b[39m.\u001b[39mlayers:\n\u001b[1;32m    103\u001b[0m     \u001b[39m#print(input.shape)\u001b[39;00m\n\u001b[0;32m--> 104\u001b[0m     output \u001b[39m=\u001b[39m layer\u001b[39m.\u001b[39;49mforward(\u001b[39minput\u001b[39;49m, regularizer\u001b[39m=\u001b[39;49m\u001b[39mself\u001b[39;49m\u001b[39m.\u001b[39;49mregularizer, train_mode\u001b[39m=\u001b[39;49mmode)\n\u001b[1;32m    105\u001b[0m     \u001b[39minput\u001b[39m \u001b[39m=\u001b[39m output\n\u001b[1;32m    106\u001b[0m \u001b[39mreturn\u001b[39;00m output\n",
      "File \u001b[0;32m~/Desktop/COMP5329_A1/algorithms/HiddenLayer.py:94\u001b[0m, in \u001b[0;36mHiddenLayer.forward\u001b[0;34m(self, input, train_mode, regularizer)\u001b[0m\n\u001b[1;32m     91\u001b[0m \u001b[39m#print(\"n_node\", self.n_in)\u001b[39;00m\n\u001b[1;32m     92\u001b[0m \u001b[39m#print(\"input\",input.shape)\u001b[39;00m\n\u001b[1;32m     93\u001b[0m \u001b[39mself\u001b[39m\u001b[39m.\u001b[39minput \u001b[39m=\u001b[39m \u001b[39minput\u001b[39m\n\u001b[0;32m---> 94\u001b[0m \u001b[39mself\u001b[39m\u001b[39m.\u001b[39mz \u001b[39m=\u001b[39m np\u001b[39m.\u001b[39;49mdot(\u001b[39minput\u001b[39;49m, \u001b[39mself\u001b[39;49m\u001b[39m.\u001b[39;49mW) \u001b[39m+\u001b[39m \u001b[39mself\u001b[39m\u001b[39m.\u001b[39mb\n\u001b[1;32m     95\u001b[0m \u001b[39m#print(\"z\",self.z.shape)\u001b[39;00m\n\u001b[1;32m     96\u001b[0m \n\u001b[1;32m     97\u001b[0m \u001b[39m#print(\"w\",self.W.shape)\u001b[39;00m\n\u001b[1;32m     98\u001b[0m \u001b[39m# batch normalization\u001b[39;00m\n\u001b[1;32m     99\u001b[0m \u001b[39mif\u001b[39;00m \u001b[39mself\u001b[39m\u001b[39m.\u001b[39mbatchNormalizer \u001b[39mis\u001b[39;00m \u001b[39mnot\u001b[39;00m \u001b[39mNone\u001b[39;00m:\n",
      "File \u001b[0;32m<__array_function__ internals>:180\u001b[0m, in \u001b[0;36mdot\u001b[0;34m(*args, **kwargs)\u001b[0m\n",
      "\u001b[0;31mKeyboardInterrupt\u001b[0m: "
     ]
    }
   ],
   "source": [
    "from sklearn.metrics import precision_score, recall_score, f1_score\n",
    "\n",
    "for activation in activations:\n",
    "    nn = MlpV2(learning_rate = lr, batch_size = 256)\n",
    "    nn.set_optimiser(opt_type='Momentum', params = [0.9])\n",
    "    nn.set_batchNormalizer()\n",
    "    nn.add_layer(128,512,activation,1)\n",
    "    nn.add_layer(512,256,activation,1)\n",
    "    nn.add_layer(256,128,activation,1)\n",
    "    nn.add_layer(128,64,activation,1)\n",
    "    nn.add_layer(64,10,\"softmax\",1)\n",
    "\n",
    "    train_loss = nn.fit(X_train, y_train, epochs=50)\n",
    "    loss.append(train_loss)\n",
    "\n",
    "    acc = nn.evaluate(X_train, y_train)\n",
    "    train_acc.append(acc)\n",
    "\n",
    "    t_acc = nn.evaluate(X_test, y_test)\n",
    "    test_acc.append(t_acc)\n",
    "    \n",
    "    y_pred_train = np.argmax(nn.predict(X_train), axis=1)\n",
    "    y_train_transformed = np.argmax(y_train, axis=1)\n",
    "    y_pred_test = np.argmax(nn.predict(X_test), axis=1)\n",
    "    y_test_transformed = np.argmax(y_test, axis=1)\n",
    "    \n",
    "    precision = precision_score(y_train_transformed, y_pred_train, average='macro')\n",
    "    recall = recall_score(y_train_transformed, y_pred_train, average='macro')\n",
    "    f1 = f1_score(y_train_transformed, y_pred_train, average='macro')\n",
    "    \n",
    "    train_precision.append(precision)\n",
    "    train_recall.append(recall)\n",
    "    train_f1.append(f1)\n",
    "    \n",
    "    t_precision = precision_score(y_test_transformed, y_pred_test, average='macro')\n",
    "    t_recall = recall_score(y_test_transformed, y_pred_test, average='macro')\n",
    "    t_f1 = f1_score(y_test_transformed, y_pred_test, average='macro')\n",
    "    \n",
    "    test_precision.append(t_precision)\n",
    "    test_recall.append(t_recall)\n",
    "    test_f1.append(t_f1)"
   ]
  },
  {
   "cell_type": "code",
   "execution_count": null,
   "metadata": {},
   "outputs": [],
   "source": []
  }
 ],
 "metadata": {
  "kernelspec": {
   "display_name": "Python 3",
   "language": "python",
   "name": "python3"
  },
  "language_info": {
   "codemirror_mode": {
    "name": "ipython",
    "version": 3
   },
   "file_extension": ".py",
   "mimetype": "text/x-python",
   "name": "python",
   "nbconvert_exporter": "python",
   "pygments_lexer": "ipython3",
   "version": "3.10.6"
  },
  "orig_nbformat": 4
 },
 "nbformat": 4,
 "nbformat_minor": 2
}
