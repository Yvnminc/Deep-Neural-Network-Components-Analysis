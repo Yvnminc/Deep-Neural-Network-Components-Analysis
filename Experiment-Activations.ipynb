{
 "cells": [
  {
   "cell_type": "code",
   "execution_count": 1,
   "metadata": {},
   "outputs": [
    {
     "name": "stdout",
     "output_type": "stream",
     "text": [
      "Epoch: 1  Training Loss: 2.009119323311367  Time (sec): 12.16522216796875\n",
      "Epoch: 1  Training Loss: 1.9808937927567782  Time (sec): 18.83906579017639\n",
      "Epoch: 1  Training Loss: 2.1039046372961754  Time (sec): 15.554086208343506\n",
      "Epoch: 1  Training Loss: 2.010498509623426  Time (sec): 22.816344738006592\n"
     ]
    },
    {
     "ename": "KeyboardInterrupt",
     "evalue": "",
     "output_type": "error",
     "traceback": [
      "\u001b[0;31m---------------------------------------------------------------------------\u001b[0m",
      "\u001b[0;31mKeyboardInterrupt\u001b[0m                         Traceback (most recent call last)",
      "\u001b[1;32m/Users/yann/Desktop/COMP5329_A1/Experiment-Activations.ipynb Cell 1\u001b[0m in \u001b[0;36m6\n\u001b[1;32m      <a href='vscode-notebook-cell:/Users/yann/Desktop/COMP5329_A1/Experiment-Activations.ipynb#W0sZmlsZQ%3D%3D?line=3'>4</a>\u001b[0m activaitons \u001b[39m=\u001b[39m [\u001b[39m'\u001b[39m\u001b[39mrelu\u001b[39m\u001b[39m'\u001b[39m, \u001b[39m'\u001b[39m\u001b[39mtanh\u001b[39m\u001b[39m'\u001b[39m, \u001b[39m'\u001b[39m\u001b[39mlogistic\u001b[39m\u001b[39m'\u001b[39m, \u001b[39m'\u001b[39m\u001b[39mleaky_relu\u001b[39m\u001b[39m'\u001b[39m, \u001b[39m'\u001b[39m\u001b[39melu\u001b[39m\u001b[39m'\u001b[39m, \u001b[39m'\u001b[39m\u001b[39mgelu\u001b[39m\u001b[39m'\u001b[39m, \u001b[39m'\u001b[39m\u001b[39mswish\u001b[39m\u001b[39m'\u001b[39m]\n\u001b[1;32m      <a href='vscode-notebook-cell:/Users/yann/Desktop/COMP5329_A1/Experiment-Activations.ipynb#W0sZmlsZQ%3D%3D?line=4'>5</a>\u001b[0m nns, hyperparams \u001b[39m=\u001b[39m Evals\u001b[39m.\u001b[39mset_exp(activaitons, exp_name \u001b[39m=\u001b[39m \u001b[39m\"\u001b[39m\u001b[39mactivation\u001b[39m\u001b[39m\"\u001b[39m)\n\u001b[0;32m----> <a href='vscode-notebook-cell:/Users/yann/Desktop/COMP5329_A1/Experiment-Activations.ipynb#W0sZmlsZQ%3D%3D?line=5'>6</a>\u001b[0m eval_batch_df \u001b[39m=\u001b[39m Evals\u001b[39m.\u001b[39;49mrun_exp(nns\u001b[39m=\u001b[39;49m nns, hyperparams\u001b[39m=\u001b[39;49m hyperparams, epochs\u001b[39m=\u001b[39;49m \u001b[39m1\u001b[39;49m)\n\u001b[1;32m      <a href='vscode-notebook-cell:/Users/yann/Desktop/COMP5329_A1/Experiment-Activations.ipynb#W0sZmlsZQ%3D%3D?line=6'>7</a>\u001b[0m eval_batch_df\n",
      "File \u001b[0;32m~/Desktop/COMP5329_A1/algorithms/Evals.py:103\u001b[0m, in \u001b[0;36mrun_exp\u001b[0;34m(data, epochs, hyperparams, nns)\u001b[0m\n\u001b[1;32m    100\u001b[0m y_test \u001b[39m=\u001b[39m data\u001b[39m.\u001b[39mtest_label\n\u001b[1;32m    102\u001b[0m \u001b[39mfor\u001b[39;00m nn \u001b[39min\u001b[39;00m nns:\n\u001b[0;32m--> 103\u001b[0m     train_loss \u001b[39m=\u001b[39m nn\u001b[39m.\u001b[39;49mfit(X_train, y_train, epochs\u001b[39m=\u001b[39;49m epochs)\n\u001b[1;32m    104\u001b[0m     loss\u001b[39m.\u001b[39mappend(train_loss)\n\u001b[1;32m    106\u001b[0m     acc \u001b[39m=\u001b[39m nn\u001b[39m.\u001b[39mevaluate(X_train, y_train)\n",
      "File \u001b[0;32m~/Desktop/COMP5329_A1/algorithms/MlpV2.py:171\u001b[0m, in \u001b[0;36mMlpV2.fit\u001b[0;34m(self, X, y, epochs)\u001b[0m\n\u001b[1;32m    169\u001b[0m \u001b[39mfor\u001b[39;00m k \u001b[39min\u001b[39;00m \u001b[39mrange\u001b[39m(epochs):\n\u001b[1;32m    170\u001b[0m     time_start \u001b[39m=\u001b[39m time\u001b[39m.\u001b[39mtime()\n\u001b[0;32m--> 171\u001b[0m     \u001b[39mself\u001b[39;49m\u001b[39m.\u001b[39;49mbatch\u001b[39m.\u001b[39;49mfit(\u001b[39mself\u001b[39;49m, size \u001b[39m=\u001b[39;49m \u001b[39mself\u001b[39;49m\u001b[39m.\u001b[39;49mbatch_size)\n\u001b[1;32m    172\u001b[0m     \u001b[39m#get mean loss of all batch losses\u001b[39;00m\n\u001b[1;32m    173\u001b[0m     \u001b[39m#print(self.batch.loss)\u001b[39;00m\n\u001b[1;32m    174\u001b[0m     mean_loss_train \u001b[39m=\u001b[39m np\u001b[39m.\u001b[39mmean(\u001b[39mself\u001b[39m\u001b[39m.\u001b[39mbatch\u001b[39m.\u001b[39mgetLoss())\n",
      "File \u001b[0;32m~/Desktop/COMP5329_A1/algorithms/MiniBatchTrainingV2.py:90\u001b[0m, in \u001b[0;36mMiniBatchV2.fit\u001b[0;34m(self, model, size)\u001b[0m\n\u001b[1;32m     87\u001b[0m \u001b[39mself\u001b[39m\u001b[39m.\u001b[39maccuracy\u001b[39m.\u001b[39mappend(np\u001b[39m.\u001b[39mmean( np\u001b[39m.\u001b[39mequal(np\u001b[39m.\u001b[39margmax(mini_Y, \u001b[39m1\u001b[39m), np\u001b[39m.\u001b[39margmax(mini_Y_hat, \u001b[39m1\u001b[39m))))\n\u001b[1;32m     89\u001b[0m mini_dz \u001b[39m=\u001b[39m mini_Y_hat \u001b[39m-\u001b[39m mini_Y\n\u001b[0;32m---> 90\u001b[0m model\u001b[39m.\u001b[39;49mbackward(mini_dz)\n\u001b[1;32m     91\u001b[0m model\u001b[39m.\u001b[39mupdate()\n",
      "File \u001b[0;32m~/Desktop/COMP5329_A1/algorithms/MlpV2.py:125\u001b[0m, in \u001b[0;36mMlpV2.backward\u001b[0;34m(self, delta)\u001b[0m\n\u001b[1;32m    123\u001b[0m delta \u001b[39m=\u001b[39m \u001b[39mself\u001b[39m\u001b[39m.\u001b[39mlayers[\u001b[39m-\u001b[39m\u001b[39m1\u001b[39m]\u001b[39m.\u001b[39mbackward(delta, output_layer\u001b[39m=\u001b[39m\u001b[39mTrue\u001b[39;00m, regularizer\u001b[39m=\u001b[39m\u001b[39mself\u001b[39m\u001b[39m.\u001b[39mregularizer)\n\u001b[1;32m    124\u001b[0m \u001b[39mfor\u001b[39;00m layer \u001b[39min\u001b[39;00m \u001b[39mreversed\u001b[39m(\u001b[39mself\u001b[39m\u001b[39m.\u001b[39mlayers[:\u001b[39m-\u001b[39m\u001b[39m1\u001b[39m]):\n\u001b[0;32m--> 125\u001b[0m     delta\u001b[39m=\u001b[39mlayer\u001b[39m.\u001b[39;49mbackward(delta, regularizer\u001b[39m=\u001b[39;49m\u001b[39mself\u001b[39;49m\u001b[39m.\u001b[39;49mregularizer)\n",
      "File \u001b[0;32m~/Desktop/COMP5329_A1/algorithms/HiddenLayer.py:139\u001b[0m, in \u001b[0;36mHiddenLayer.backward\u001b[0;34m(self, delta, output_layer, regularizer)\u001b[0m\n\u001b[1;32m    132\u001b[0m \u001b[39m# first calculate the dw for this layer,\u001b[39;00m\n\u001b[1;32m    133\u001b[0m \u001b[39m# dw = dj/dz * dz/dw <- the input of this layer\u001b[39;00m\n\u001b[1;32m    134\u001b[0m \u001b[39m# m should be the first dimension of the input\u001b[39;00m\n\u001b[1;32m    135\u001b[0m m \u001b[39m=\u001b[39m \u001b[39mself\u001b[39m\u001b[39m.\u001b[39minput\u001b[39m.\u001b[39mshape[\u001b[39m0\u001b[39m]\n\u001b[0;32m--> 139\u001b[0m \u001b[39mself\u001b[39m\u001b[39m.\u001b[39mgrad_W \u001b[39m=\u001b[39m np\u001b[39m.\u001b[39;49mdot( \u001b[39mself\u001b[39;49m\u001b[39m.\u001b[39;49minput\u001b[39m.\u001b[39;49mT,dz)\u001b[39m/\u001b[39mm\n\u001b[1;32m    141\u001b[0m \u001b[39mif\u001b[39;00m regularizer \u001b[39mis\u001b[39;00m \u001b[39mnot\u001b[39;00m \u001b[39mNone\u001b[39;00m:\n\u001b[1;32m    142\u001b[0m     \u001b[39mself\u001b[39m\u001b[39m.\u001b[39mgrad_W \u001b[39m=\u001b[39m regularizer\u001b[39m.\u001b[39mbackward(\u001b[39mself\u001b[39m\u001b[39m.\u001b[39mgrad_W, \u001b[39mself\u001b[39m\u001b[39m.\u001b[39mW, m)\n",
      "File \u001b[0;32m<__array_function__ internals>:180\u001b[0m, in \u001b[0;36mdot\u001b[0;34m(*args, **kwargs)\u001b[0m\n",
      "\u001b[0;31mKeyboardInterrupt\u001b[0m: "
     ]
    }
   ],
   "source": [
    "from algorithms import Evals\n",
    "\n",
    "# Setup activation experiment\n",
    "activaitons = ['relu', 'tanh', 'logistic', 'leaky_relu', 'elu', 'gelu', 'swish']\n",
    "nns, hyperparams = Evals.set_exp(activaitons, exp_name = \"activation\")\n",
    "eval_batch_df = Evals.run_exp(nns= nns, hyperparams= hyperparams, epochs= 1)\n",
    "eval_batch_df"
   ]
  },
  {
   "cell_type": "code",
   "execution_count": 1,
   "metadata": {},
   "outputs": [
    {
     "name": "stdout",
     "output_type": "stream",
     "text": [
      "Epoch: 1  Training Loss: 2.3311789591776537  Time (sec): 1.7655620574951172\n",
      "Epoch: 1  Training Loss: 2.225507023661219  Time (sec): 3.5918619632720947\n"
     ]
    },
    {
     "data": {
      "text/html": [
       "<div>\n",
       "<style scoped>\n",
       "    .dataframe tbody tr th:only-of-type {\n",
       "        vertical-align: middle;\n",
       "    }\n",
       "\n",
       "    .dataframe tbody tr th {\n",
       "        vertical-align: top;\n",
       "    }\n",
       "\n",
       "    .dataframe thead th {\n",
       "        text-align: right;\n",
       "    }\n",
       "</style>\n",
       "<table border=\"1\" class=\"dataframe\">\n",
       "  <thead>\n",
       "    <tr style=\"text-align: right;\">\n",
       "      <th></th>\n",
       "      <th>Hyperparameters</th>\n",
       "      <th>loss</th>\n",
       "      <th>train_acc</th>\n",
       "      <th>valid_acc</th>\n",
       "      <th>train_precision</th>\n",
       "      <th>valid_precision</th>\n",
       "      <th>train_recall</th>\n",
       "      <th>valid_recall</th>\n",
       "      <th>train_f1</th>\n",
       "      <th>valid_f1</th>\n",
       "    </tr>\n",
       "  </thead>\n",
       "  <tbody>\n",
       "    <tr>\n",
       "      <th>0</th>\n",
       "      <td>[128, 64, 10]</td>\n",
       "      <td>[2.3311789591776537]</td>\n",
       "      <td>0.245711</td>\n",
       "      <td>0.2448</td>\n",
       "      <td>0.239858</td>\n",
       "      <td>0.241602</td>\n",
       "      <td>0.245714</td>\n",
       "      <td>0.244782</td>\n",
       "      <td>0.234918</td>\n",
       "      <td>0.234731</td>\n",
       "    </tr>\n",
       "    <tr>\n",
       "      <th>1</th>\n",
       "      <td>[256, 128, 64, 10]</td>\n",
       "      <td>[2.225507023661219]</td>\n",
       "      <td>0.273489</td>\n",
       "      <td>0.2686</td>\n",
       "      <td>0.265072</td>\n",
       "      <td>0.257917</td>\n",
       "      <td>0.273642</td>\n",
       "      <td>0.267321</td>\n",
       "      <td>0.261702</td>\n",
       "      <td>0.255875</td>\n",
       "    </tr>\n",
       "  </tbody>\n",
       "</table>\n",
       "</div>"
      ],
      "text/plain": [
       "      Hyperparameters                  loss  train_acc  valid_acc  \\\n",
       "0       [128, 64, 10]  [2.3311789591776537]   0.245711     0.2448   \n",
       "1  [256, 128, 64, 10]   [2.225507023661219]   0.273489     0.2686   \n",
       "\n",
       "   train_precision  valid_precision  train_recall  valid_recall  train_f1  \\\n",
       "0         0.239858         0.241602      0.245714      0.244782  0.234918   \n",
       "1         0.265072         0.257917      0.273642      0.267321  0.261702   \n",
       "\n",
       "   valid_f1  \n",
       "0  0.234731  \n",
       "1  0.255875  "
      ]
     },
     "execution_count": 1,
     "metadata": {},
     "output_type": "execute_result"
    }
   ],
   "source": [
    "from algorithms import Evals\n",
    "\n",
    "# Setup activation experiment\n",
    "structure = [[128, 64, 10], [256, 128, 64, 10]]\n",
    "nns, hyperparams = Evals.set_exp(structure, exp_name = \"structure\")\n",
    "eval_batch_df = Evals.run_exp(nns= nns, hyperparams= hyperparams, epochs= 1)\n",
    "eval_batch_df"
   ]
  },
  {
   "cell_type": "code",
   "execution_count": null,
   "metadata": {},
   "outputs": [],
   "source": []
  }
 ],
 "metadata": {
  "kernelspec": {
   "display_name": "Python 3",
   "language": "python",
   "name": "python3"
  },
  "language_info": {
   "codemirror_mode": {
    "name": "ipython",
    "version": 3
   },
   "file_extension": ".py",
   "mimetype": "text/x-python",
   "name": "python",
   "nbconvert_exporter": "python",
   "pygments_lexer": "ipython3",
   "version": "3.10.6"
  },
  "orig_nbformat": 4
 },
 "nbformat": 4,
 "nbformat_minor": 2
}
