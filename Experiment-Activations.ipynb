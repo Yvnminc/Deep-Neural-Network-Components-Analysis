{
 "cells": [
  {
   "cell_type": "code",
   "execution_count": 2,
   "metadata": {},
   "outputs": [
    {
     "name": "stdout",
     "output_type": "stream",
     "text": [
      "(45000, 128)\n",
      "(45000, 10)\n",
      "(5000, 128)\n",
      "(5000, 10)\n",
      "(10000, 128)\n",
      "(10000, 10)\n"
     ]
    }
   ],
   "source": [
    "from algorithms import *\n",
    "from algorithms.MlpV2 import *\n",
    "data = Data()\n",
    "data.print_shapes()\n",
    "X_train = data.train_data\n",
    "y_train = data.train_label"
   ]
  },
  {
   "cell_type": "code",
   "execution_count": 3,
   "metadata": {},
   "outputs": [],
   "source": [
    "X_test = data.test_data\n",
    "y_test = data.test_label"
   ]
  },
  {
   "cell_type": "code",
   "execution_count": 7,
   "metadata": {},
   "outputs": [],
   "source": [
    "activations = [\"relu\", \"logistic\", \"tanh\", \"leaky_relu\", \"swish\", \"gelu\", \"elu\"]\n",
    "lr = 0.1\n",
    "loss = []\n",
    "train_acc = []\n",
    "test_acc = []\n",
    "train_precision = []\n",
    "test_precision = []\n",
    "train_recall = []\n",
    "test_recall = []\n",
    "train_f1 = []\n",
    "test_f1 = []"
   ]
  },
  {
   "cell_type": "code",
   "execution_count": 6,
   "metadata": {},
   "outputs": [
    {
     "name": "stdout",
     "output_type": "stream",
     "text": [
      "Epoch: 1  Training Loss: 2.598486381919721  Time (sec): 12.790543794631958\n",
      "Epoch: 2  Training Loss: 2.3478100515995215  Time (sec): 12.816632747650146\n",
      "Epoch: 3  Training Loss: 2.203982838764275  Time (sec): 19.719839096069336\n",
      "Epoch: 4  Training Loss: 2.116036358209231  Time (sec): 17.811096906661987\n"
     ]
    },
    {
     "ename": "KeyboardInterrupt",
     "evalue": "",
     "output_type": "error",
     "traceback": [
      "\u001b[0;31m---------------------------------------------------------------------------\u001b[0m",
      "\u001b[0;31mKeyboardInterrupt\u001b[0m                         Traceback (most recent call last)",
      "\u001b[1;32m/Users/yann/Desktop/COMP5329_A1/Experiment-Activations.ipynb Cell 4\u001b[0m in \u001b[0;36m1\n\u001b[1;32m     <a href='vscode-notebook-cell:/Users/yann/Desktop/COMP5329_A1/Experiment-Activations.ipynb#W2sZmlsZQ%3D%3D?line=10'>11</a>\u001b[0m nn\u001b[39m.\u001b[39madd_layer(\u001b[39m128\u001b[39m,\u001b[39m64\u001b[39m,activation,\u001b[39m1\u001b[39m)\n\u001b[1;32m     <a href='vscode-notebook-cell:/Users/yann/Desktop/COMP5329_A1/Experiment-Activations.ipynb#W2sZmlsZQ%3D%3D?line=11'>12</a>\u001b[0m nn\u001b[39m.\u001b[39madd_layer(\u001b[39m64\u001b[39m,\u001b[39m10\u001b[39m,\u001b[39m\"\u001b[39m\u001b[39msoftmax\u001b[39m\u001b[39m\"\u001b[39m,\u001b[39m1\u001b[39m)\n\u001b[0;32m---> <a href='vscode-notebook-cell:/Users/yann/Desktop/COMP5329_A1/Experiment-Activations.ipynb#W2sZmlsZQ%3D%3D?line=13'>14</a>\u001b[0m train_loss \u001b[39m=\u001b[39m nn\u001b[39m.\u001b[39;49mfit(X_train, y_train, epochs\u001b[39m=\u001b[39;49m\u001b[39m50\u001b[39;49m)\n\u001b[1;32m     <a href='vscode-notebook-cell:/Users/yann/Desktop/COMP5329_A1/Experiment-Activations.ipynb#W2sZmlsZQ%3D%3D?line=14'>15</a>\u001b[0m loss\u001b[39m.\u001b[39mappend(train_loss)\n\u001b[1;32m     <a href='vscode-notebook-cell:/Users/yann/Desktop/COMP5329_A1/Experiment-Activations.ipynb#W2sZmlsZQ%3D%3D?line=16'>17</a>\u001b[0m acc \u001b[39m=\u001b[39m nn\u001b[39m.\u001b[39mevaluate(X_train, y_train)\n",
      "File \u001b[0;32m~/Desktop/COMP5329_A1/algorithms/MlpV2.py:171\u001b[0m, in \u001b[0;36mMlpV2.fit\u001b[0;34m(self, X, y, epochs)\u001b[0m\n\u001b[1;32m    169\u001b[0m \u001b[39mfor\u001b[39;00m k \u001b[39min\u001b[39;00m \u001b[39mrange\u001b[39m(epochs):\n\u001b[1;32m    170\u001b[0m     time_start \u001b[39m=\u001b[39m time\u001b[39m.\u001b[39mtime()\n\u001b[0;32m--> 171\u001b[0m     \u001b[39mself\u001b[39;49m\u001b[39m.\u001b[39;49mbatch\u001b[39m.\u001b[39;49mfit(\u001b[39mself\u001b[39;49m, size \u001b[39m=\u001b[39;49m \u001b[39mself\u001b[39;49m\u001b[39m.\u001b[39;49mbatch_size)\n\u001b[1;32m    172\u001b[0m     \u001b[39m#get mean loss of all batch losses\u001b[39;00m\n\u001b[1;32m    173\u001b[0m     \u001b[39m#print(self.batch.loss)\u001b[39;00m\n\u001b[1;32m    174\u001b[0m     mean_loss_train \u001b[39m=\u001b[39m np\u001b[39m.\u001b[39mmean(\u001b[39mself\u001b[39m\u001b[39m.\u001b[39mbatch\u001b[39m.\u001b[39mgetLoss())\n",
      "File \u001b[0;32m~/Desktop/COMP5329_A1/algorithms/MiniBatchTrainingV2.py:90\u001b[0m, in \u001b[0;36mMiniBatchV2.fit\u001b[0;34m(self, model, size)\u001b[0m\n\u001b[1;32m     87\u001b[0m \u001b[39mself\u001b[39m\u001b[39m.\u001b[39maccuracy\u001b[39m.\u001b[39mappend(np\u001b[39m.\u001b[39mmean( np\u001b[39m.\u001b[39mequal(np\u001b[39m.\u001b[39margmax(mini_Y, \u001b[39m1\u001b[39m), np\u001b[39m.\u001b[39margmax(mini_Y_hat, \u001b[39m1\u001b[39m))))\n\u001b[1;32m     89\u001b[0m mini_dz \u001b[39m=\u001b[39m mini_Y_hat \u001b[39m-\u001b[39m mini_Y\n\u001b[0;32m---> 90\u001b[0m model\u001b[39m.\u001b[39;49mbackward(mini_dz)\n\u001b[1;32m     91\u001b[0m model\u001b[39m.\u001b[39mupdate()\n",
      "\u001b[0;31mKeyboardInterrupt\u001b[0m: "
     ]
    }
   ],
   "source": [
    "from sklearn.metrics import precision_score, recall_score, f1_score\n",
    "\n",
    "for activation in activations:\n",
    "    nn = MlpV2(learning_rate = lr, batch_size = 256)\n",
    "    nn.set_optimiser(opt_type='Momentum', params = [0.9])\n",
    "    nn.set_batchNormalizer()\n",
    "    nn.add_layer(128,512,activation,1)\n",
    "    nn.add_layer(512,256,activation,1)\n",
    "    nn.add_layer(256,128,activation,1)\n",
    "    nn.add_layer(128,64,activation,1)\n",
    "    nn.add_layer(64,10,\"softmax\",1)\n",
    "\n",
    "    train_loss = nn.fit(X_train, y_train, epochs=50)\n",
    "    loss.append(train_loss)\n",
    "\n",
    "    acc = nn.evaluate(X_train, y_train)\n",
    "    train_acc.append(acc)\n",
    "\n",
    "    t_acc = nn.evaluate(X_test, y_test)\n",
    "    test_acc.append(t_acc)\n",
    "    \n",
    "    y_pred_train = np.argmax(nn.predict(X_train), axis=1)\n",
    "    y_train_transformed = np.argmax(y_train, axis=1)\n",
    "    y_pred_test = np.argmax(nn.predict(X_test), axis=1)\n",
    "    y_test_transformed = np.argmax(y_test, axis=1)\n",
    "    \n",
    "    precision = precision_score(y_train_transformed, y_pred_train, average='macro')\n",
    "    recall = recall_score(y_train_transformed, y_pred_train, average='macro')\n",
    "    f1 = f1_score(y_train_transformed, y_pred_train, average='macro')\n",
    "    \n",
    "    train_precision.append(precision)\n",
    "    train_recall.append(recall)\n",
    "    train_f1.append(f1)\n",
    "    \n",
    "    t_precision = precision_score(y_test_transformed, y_pred_test, average='macro')\n",
    "    t_recall = recall_score(y_test_transformed, y_pred_test, average='macro')\n",
    "    t_f1 = f1_score(y_test_transformed, y_pred_test, average='macro')\n",
    "    \n",
    "    test_precision.append(t_precision)\n",
    "    test_recall.append(t_recall)\n",
    "    test_f1.append(t_f1)"
   ]
  }
 ],
 "metadata": {
  "kernelspec": {
   "display_name": "Python 3",
   "language": "python",
   "name": "python3"
  },
  "language_info": {
   "codemirror_mode": {
    "name": "ipython",
    "version": 3
   },
   "file_extension": ".py",
   "mimetype": "text/x-python",
   "name": "python",
   "nbconvert_exporter": "python",
   "pygments_lexer": "ipython3",
   "version": "3.10.6"
  },
  "orig_nbformat": 4
 },
 "nbformat": 4,
 "nbformat_minor": 2
}
