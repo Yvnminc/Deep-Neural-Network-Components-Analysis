{
  "nbformat": 4,
  "nbformat_minor": 0,
  "metadata": {
    "colab": {
      "provenance": [],
      "collapsed_sections": [
        "iwaYPdRTx_iX",
        "yELGoJWFgTRJ",
        "91VcvJh0icY3",
        "FLlaGyVQkmbX",
        "IZA-832EnsLA",
        "Nt2F6CcpuKS5",
        "dpHWNQi0vJWe",
        "2i1GhwIbw9lF",
        "-U5AjIgivgOE"
      ],
      "machine_shape": "hm",
      "include_colab_link": true
    },
    "kernelspec": {
      "name": "python3",
      "display_name": "Python 3"
    },
    "language_info": {
      "name": "python"
    },
    "accelerator": "GPU",
    "gpuClass": "standard"
  },
  "cells": [
    {
      "cell_type": "markdown",
      "metadata": {
        "id": "view-in-github",
        "colab_type": "text"
      },
      "source": [
        "<a href=\"https://colab.research.google.com/github/Yvnminc/COMP5329_A1/blob/main/COlip.ipynb\" target=\"_parent\"><img src=\"https://colab.research.google.com/assets/colab-badge.svg\" alt=\"Open In Colab\"/></a>"
      ]
    },
    {
      "cell_type": "markdown",
      "source": [
        "## Clip (ViT and Transformer all included)"
      ],
      "metadata": {
        "id": "a6GFRqUqyl-m"
      }
    },
    {
      "cell_type": "code",
      "source": [
        "pip install -q openai-clip "
      ],
      "metadata": {
        "id": "G_0o2oRrg3r0",
        "outputId": "072acb7d-07ad-4ab4-ee66-1198f1bc78bf",
        "colab": {
          "base_uri": "https://localhost:8080/"
        }
      },
      "execution_count": 1,
      "outputs": [
        {
          "output_type": "stream",
          "name": "stdout",
          "text": [
            "\u001b[?25l     \u001b[90m━━━━━━━━━━━━━━━━━━━━━━━━━━━━━━━━━━━━━━━━\u001b[0m \u001b[32m0.0/1.4 MB\u001b[0m \u001b[31m?\u001b[0m eta \u001b[36m-:--:--\u001b[0m\r\u001b[2K     \u001b[91m━━━━━━━━━━━━━━━━━━━━━━━━━━━━━━━━━━━━━━━\u001b[0m\u001b[91m╸\u001b[0m \u001b[32m1.4/1.4 MB\u001b[0m \u001b[31m128.4 MB/s\u001b[0m eta \u001b[36m0:00:01\u001b[0m\r\u001b[2K     \u001b[90m━━━━━━━━━━━━━━━━━━━━━━━━━━━━━━━━━━━━━━━━\u001b[0m \u001b[32m1.4/1.4 MB\u001b[0m \u001b[31m27.7 MB/s\u001b[0m eta \u001b[36m0:00:00\u001b[0m\n",
            "\u001b[?25h  Preparing metadata (setup.py) ... \u001b[?25l\u001b[?25hdone\n",
            "\u001b[2K     \u001b[90m━━━━━━━━━━━━━━━━━━━━━━━━━━━━━━━━━━━━━━━━\u001b[0m \u001b[32m53.1/53.1 kB\u001b[0m \u001b[31m6.9 MB/s\u001b[0m eta \u001b[36m0:00:00\u001b[0m\n",
            "\u001b[?25h  Building wheel for openai-clip (setup.py) ... \u001b[?25l\u001b[?25hdone\n"
          ]
        }
      ]
    },
    {
      "cell_type": "code",
      "source": [
        "# Code to download file into Colaboratory:\n",
        "!pip install -U -q PyDrive\n",
        "from pydrive.auth import GoogleAuth\n",
        "from pydrive.drive import GoogleDrive\n",
        "from google.colab import auth\n",
        "from oauth2client.client import GoogleCredentials\n",
        "# Authenticate and create the PyDrive client.\n",
        "auth.authenticate_user()\n",
        "gauth = GoogleAuth()\n",
        "gauth.credentials = GoogleCredentials.get_application_default()\n",
        "drive = GoogleDrive(gauth)\n",
        "\n",
        "#get the data from the drive\n",
        "id = '1iIl3Yj4I2aowyVNj1NDWVclh3CSCgu76'\n",
        "downloaded = drive.CreateFile({'id':id}) \n",
        "downloaded.GetContentFile('multi-label-classification-competition-2023.zip')\n",
        "#unzip the dataset\n",
        "!unzip multi-label-classification-competition-2023.zip > /dev/null"
      ],
      "metadata": {
        "id": "8SoCVK7VBpU9"
      },
      "execution_count": 2,
      "outputs": []
    },
    {
      "cell_type": "code",
      "source": [
        "import re\n",
        "import pandas as pd\n",
        "from io import StringIO\n",
        "\n",
        "FILENAME = '/content/COMP5329S1A2Dataset/train.csv'\n",
        "with open(FILENAME) as file:\n",
        "    lines = [re.sub(r'([^,])\"(\\s*[^\\n])', r'\\1/\"\\2', line) for line in file]\n",
        "    error_num = [4790,14716,14961,29895]\n",
        "    for i in error_num:\n",
        "      lines[i] = lines[i][:-3]+lines[i][-2:]\n",
        "    df = pd.read_csv(StringIO(''.join(lines)), escapechar=\"/\")\n",
        "df"
      ],
      "metadata": {
        "colab": {
          "base_uri": "https://localhost:8080/",
          "height": 423
        },
        "id": "n5pG6PBMy3Lu",
        "outputId": "a6434f6d-487c-4160-aea3-8c6eb0f22dc9"
      },
      "execution_count": 3,
      "outputs": [
        {
          "output_type": "execute_result",
          "data": {
            "text/plain": [
              "         ImageID  Labels                                            Caption\n",
              "0          0.jpg       1   Woman in swim suit holding parasol on sunny day.\n",
              "1          1.jpg    1 19  A couple of men riding horses on top of a gree...\n",
              "2          2.jpg       1  They are brave for riding in the jungle on tho...\n",
              "3          3.jpg  8 3 13  a black and silver clock tower at an intersect...\n",
              "4          4.jpg   8 3 7   A train coming to a stop on the tracks out side.\n",
              "...          ...     ...                                                ...\n",
              "29995  29995.jpg   8 1 2  A picture of a truck that is in the middle of ...\n",
              "29996  29996.jpg       1  A plate topped with a pizza being cut with a s...\n",
              "29997  29997.jpg       1          A man riding a snowboard on top of  snow.\n",
              "29998  29998.jpg       1   This photo shows people skiing in the mountains.\n",
              "29999  29999.jpg       1  Two young men playing soccer and fighting for ...\n",
              "\n",
              "[30000 rows x 3 columns]"
            ],
            "text/html": [
              "\n",
              "  <div id=\"df-ee24a086-fc76-4bf3-aa5b-b0676e88d2a8\">\n",
              "    <div class=\"colab-df-container\">\n",
              "      <div>\n",
              "<style scoped>\n",
              "    .dataframe tbody tr th:only-of-type {\n",
              "        vertical-align: middle;\n",
              "    }\n",
              "\n",
              "    .dataframe tbody tr th {\n",
              "        vertical-align: top;\n",
              "    }\n",
              "\n",
              "    .dataframe thead th {\n",
              "        text-align: right;\n",
              "    }\n",
              "</style>\n",
              "<table border=\"1\" class=\"dataframe\">\n",
              "  <thead>\n",
              "    <tr style=\"text-align: right;\">\n",
              "      <th></th>\n",
              "      <th>ImageID</th>\n",
              "      <th>Labels</th>\n",
              "      <th>Caption</th>\n",
              "    </tr>\n",
              "  </thead>\n",
              "  <tbody>\n",
              "    <tr>\n",
              "      <th>0</th>\n",
              "      <td>0.jpg</td>\n",
              "      <td>1</td>\n",
              "      <td>Woman in swim suit holding parasol on sunny day.</td>\n",
              "    </tr>\n",
              "    <tr>\n",
              "      <th>1</th>\n",
              "      <td>1.jpg</td>\n",
              "      <td>1 19</td>\n",
              "      <td>A couple of men riding horses on top of a gree...</td>\n",
              "    </tr>\n",
              "    <tr>\n",
              "      <th>2</th>\n",
              "      <td>2.jpg</td>\n",
              "      <td>1</td>\n",
              "      <td>They are brave for riding in the jungle on tho...</td>\n",
              "    </tr>\n",
              "    <tr>\n",
              "      <th>3</th>\n",
              "      <td>3.jpg</td>\n",
              "      <td>8 3 13</td>\n",
              "      <td>a black and silver clock tower at an intersect...</td>\n",
              "    </tr>\n",
              "    <tr>\n",
              "      <th>4</th>\n",
              "      <td>4.jpg</td>\n",
              "      <td>8 3 7</td>\n",
              "      <td>A train coming to a stop on the tracks out side.</td>\n",
              "    </tr>\n",
              "    <tr>\n",
              "      <th>...</th>\n",
              "      <td>...</td>\n",
              "      <td>...</td>\n",
              "      <td>...</td>\n",
              "    </tr>\n",
              "    <tr>\n",
              "      <th>29995</th>\n",
              "      <td>29995.jpg</td>\n",
              "      <td>8 1 2</td>\n",
              "      <td>A picture of a truck that is in the middle of ...</td>\n",
              "    </tr>\n",
              "    <tr>\n",
              "      <th>29996</th>\n",
              "      <td>29996.jpg</td>\n",
              "      <td>1</td>\n",
              "      <td>A plate topped with a pizza being cut with a s...</td>\n",
              "    </tr>\n",
              "    <tr>\n",
              "      <th>29997</th>\n",
              "      <td>29997.jpg</td>\n",
              "      <td>1</td>\n",
              "      <td>A man riding a snowboard on top of  snow.</td>\n",
              "    </tr>\n",
              "    <tr>\n",
              "      <th>29998</th>\n",
              "      <td>29998.jpg</td>\n",
              "      <td>1</td>\n",
              "      <td>This photo shows people skiing in the mountains.</td>\n",
              "    </tr>\n",
              "    <tr>\n",
              "      <th>29999</th>\n",
              "      <td>29999.jpg</td>\n",
              "      <td>1</td>\n",
              "      <td>Two young men playing soccer and fighting for ...</td>\n",
              "    </tr>\n",
              "  </tbody>\n",
              "</table>\n",
              "<p>30000 rows × 3 columns</p>\n",
              "</div>\n",
              "      <button class=\"colab-df-convert\" onclick=\"convertToInteractive('df-ee24a086-fc76-4bf3-aa5b-b0676e88d2a8')\"\n",
              "              title=\"Convert this dataframe to an interactive table.\"\n",
              "              style=\"display:none;\">\n",
              "        \n",
              "  <svg xmlns=\"http://www.w3.org/2000/svg\" height=\"24px\"viewBox=\"0 0 24 24\"\n",
              "       width=\"24px\">\n",
              "    <path d=\"M0 0h24v24H0V0z\" fill=\"none\"/>\n",
              "    <path d=\"M18.56 5.44l.94 2.06.94-2.06 2.06-.94-2.06-.94-.94-2.06-.94 2.06-2.06.94zm-11 1L8.5 8.5l.94-2.06 2.06-.94-2.06-.94L8.5 2.5l-.94 2.06-2.06.94zm10 10l.94 2.06.94-2.06 2.06-.94-2.06-.94-.94-2.06-.94 2.06-2.06.94z\"/><path d=\"M17.41 7.96l-1.37-1.37c-.4-.4-.92-.59-1.43-.59-.52 0-1.04.2-1.43.59L10.3 9.45l-7.72 7.72c-.78.78-.78 2.05 0 2.83L4 21.41c.39.39.9.59 1.41.59.51 0 1.02-.2 1.41-.59l7.78-7.78 2.81-2.81c.8-.78.8-2.07 0-2.86zM5.41 20L4 18.59l7.72-7.72 1.47 1.35L5.41 20z\"/>\n",
              "  </svg>\n",
              "      </button>\n",
              "      \n",
              "  <style>\n",
              "    .colab-df-container {\n",
              "      display:flex;\n",
              "      flex-wrap:wrap;\n",
              "      gap: 12px;\n",
              "    }\n",
              "\n",
              "    .colab-df-convert {\n",
              "      background-color: #E8F0FE;\n",
              "      border: none;\n",
              "      border-radius: 50%;\n",
              "      cursor: pointer;\n",
              "      display: none;\n",
              "      fill: #1967D2;\n",
              "      height: 32px;\n",
              "      padding: 0 0 0 0;\n",
              "      width: 32px;\n",
              "    }\n",
              "\n",
              "    .colab-df-convert:hover {\n",
              "      background-color: #E2EBFA;\n",
              "      box-shadow: 0px 1px 2px rgba(60, 64, 67, 0.3), 0px 1px 3px 1px rgba(60, 64, 67, 0.15);\n",
              "      fill: #174EA6;\n",
              "    }\n",
              "\n",
              "    [theme=dark] .colab-df-convert {\n",
              "      background-color: #3B4455;\n",
              "      fill: #D2E3FC;\n",
              "    }\n",
              "\n",
              "    [theme=dark] .colab-df-convert:hover {\n",
              "      background-color: #434B5C;\n",
              "      box-shadow: 0px 1px 3px 1px rgba(0, 0, 0, 0.15);\n",
              "      filter: drop-shadow(0px 1px 2px rgba(0, 0, 0, 0.3));\n",
              "      fill: #FFFFFF;\n",
              "    }\n",
              "  </style>\n",
              "\n",
              "      <script>\n",
              "        const buttonEl =\n",
              "          document.querySelector('#df-ee24a086-fc76-4bf3-aa5b-b0676e88d2a8 button.colab-df-convert');\n",
              "        buttonEl.style.display =\n",
              "          google.colab.kernel.accessAllowed ? 'block' : 'none';\n",
              "\n",
              "        async function convertToInteractive(key) {\n",
              "          const element = document.querySelector('#df-ee24a086-fc76-4bf3-aa5b-b0676e88d2a8');\n",
              "          const dataTable =\n",
              "            await google.colab.kernel.invokeFunction('convertToInteractive',\n",
              "                                                     [key], {});\n",
              "          if (!dataTable) return;\n",
              "\n",
              "          const docLinkHtml = 'Like what you see? Visit the ' +\n",
              "            '<a target=\"_blank\" href=https://colab.research.google.com/notebooks/data_table.ipynb>data table notebook</a>'\n",
              "            + ' to learn more about interactive tables.';\n",
              "          element.innerHTML = '';\n",
              "          dataTable['output_type'] = 'display_data';\n",
              "          await google.colab.output.renderOutput(dataTable, element);\n",
              "          const docLink = document.createElement('div');\n",
              "          docLink.innerHTML = docLinkHtml;\n",
              "          element.appendChild(docLink);\n",
              "        }\n",
              "      </script>\n",
              "    </div>\n",
              "  </div>\n",
              "  "
            ]
          },
          "metadata": {},
          "execution_count": 3
        }
      ]
    },
    {
      "cell_type": "code",
      "source": [
        "label_set = [1, 2, 3, 4, 5, 6, 7, 8, 9, 10, 11, 13, 14, 15, 16, 17, 18, 19]"
      ],
      "metadata": {
        "id": "zvM-16IIyw2i"
      },
      "execution_count": 4,
      "outputs": []
    },
    {
      "cell_type": "code",
      "source": [
        "df[\"Labels\"].iloc[1]\n",
        "\n",
        "single_label_list = [int(x) for x in df[\"Labels\"].iloc[4].split()]\n",
        "binary_vector = [1 if label in single_label_list else 0 for label in label_set]\n",
        "binary_vector"
      ],
      "metadata": {
        "colab": {
          "base_uri": "https://localhost:8080/"
        },
        "id": "7RyARSkxzg_C",
        "outputId": "1900c045-2db5-4b29-8c4a-6660dd27a88d"
      },
      "execution_count": 5,
      "outputs": [
        {
          "output_type": "execute_result",
          "data": {
            "text/plain": [
              "[0, 0, 1, 0, 0, 0, 1, 1, 0, 0, 0, 0, 0, 0, 0, 0, 0, 0]"
            ]
          },
          "metadata": {},
          "execution_count": 5
        }
      ]
    },
    {
      "cell_type": "markdown",
      "source": [
        "# Dataloader and augmentation"
      ],
      "metadata": {
        "id": "8c00b9HwiscK"
      }
    },
    {
      "cell_type": "code",
      "source": [
        "from torch.utils.data import Dataset, DataLoader\n",
        "import re\n",
        "import pandas as pd\n",
        "import random\n",
        "from io import StringIO\n",
        "import torchvision.transforms as T\n",
        "from torch.utils.data import random_split\n",
        "import torch\n",
        "import matplotlib.pyplot as plt\n",
        "import os\n",
        "import clip\n",
        "from PIL import Image\n",
        "import numpy as np\n",
        "from sklearn.preprocessing import MultiLabelBinarizer\n",
        "\n",
        "FILENAME_TRAIN = '/content/COMP5329S1A2Dataset/train.csv'\n",
        "FILENAME_TEST = '/content/COMP5329S1A2Dataset/test.csv'\n",
        "DATA_PATH =  '/content/COMP5329S1A2Dataset/data'\n",
        "\n",
        "class MmDataset(Dataset):\n",
        "    def __init__(self,\n",
        "                data_aug = True,\n",
        "                indices= None,\n",
        "                img_size = 336,\n",
        "                iters = 1000,\n",
        "                mode = \"training\"):\n",
        "        \n",
        "        df= read_path(mode)\n",
        "\n",
        "        self.mode = mode\n",
        "        self.image_filenames = df[\"ImageID\"]\n",
        "        self.captions = df[\"Caption\"]\n",
        "\n",
        "        if self.mode == \"training\":\n",
        "            self.labels = df[\"Labels\"]\n",
        "        else:\n",
        "          self.labels = df[\"Caption\"].apply(lambda x: np.nan)\n",
        "\n",
        "        self.data_aug = data_aug   \n",
        "        self.indices = indices\n",
        "        self.img_size = img_size\n",
        "        self.iters = iters\n",
        "        self.total_iters = iters\n",
        "        self.all_labels = [1, 2, 3, 4, 5, 6, 7, 8, 9, 10, 11, 13, 14, 15, 16, 17, 18, 19]\n",
        "\n",
        "        # To initialise the dataset\n",
        "        if indices is not None:\n",
        "            self.image_filenames = [self.image_filenames[i] for i in indices]\n",
        "            self.captions = [self.captions[i] for i in indices]\n",
        "            self.labels = [self.labels[i] for i in indices]\n",
        "        \n",
        "        # #self.mean, self.std = self.compute_mean_std()\n",
        "        \n",
        "        self.transforms = T.Compose([\n",
        "            T.RandomHorizontalFlip(p=0.5),\n",
        "            T.RandomVerticalFlip(p=0.5),\n",
        "            # T.RandomRotation(degrees= (0, 45)),\n",
        "            #T.RandomAutocontrast(),\n",
        "            #T.RandomAdjustSharpness(sharpness_factor=3),\n",
        "            #T.Pad(padding= random.randint(a = 0, b = int(self.img_size / 2))),\n",
        "            T.GaussianBlur(kernel_size=(5, 9), sigma=(0.1, 5)),\n",
        "            #T.ElasticTransform(alpha=50.0),\n",
        "            #T.RandomPosterize(bits=2),\n",
        "            #T.RandomEqualize(),\n",
        "            #T.TrivialAugmentWide(),\n",
        "            T.ColorJitter(brightness=0.5,  # 亮度调整因子的范围，可以是浮点数或(min, max)元组\n",
        "                          contrast=0.5,    # 对比度调整因子的范围，可以是浮点数或(min, max)元组\n",
        "                          saturation=0.5,  # 饱和度调整因子的范围，可以是浮点数或(min, max)元组\n",
        "                          hue=0.5           # 色相调整因子的范围，必须是浮点数，介于-0.5到0.5之间\n",
        "                      )\n",
        "        ])\n",
        "\n",
        "        self.resize = T.Compose([\n",
        "            T.Resize((self.img_size, self.img_size)),\n",
        "            T.ToTensor(),\n",
        "        ])\n",
        "\n",
        "    def __getitem__(self, index):\n",
        "\n",
        "        # Load images and labels\n",
        "        image_path = os.path.join(DATA_PATH, self.image_filenames[index])\n",
        "        prob = random.random()\n",
        "        image = Image.open(image_path)\n",
        "        label_list = [int(x) for x in self.labels[index].split()]\n",
        "        binary_label = torch.from_numpy(np.array([1 if label in label_list else 0 for label in self.all_labels]).astype(np.float32)).unsqueeze(dim=0)\n",
        "        #binary_label = torch.squeeze(binary_label, dim=1)\n",
        "        caption = self.captions[index]\n",
        "             \n",
        "        # arg_threshold = self.iters/self.total_iters\n",
        "        # self.iters = self.iters -1\n",
        "\n",
        "        # if self.data_aug and prob < arg_threshold:\n",
        "        #     view2 = self.transforms(view2)\n",
        "\n",
        "        view1 = self.resize(image)\n",
        "        view2 = self.resize(image)\n",
        "\n",
        "        return view1, view2, caption, binary_label\n",
        "\n",
        "    def __len__(self):\n",
        "        return len(self.image_filenames)\n",
        "\n",
        "def read_path(mode = \"training\"):\n",
        "  \n",
        "  if mode == \"training\":\n",
        "    with open(FILENAME_TRAIN) as file:\n",
        "      lines = [re.sub(r'([^,])\"(\\s*[^\\n])', r'\\1/\"\\2', line) for line in file]\n",
        "      error_num = [4790,14716,14961,29895]\n",
        "      for i in error_num:\n",
        "        lines[i] = lines[i][:-3]+lines[i][-2:]\n",
        "    \n",
        "    return pd.read_csv(StringIO(''.join(lines)), escapechar=\"/\")\n",
        "\n",
        "  with open(FILENAME_TEST) as file:\n",
        "    lines = [re.sub(r'([^,])\"(\\s*[^\\n])', r'\\1/\"\\2', line) for line in file]\n",
        "  \n",
        "  return pd.read_csv(StringIO(''.join(lines)), escapechar=\"/\")\n",
        "\n",
        "\n",
        "def get_loader(data_aug = None, bs = 8, img_size = 332, load_clip = False):\n",
        "  # # Set the seed empirically\n",
        "  # torch.manual_seed(3407)\n",
        "  \n",
        "  # 创建完整trainig和validation的数据集\n",
        "  full_dataset = MmDataset(img_size= img_size)\n",
        "  dataset_length = len(full_dataset)\n",
        "\n",
        "  test_dataset = MmDataset(img_size= img_size, mode = \"testing\")\n",
        "\n",
        "  # 计算训练、验证和测试集的长度\n",
        "  train_length = int(0.9 * dataset_length)\n",
        "  val_length = int(0.1 * dataset_length)\n",
        "\n",
        "  # 使用 random_split 函数拆分数据集\n",
        "  train_dataset, val_dataset = random_split(full_dataset, [train_length, val_length])\n",
        "\n",
        "  # 使用相应的索引创建 MmDataset 实例\n",
        "  train_dataset = MmDataset(img_size= img_size, data_aug= True, \n",
        "                            indices=train_dataset.indices)\n",
        "  \n",
        "  val_dataset = MmDataset(img_size= img_size, data_aug= False, \n",
        "                          indices=val_dataset.indices)\n",
        "\n",
        "  # 现在您可以使用这些拆分数据集创建 DataLoader\n",
        "  train_loader = DataLoader(train_dataset, batch_size=bs, shuffle=True)\n",
        "  val_loader = DataLoader(val_dataset, batch_size=bs, shuffle=False)\n",
        "  test_loader = DataLoader(test_dataset, batch_size=bs, shuffle=False)\n",
        "\n",
        "  return train_loader, val_loader, test_loader\n",
        "\n",
        "\n",
        "def imshow(img, title=None, cmap=None):\n",
        "    # Convert from Tensor to NumPy array and transpose to (H, W, C)\n",
        "    img = img.numpy().transpose((1, 2, 0))\n",
        "\n",
        "    # Undo normalization if necessary\n",
        "    if img.min() < 0 or img.max() > 1:\n",
        "        img = img * 0.5 + 0.5\n",
        "\n",
        "    plt.imshow(img, cmap=cmap)\n",
        "    if title:\n",
        "        plt.title(title)\n",
        "    plt.axis('off')\n",
        "\n",
        "def plot_loder(dataloader):\n",
        "    # Get a batch of data\n",
        "    view1, view2, caption, label = next(iter(dataloader))\n",
        "    # Display the first image and its corresponding label\n",
        "    plt.figure(figsize=(10, 5))\n",
        "    plt.subplot(1, 2, 1)\n",
        "    imshow(view1[0], title='Original image')\n",
        "    plt.subplot(1, 2, 2)\n",
        "    imshow(view2[0], title='Augmented image')\n",
        "    print(f\"The caption is: {caption[0]}, the label is: {label[0]}\")\n",
        "    plt.show()\n",
        "\n",
        "\n",
        "def print_clip_feature(dataloader):\n",
        "  view1, view2, caption, label = next(iter(dataloader))\n",
        "  print(f\"View1 is with shape: {view1.shape}, the type is {view1.dtype}.\")\n",
        "  print(f\"View2 is with shape: {view2.shape}, the type is {view2.dtype}.\")\n",
        "  print(f\"Label is with shape: {label.shape}, the type is {label.dtype}.\")"
      ],
      "metadata": {
        "id": "7AJfyZoPiqE3"
      },
      "execution_count": 6,
      "outputs": []
    },
    {
      "cell_type": "code",
      "source": [
        "train_loader, val_loader, test_loader = get_loader(bs = 10)"
      ],
      "metadata": {
        "id": "_SHfN3sIp8iL"
      },
      "execution_count": 7,
      "outputs": []
    },
    {
      "cell_type": "code",
      "source": [
        "print(len(train_loader))\n",
        "print(len(val_loader))\n",
        "print(len(test_loader))"
      ],
      "metadata": {
        "colab": {
          "base_uri": "https://localhost:8080/"
        },
        "id": "gG-SvjImw8AW",
        "outputId": "a2e56a49-214f-4417-ddc4-a24db722a283"
      },
      "execution_count": 8,
      "outputs": [
        {
          "output_type": "stream",
          "name": "stdout",
          "text": [
            "2700\n",
            "300\n",
            "1000\n"
          ]
        }
      ]
    },
    {
      "cell_type": "code",
      "source": [
        "plot_loder(train_loader)"
      ],
      "metadata": {
        "colab": {
          "base_uri": "https://localhost:8080/",
          "height": 449
        },
        "id": "K8UVCGxVue8Y",
        "outputId": "b8c85426-8452-43df-a28d-c3b6a25a2853"
      },
      "execution_count": 10,
      "outputs": [
        {
          "output_type": "stream",
          "name": "stdout",
          "text": [
            "The caption is: A little girl standing in front of a refrigerator., the label is: tensor([[1., 0., 0., 0., 0., 0., 0., 0., 0., 0., 0., 0., 0., 0., 0., 0., 0., 0.]])\n"
          ]
        },
        {
          "output_type": "display_data",
          "data": {
            "text/plain": [
              "<Figure size 1000x500 with 2 Axes>"
            ],
            "image/png": "[encoded data removed]"
          },
          "metadata": {}
        }
      ]
    },
    {
      "cell_type": "code",
      "source": [
        "print_clip_feature(train_loader)\n",
        "print_clip_feature(val_loader)"
      ],
      "metadata": {
        "colab": {
          "base_uri": "https://localhost:8080/"
        },
        "id": "kSfEmurHqdZ0",
        "outputId": "c929b7a5-a8a0-46d8-d664-5e2d7b6d5fc9"
      },
      "execution_count": null,
      "outputs": [
        {
          "output_type": "stream",
          "name": "stdout",
          "text": [
            "View1 is with shape: torch.Size([10, 1, 512]), the type is torch.float32.\n",
            "View2 is with shape: torch.Size([10, 1, 512]), the type is torch.float32.\n",
            "Label is with shape: torch.Size([10, 1, 18]), the type is torch.float32.\n",
            "View1 is with shape: torch.Size([10, 1, 512]), the type is torch.float32.\n",
            "View2 is with shape: torch.Size([10, 1, 512]), the type is torch.float32.\n",
            "Label is with shape: torch.Size([10, 1, 18]), the type is torch.float32.\n"
          ]
        }
      ]
    },
    {
      "cell_type": "markdown",
      "source": [
        "## Feature fusions"
      ],
      "metadata": {
        "id": "adgq-PIR4slP"
      }
    },
    {
      "cell_type": "code",
      "source": [
        "import torch.nn as nn\n",
        "\n",
        "class FEATURE_DECISION_DNN(nn.Module):\n",
        "    def __init__(self):\n",
        "        super().__init__()\n",
        "        self.fc1 = nn.Linear(512, 1024)\n",
        "        self.fc2 = nn.Linear(1024, 512)\n",
        "        self.fc3 = nn.Linear(512, 18)\n",
        "        self.dropout = nn.Dropout(p = 0.5)\n",
        "\n",
        "    def forward(self, inputs):\n",
        "        inputs = inputs.view(inputs.size(0), -1)  # 添加此行以调整输入张量的形状\n",
        "        tensor = F.gelu(self.fc1(inputs))\n",
        "        tensor = self.dropout(tensor)\n",
        "        tensor = F.gelu(self.fc2(tensor))\n",
        "        tensor = self.dropout(tensor)\n",
        "        tensor = torch.sigmoid(self.fc3(tensor))\n",
        "        return tensor\n",
        "\n",
        "class DECISION_DECISION_DNN(nn.Module):\n",
        "    def __init__(self):\n",
        "        super().__init__()\n",
        "        self.fc1 = nn.Linear(18, 512)\n",
        "        self.fc2 = nn.Linear(512, 512)\n",
        "        self.fc3 = nn.Linear(512, 18)\n",
        "\n",
        "    def forward(self, inputs):\n",
        "        tensor = F.gelu(self.fc1(inputs))\n",
        "        tensor = F.gelu(self.fc2(tensor))\n",
        "        tensor = torch.sigmoid(self.fc3(tensor))\n",
        "        return tensor"
      ],
      "metadata": {
        "id": "0MEjdQgc4ro7"
      },
      "execution_count": null,
      "outputs": []
    },
    {
      "cell_type": "code",
      "source": [
        "pip install -q torchmetrics"
      ],
      "metadata": {
        "colab": {
          "base_uri": "https://localhost:8080/"
        },
        "id": "t5IfWO805J59",
        "outputId": "8e1688b1-56b3-4d67-ea1f-4a73efc92661"
      },
      "execution_count": null,
      "outputs": [
        {
          "output_type": "stream",
          "name": "stdout",
          "text": [
            "\u001b[?25l     \u001b[90m━━━━━━━━━━━━━━━━━━━━━━━━━━━━━━━━━━━━━━━━\u001b[0m \u001b[32m0.0/519.2 kB\u001b[0m \u001b[31m?\u001b[0m eta \u001b[36m-:--:--\u001b[0m\r\u001b[2K     \u001b[91m━━━━━━━━━━━━━━━━━\u001b[0m\u001b[91m╸\u001b[0m\u001b[90m━━━━━━━━━━━━━━━━━━━━━\u001b[0m \u001b[32m235.5/519.2 kB\u001b[0m \u001b[31m7.2 MB/s\u001b[0m eta \u001b[36m0:00:01\u001b[0m\r\u001b[2K     \u001b[90m━━━━━━━━━━━━━━━━━━━━━━━━━━━━━━━━━━━━━━━\u001b[0m \u001b[32m519.2/519.2 kB\u001b[0m \u001b[31m9.1 MB/s\u001b[0m eta \u001b[36m0:00:00\u001b[0m\n",
            "\u001b[?25h"
          ]
        }
      ]
    },
    {
      "cell_type": "code",
      "source": [
        "import numpy as np\n",
        "from tqdm import tqdm\n",
        "import torch.nn.functional as F\n",
        "from torchmetrics import F1Score\n",
        "from torch import optim\n",
        "\n",
        "from torch.utils.data import TensorDataset\n",
        "from torch.utils.data import DataLoader\n",
        "def Trainer(net, epoch, epoch_step_1, epoch_step_2):\n",
        "    model, preprocess = clip.load('ViT-B/32', \"cuda\")\n",
        "  \n",
        "    train_loader, val_loader, _ = get_loader(bs = 600, load_clip = True)\n",
        "    print_clip_feature(train_loader) \n",
        "    #print_clip_feature(train_loader)\n",
        "    dev = \"cuda\" if torch.cuda.is_available() else \"cpu\"\n",
        "    Net = net.to(dev)\n",
        "    opti = optim.Adam(Net.parameters(), lr = 1e-3)\n",
        "    scheduler = torch.optim.lr_scheduler.MultiStepLR(opti, milestones=[epoch_step_1,epoch_step_2], gamma = 0.1)\n",
        "    f1 = F1Score(task=\"multilabel\", num_labels = 18).to(dev)\n",
        "\n",
        "    epoch = epoch\n",
        "    loss_list = []\n",
        "    f1_list = []\n",
        "\n",
        "    for epoch in tqdm(range(epoch), colour = 'GREEN'):\n",
        "        data, view2, cap, label = next(iter(train_loader))  \n",
        "        data, _, _ = clip_feature(data, view2, cap, model = model, preprocess = preprocess)\n",
        "\n",
        "        label.to(dev)\n",
        "        label = label.squeeze(1)  # 添加此行以调整目标张量的形状\n",
        "        preds = Net(data)        \n",
        "        loss = F.binary_cross_entropy(preds, label)\n",
        "        loss.backward()\n",
        "        opti.step()\n",
        "        scheduler.step()\n",
        "        opti.zero_grad()\n",
        "        loss_list.append(loss)\n",
        "\n",
        "        Net.eval()\n",
        "        with torch.autograd.no_grad():\n",
        "            data_val, _, _, label_val = next(iter(val_loader))\n",
        "            data_val, label_val = data_val.to(dev), label_val.to(dev)\n",
        "            label_val = label.squeeze(1)  # 添加此行以调整目标张量的形状\n",
        "            predict = Net(data_val)\n",
        "            f1_score = f1(predict, label_val)\n",
        "            print('F1 in epoch{} : {:.4f}'.format(epoch, f1_score))\n",
        "        f1_list.append(f1_score)\n",
        "    \n",
        "    return Net, loss_list, f1_list\n",
        "\n",
        "def clip_feature(view1, view2, caption, model, preprocess):\n",
        "      # view1_input = preprocess(view1).unsqueeze(0)\n",
        "      # view2_input = preprocess(view2).unsqueeze(0)\n",
        "      # text_inputs = torch.cat([clip.tokenize(f\"{caption}\")])\n",
        "      with torch.no_grad():\n",
        "        view1_features = model.encode_image(view1.to(dev))\n",
        "        view2_features = model.encode_image(view2.to(dev))\n",
        "        # text_features = model.encode_text(text_inputs)\n",
        "\n",
        "      return view1_features.float(), view2_features.float(), text_features.float()"
      ],
      "metadata": {
        "id": "c0HXIl-K5Q5f"
      },
      "execution_count": null,
      "outputs": []
    },
    {
      "cell_type": "code",
      "source": [
        "from torchvision import transforms\n",
        "\n",
        "def Trainer(net, epoch, epoch_step_1, epoch_step_2):\n",
        "    model, preprocess = clip.load('ViT-B/32', \"cuda\")\n",
        "  \n",
        "    dev = \"cuda\" if torch.cuda.is_available() else \"cpu\"\n",
        "    Net = net.to(dev)\n",
        "    opti = optim.Adam(Net.parameters(), lr = 1e-3)\n",
        "    scheduler = torch.optim.lr_scheduler.MultiStepLR(opti, milestones=[epoch_step_1,epoch_step_2], gamma = 0.1)\n",
        "    f1 = F1Score(task=\"multilabel\", num_labels = 18).to(dev)\n",
        "\n",
        "    epoch = epoch\n",
        "    loss_list = []\n",
        "    f1_list = []\n",
        "\n",
        "    for epoch in tqdm(range(epoch), colour = 'GREEN'):\n",
        "        train_loader, val_loader, _ = get_loader(bs = 600, load_clip = True)\n",
        "        for data, view2, cap, label in train_loader:\n",
        "            data, _, _ = clip_feature(data, view2, cap, model = model, preprocess = preprocess)\n",
        "            label = label.to(dev)\n",
        "            label = label.squeeze(1)  # 添加此行以调整目标张量的形状\n",
        "            preds = Net(data)        \n",
        "            loss = F.binary_cross_entropy(preds, label)\n",
        "            loss.backward()\n",
        "            opti.step()\n",
        "            scheduler.step()\n",
        "            opti.zero_grad()\n",
        "            loss_list.append(loss)\n",
        "\n",
        "        Net.eval()\n",
        "        with torch.autograd.no_grad():\n",
        "            for data_val, _, _, label_val in val_loader:\n",
        "                data_val, _, _ = clip_feature(data_val, view2, cap, model = model, preprocess = preprocess)\n",
        "                data_val, label_val = data_val.to(dev), label_val.to(dev)\n",
        "                label_val = label_val.squeeze(1)  # 添加此行以调整目标张量的形状\n",
        "                predict = Net(data_val)\n",
        "                f1_score = f1(predict, label_val)\n",
        "            print('F1 in epoch{} : {:.4f}'.format(epoch, f1_score))\n",
        "            f1_list.append(f1_score)\n",
        "    \n",
        "    return Net, loss_list, f1_list\n",
        "\n",
        "def clip_feature(view1, view2, caption, model, preprocess):\n",
        "    with torch.no_grad():\n",
        "        view1 = [transforms.ToPILImage()(img) for img in view1]  # 新增此行将张量转换为PIL图像\n",
        "        view2 = [transforms.ToPILImage()(img) for img in view2]  # 新增此行将张量转换为PIL图像\n",
        "        view1_features = model.encode_image(torch.stack([preprocess(img) for img in view1]).to(dev))  # 修改此行以适应批量数据\n",
        "        view2_features = model.encode_image(torch.stack([preprocess(img) for img in view2]).to(dev))  # 修改此行以适应批量数据\n",
        "        text_features = model.encode_text(clip.tokenize(caption).to(dev))  # 修改此行以适应批量数据\n",
        "\n",
        "    return view1_features.float(), view2_features.float(), text_features.float()\n",
        "\n",
        "\n",
        "    return view1_features.float(), view2_features.float(), text_features.float()\n"
      ],
      "metadata": {
        "id": "7dCNho1rSSz1"
      },
      "execution_count": null,
      "outputs": []
    },
    {
      "cell_type": "code",
      "source": [
        "def Trainer(net, epoch, epoch_step_1, epoch_step_2):\n",
        "    model, preprocess = clip.load('ViT-B/32', \"cuda\")\n",
        "  \n",
        "    dev = \"cuda\" if torch.cuda.is_available() else \"cpu\"\n",
        "    Net = net.to(dev)\n",
        "    opti = optim.Adam(Net.parameters(), lr = 1e-3)\n",
        "    scheduler = torch.optim.lr_scheduler.MultiStepLR(opti, milestones=[epoch_step_1,epoch_step_2], gamma = 0.1)\n",
        "    f1 = F1Score(task=\"multilabel\", num_labels = 18).to(dev)\n",
        "\n",
        "    epoch = epoch\n",
        "    loss_list = []\n",
        "    f1_list = []\n",
        "\n",
        "    for epoch in tqdm(range(epoch), colour = 'GREEN'):\n",
        "        train_loader, val_loader, _ = get_loader(bs = 2, load_clip = True)\n",
        "        for data, view2, cap, label in train_loader:\n",
        "            data, _, _ = clip_feature(data, view2, cap, model = model, preprocess = preprocess)\n",
        "            label = label.to(dev)\n",
        "            label = label.squeeze(1)  # 添加此行以调整目标张量的形状\n",
        "            preds = Net(data)        \n",
        "            loss = F.binary_cross_entropy(preds, label)\n",
        "            loss.backward()\n",
        "            opti.step()\n",
        "            scheduler.step()\n",
        "            opti.zero_grad()\n",
        "            loss_list.append(loss)\n",
        "\n",
        "        Net.eval()\n",
        "        with torch.autograd.no_grad():\n",
        "            for data_val, _, _, label_val in val_loader:\n",
        "                data_val, _, _ = clip_feature(data_val, view2, cap, model = model, preprocess = preprocess)\n",
        "                data_val, label_val = data_val.to(dev), label_val.to(dev)\n",
        "                label_val = label_val.squeeze(1)  # 添加此行以调整目标张量的形状\n",
        "                predict = Net(data_val)\n",
        "                f1_score = f1(predict, label_val)\n",
        "            print('F1 in epoch{} : {:.4f}'.format(epoch, f1_score))\n",
        "            f1_list.append(f1_score)\n",
        "    \n",
        "    return Net, loss_list, f1_list\n",
        "\n",
        "def clip_feature(view1, view2, caption, model, preprocess):\n",
        "    with torch.no_grad():\n",
        "        view1 = [transforms.ToPILImage()(img) for img in view1]  # 新增此行将张量转换为PIL图像\n",
        "        view2 = [transforms.ToPILImage()(img) for img in view2]  # 新增此行将张量转换为PIL图像\n",
        "        view1_features = model.encode_image(torch.stack([preprocess(img) for img in view1]).to(dev))  # 修改此行以适应批量数据\n",
        "        view2_features = model.encode_image(torch.stack([preprocess(img) for img in view2]).to(dev))  # 修改此行以适应批量数据\n",
        "        text_features = model.encode_text(clip.tokenize(caption).to(dev))  # 修改此行以适应批量数据\n",
        "\n",
        "    return view1_features.float(), view2_features.float(), text_features.float()\n"
      ],
      "metadata": {
        "id": "OtGJlvdUUNOe"
      },
      "execution_count": null,
      "outputs": []
    },
    {
      "cell_type": "code",
      "source": [
        "dev = \"cuda\" if torch.cuda.is_available() else \"cpu\"\n",
        "\n",
        "Net, loss_list, f1_list = Trainer(FEATURE_DECISION_DNN(), 480, 380, 480)\n",
        "Net.eval()\n",
        "# with torch.autograd.no_grad():\n",
        "#     img_train = Net(all_image_features.to(dev))\n",
        "#     img_test = Net(test_image_features.to(dev))"
      ],
      "metadata": {
        "id": "beNtFjet5S3A",
        "outputId": "650c9dc3-a6c1-46e1-f104-d36a45a17811",
        "colab": {
          "base_uri": "https://localhost:8080/"
        }
      },
      "execution_count": null,
      "outputs": [
        {
          "output_type": "stream",
          "name": "stderr",
          "text": [
            "\r  0%|\u001b[32m          \u001b[0m| 0/480 [00:00<?, ?it/s]"
          ]
        }
      ]
    },
    {
      "cell_type": "code",
      "source": [
        "Net, loss_list, f1_list = Trainer(FEATURE_DECISION_DNN(), 360, 360, 360, all_text_feature)\n",
        "Net.eval()\n",
        "with torch.autograd.no_grad():\n",
        "    txt_train = Net(all_text_feature.to(dev))\n",
        "    txt_test = Net(test_text_feature.to(dev))"
      ],
      "metadata": {
        "id": "eWG4Pold5aVc"
      },
      "execution_count": null,
      "outputs": []
    },
    {
      "cell_type": "code",
      "source": [
        "sum_train = img_train+txt_train\n",
        "sum_test = img_test+txt_test\n",
        "Net, loss_list, f1_list = Trainer(DECISION_DECISION_DNN(),300, 220, 270, sum_train)\n",
        "Net.eval()\n",
        "with torch.autograd.no_grad():\n",
        "    final = Net(sum_test)"
      ],
      "metadata": {
        "id": "_no8g3kY5eYw",
        "colab": {
          "base_uri": "https://localhost:8080/"
        },
        "outputId": "f739cacf-c465-4c8d-9d4a-eaa7ce54b259"
      },
      "execution_count": null,
      "outputs": [
        {
          "output_type": "stream",
          "name": "stderr",
          "text": [
            "  0%|\u001b[32m          \u001b[0m| 1/300 [00:00<02:26,  2.04it/s]"
          ]
        },
        {
          "output_type": "stream",
          "name": "stdout",
          "text": [
            "F1 in epoch0 : 0.5577\n"
          ]
        },
        {
          "output_type": "stream",
          "name": "stderr",
          "text": [
            "\r  1%|\u001b[32m          \u001b[0m| 2/300 [00:00<01:40,  2.97it/s]"
          ]
        },
        {
          "output_type": "stream",
          "name": "stdout",
          "text": [
            "F1 in epoch1 : 0.6004\n"
          ]
        },
        {
          "output_type": "stream",
          "name": "stderr",
          "text": [
            "\r  1%|\u001b[32m          \u001b[0m| 3/300 [00:01<02:05,  2.37it/s]"
          ]
        },
        {
          "output_type": "stream",
          "name": "stdout",
          "text": [
            "F1 in epoch2 : 0.5941\n"
          ]
        },
        {
          "output_type": "stream",
          "name": "stderr",
          "text": [
            "\r  1%|\u001b[32m▏         \u001b[0m| 4/300 [00:01<01:42,  2.88it/s]"
          ]
        },
        {
          "output_type": "stream",
          "name": "stdout",
          "text": [
            "F1 in epoch3 : 0.5887\n"
          ]
        },
        {
          "output_type": "stream",
          "name": "stderr",
          "text": [
            "\r  2%|\u001b[32m▏         \u001b[0m| 5/300 [00:01<01:59,  2.47it/s]"
          ]
        },
        {
          "output_type": "stream",
          "name": "stdout",
          "text": [
            "F1 in epoch4 : 0.5845\n"
          ]
        },
        {
          "output_type": "stream",
          "name": "stderr",
          "text": [
            "\r  2%|\u001b[32m▏         \u001b[0m| 6/300 [00:02<02:09,  2.27it/s]"
          ]
        },
        {
          "output_type": "stream",
          "name": "stdout",
          "text": [
            "F1 in epoch5 : 0.5834\n"
          ]
        },
        {
          "output_type": "stream",
          "name": "stderr",
          "text": [
            "\r  2%|\u001b[32m▏         \u001b[0m| 7/300 [00:02<01:49,  2.67it/s]"
          ]
        },
        {
          "output_type": "stream",
          "name": "stdout",
          "text": [
            "F1 in epoch6 : 0.5782\n"
          ]
        },
        {
          "output_type": "stream",
          "name": "stderr",
          "text": [
            "\r  3%|\u001b[32m▎         \u001b[0m| 8/300 [00:03<02:01,  2.40it/s]"
          ]
        },
        {
          "output_type": "stream",
          "name": "stdout",
          "text": [
            "F1 in epoch7 : 0.5778\n"
          ]
        },
        {
          "output_type": "stream",
          "name": "stderr",
          "text": [
            "\r  3%|\u001b[32m▎         \u001b[0m| 9/300 [00:03<01:45,  2.77it/s]"
          ]
        },
        {
          "output_type": "stream",
          "name": "stdout",
          "text": [
            "F1 in epoch8 : 0.5778\n"
          ]
        },
        {
          "output_type": "stream",
          "name": "stderr",
          "text": [
            "\r  3%|\u001b[32m▎         \u001b[0m| 10/300 [00:03<01:57,  2.47it/s]"
          ]
        },
        {
          "output_type": "stream",
          "name": "stdout",
          "text": [
            "F1 in epoch9 : 0.5778\n"
          ]
        },
        {
          "output_type": "stream",
          "name": "stderr",
          "text": [
            "\r  4%|\u001b[32m▎         \u001b[0m| 11/300 [00:04<02:09,  2.24it/s]"
          ]
        },
        {
          "output_type": "stream",
          "name": "stdout",
          "text": [
            "F1 in epoch10 : 0.5778\n"
          ]
        },
        {
          "output_type": "stream",
          "name": "stderr",
          "text": [
            "\r  4%|\u001b[32m▍         \u001b[0m| 12/300 [00:04<01:50,  2.60it/s]"
          ]
        },
        {
          "output_type": "stream",
          "name": "stdout",
          "text": [
            "F1 in epoch11 : 0.5778\n"
          ]
        },
        {
          "output_type": "stream",
          "name": "stderr",
          "text": [
            "\r  4%|\u001b[32m▍         \u001b[0m| 13/300 [00:05<02:00,  2.38it/s]"
          ]
        },
        {
          "output_type": "stream",
          "name": "stdout",
          "text": [
            "F1 in epoch12 : 0.5778\n"
          ]
        },
        {
          "output_type": "stream",
          "name": "stderr",
          "text": [
            "\r  5%|\u001b[32m▍         \u001b[0m| 14/300 [00:05<01:44,  2.75it/s]"
          ]
        },
        {
          "output_type": "stream",
          "name": "stdout",
          "text": [
            "F1 in epoch13 : 0.5778\n"
          ]
        },
        {
          "output_type": "stream",
          "name": "stderr",
          "text": [
            "\r  5%|\u001b[32m▌         \u001b[0m| 15/300 [00:06<01:55,  2.46it/s]"
          ]
        },
        {
          "output_type": "stream",
          "name": "stdout",
          "text": [
            "F1 in epoch14 : 0.5778\n"
          ]
        },
        {
          "output_type": "stream",
          "name": "stderr",
          "text": [
            "\r  5%|\u001b[32m▌         \u001b[0m| 16/300 [00:06<02:05,  2.27it/s]"
          ]
        },
        {
          "output_type": "stream",
          "name": "stdout",
          "text": [
            "F1 in epoch15 : 0.5778\n"
          ]
        },
        {
          "output_type": "stream",
          "name": "stderr",
          "text": [
            "\r  6%|\u001b[32m▌         \u001b[0m| 17/300 [00:06<01:47,  2.64it/s]"
          ]
        },
        {
          "output_type": "stream",
          "name": "stdout",
          "text": [
            "F1 in epoch16 : 0.5778\n"
          ]
        },
        {
          "output_type": "stream",
          "name": "stderr",
          "text": [
            "\r  6%|\u001b[32m▌         \u001b[0m| 18/300 [00:07<01:58,  2.38it/s]"
          ]
        },
        {
          "output_type": "stream",
          "name": "stdout",
          "text": [
            "F1 in epoch17 : 0.5778\n"
          ]
        },
        {
          "output_type": "stream",
          "name": "stderr",
          "text": [
            "\r  6%|\u001b[32m▋         \u001b[0m| 19/300 [00:07<01:42,  2.74it/s]"
          ]
        },
        {
          "output_type": "stream",
          "name": "stdout",
          "text": [
            "F1 in epoch18 : 0.5778\n"
          ]
        },
        {
          "output_type": "stream",
          "name": "stderr",
          "text": [
            "\r  7%|\u001b[32m▋         \u001b[0m| 20/300 [00:08<01:54,  2.46it/s]"
          ]
        },
        {
          "output_type": "stream",
          "name": "stdout",
          "text": [
            "F1 in epoch19 : 0.5808\n"
          ]
        },
        {
          "output_type": "stream",
          "name": "stderr",
          "text": [
            "\r  7%|\u001b[32m▋         \u001b[0m| 21/300 [00:08<01:39,  2.81it/s]"
          ]
        },
        {
          "output_type": "stream",
          "name": "stdout",
          "text": [
            "F1 in epoch20 : 0.5860\n"
          ]
        },
        {
          "output_type": "stream",
          "name": "stderr",
          "text": [
            "\r  7%|\u001b[32m▋         \u001b[0m| 22/300 [00:08<01:50,  2.51it/s]"
          ]
        },
        {
          "output_type": "stream",
          "name": "stdout",
          "text": [
            "F1 in epoch21 : 0.5949\n"
          ]
        },
        {
          "output_type": "stream",
          "name": "stderr",
          "text": [
            "\r  8%|\u001b[32m▊         \u001b[0m| 23/300 [00:08<01:36,  2.87it/s]"
          ]
        },
        {
          "output_type": "stream",
          "name": "stdout",
          "text": [
            "F1 in epoch22 : 0.6043\n"
          ]
        },
        {
          "output_type": "stream",
          "name": "stderr",
          "text": [
            "\r  8%|\u001b[32m▊         \u001b[0m| 24/300 [00:09<01:47,  2.57it/s]"
          ]
        },
        {
          "output_type": "stream",
          "name": "stdout",
          "text": [
            "F1 in epoch23 : 0.6175\n"
          ]
        },
        {
          "output_type": "stream",
          "name": "stderr",
          "text": [
            "\r  8%|\u001b[32m▊         \u001b[0m| 25/300 [00:09<01:56,  2.35it/s]"
          ]
        },
        {
          "output_type": "stream",
          "name": "stdout",
          "text": [
            "F1 in epoch24 : 0.6254\n"
          ]
        },
        {
          "output_type": "stream",
          "name": "stderr",
          "text": [
            "\r  9%|\u001b[32m▊         \u001b[0m| 26/300 [00:10<01:40,  2.72it/s]"
          ]
        },
        {
          "output_type": "stream",
          "name": "stdout",
          "text": [
            "F1 in epoch25 : 0.6311\n"
          ]
        },
        {
          "output_type": "stream",
          "name": "stderr",
          "text": [
            "\r  9%|\u001b[32m▉         \u001b[0m| 27/300 [00:10<01:51,  2.45it/s]"
          ]
        },
        {
          "output_type": "stream",
          "name": "stdout",
          "text": [
            "F1 in epoch26 : 0.6319\n"
          ]
        },
        {
          "output_type": "stream",
          "name": "stderr",
          "text": [
            "\r  9%|\u001b[32m▉         \u001b[0m| 28/300 [00:10<01:36,  2.82it/s]"
          ]
        },
        {
          "output_type": "stream",
          "name": "stdout",
          "text": [
            "F1 in epoch27 : 0.6309\n"
          ]
        },
        {
          "output_type": "stream",
          "name": "stderr",
          "text": [
            "\r 10%|\u001b[32m▉         \u001b[0m| 29/300 [00:11<01:48,  2.51it/s]"
          ]
        },
        {
          "output_type": "stream",
          "name": "stdout",
          "text": [
            "F1 in epoch28 : 0.6285\n"
          ]
        },
        {
          "output_type": "stream",
          "name": "stderr",
          "text": [
            "\r 10%|\u001b[32m█         \u001b[0m| 30/300 [00:11<01:34,  2.85it/s]"
          ]
        },
        {
          "output_type": "stream",
          "name": "stdout",
          "text": [
            "F1 in epoch29 : 0.6294\n"
          ]
        },
        {
          "output_type": "stream",
          "name": "stderr",
          "text": [
            "\r 10%|\u001b[32m█         \u001b[0m| 31/300 [00:12<01:46,  2.53it/s]"
          ]
        },
        {
          "output_type": "stream",
          "name": "stdout",
          "text": [
            "F1 in epoch30 : 0.6257\n"
          ]
        },
        {
          "output_type": "stream",
          "name": "stderr",
          "text": [
            "\r 11%|\u001b[32m█         \u001b[0m| 32/300 [00:12<01:55,  2.32it/s]"
          ]
        },
        {
          "output_type": "stream",
          "name": "stdout",
          "text": [
            "F1 in epoch31 : 0.6263\n"
          ]
        },
        {
          "output_type": "stream",
          "name": "stderr",
          "text": [
            "\r 11%|\u001b[32m█         \u001b[0m| 33/300 [00:12<01:39,  2.67it/s]"
          ]
        },
        {
          "output_type": "stream",
          "name": "stdout",
          "text": [
            "F1 in epoch32 : 0.6304\n"
          ]
        },
        {
          "output_type": "stream",
          "name": "stderr",
          "text": [
            "\r 11%|\u001b[32m█▏        \u001b[0m| 34/300 [00:13<01:51,  2.38it/s]"
          ]
        },
        {
          "output_type": "stream",
          "name": "stdout",
          "text": [
            "F1 in epoch33 : 0.6319\n"
          ]
        },
        {
          "output_type": "stream",
          "name": "stderr",
          "text": [
            "\r 12%|\u001b[32m█▏        \u001b[0m| 35/300 [00:13<01:37,  2.72it/s]"
          ]
        },
        {
          "output_type": "stream",
          "name": "stdout",
          "text": [
            "F1 in epoch34 : 0.6337\n"
          ]
        },
        {
          "output_type": "stream",
          "name": "stderr",
          "text": [
            "\r 12%|\u001b[32m█▏        \u001b[0m| 36/300 [00:14<01:48,  2.42it/s]"
          ]
        },
        {
          "output_type": "stream",
          "name": "stdout",
          "text": [
            "F1 in epoch35 : 0.6376\n"
          ]
        },
        {
          "output_type": "stream",
          "name": "stderr",
          "text": [
            "\r 12%|\u001b[32m█▏        \u001b[0m| 37/300 [00:14<01:35,  2.76it/s]"
          ]
        },
        {
          "output_type": "stream",
          "name": "stdout",
          "text": [
            "F1 in epoch36 : 0.6460\n"
          ]
        },
        {
          "output_type": "stream",
          "name": "stderr",
          "text": [
            "\r 13%|\u001b[32m█▎        \u001b[0m| 38/300 [00:14<01:46,  2.46it/s]"
          ]
        },
        {
          "output_type": "stream",
          "name": "stdout",
          "text": [
            "F1 in epoch37 : 0.6506\n"
          ]
        },
        {
          "output_type": "stream",
          "name": "stderr",
          "text": [
            "\r 13%|\u001b[32m█▎        \u001b[0m| 39/300 [00:15<01:56,  2.23it/s]"
          ]
        },
        {
          "output_type": "stream",
          "name": "stdout",
          "text": [
            "F1 in epoch38 : 0.6605\n"
          ]
        },
        {
          "output_type": "stream",
          "name": "stderr",
          "text": [
            "\r 13%|\u001b[32m█▎        \u001b[0m| 40/300 [00:15<01:42,  2.54it/s]"
          ]
        },
        {
          "output_type": "stream",
          "name": "stdout",
          "text": [
            "F1 in epoch39 : 0.6649\n"
          ]
        },
        {
          "output_type": "stream",
          "name": "stderr",
          "text": [
            "\r 14%|\u001b[32m█▎        \u001b[0m| 41/300 [00:16<01:51,  2.32it/s]"
          ]
        },
        {
          "output_type": "stream",
          "name": "stdout",
          "text": [
            "F1 in epoch40 : 0.6724\n"
          ]
        },
        {
          "output_type": "stream",
          "name": "stderr",
          "text": [
            "\r 14%|\u001b[32m█▍        \u001b[0m| 42/300 [00:16<01:36,  2.69it/s]"
          ]
        },
        {
          "output_type": "stream",
          "name": "stdout",
          "text": [
            "F1 in epoch41 : 0.6810\n"
          ]
        },
        {
          "output_type": "stream",
          "name": "stderr",
          "text": [
            "\r 14%|\u001b[32m█▍        \u001b[0m| 43/300 [00:17<01:45,  2.43it/s]"
          ]
        },
        {
          "output_type": "stream",
          "name": "stdout",
          "text": [
            "F1 in epoch42 : 0.6853\n"
          ]
        },
        {
          "output_type": "stream",
          "name": "stderr",
          "text": [
            "\r 15%|\u001b[32m█▍        \u001b[0m| 44/300 [00:17<01:32,  2.77it/s]"
          ]
        },
        {
          "output_type": "stream",
          "name": "stdout",
          "text": [
            "F1 in epoch43 : 0.6917\n"
          ]
        },
        {
          "output_type": "stream",
          "name": "stderr",
          "text": [
            "\r 15%|\u001b[32m█▌        \u001b[0m| 45/300 [00:17<01:43,  2.47it/s]"
          ]
        },
        {
          "output_type": "stream",
          "name": "stdout",
          "text": [
            "F1 in epoch44 : 0.6971\n"
          ]
        },
        {
          "output_type": "stream",
          "name": "stderr",
          "text": [
            "\r 15%|\u001b[32m█▌        \u001b[0m| 46/300 [00:18<01:51,  2.28it/s]"
          ]
        },
        {
          "output_type": "stream",
          "name": "stdout",
          "text": [
            "F1 in epoch45 : 0.6962\n"
          ]
        },
        {
          "output_type": "stream",
          "name": "stderr",
          "text": [
            "\r 16%|\u001b[32m█▌        \u001b[0m| 47/300 [00:18<01:35,  2.64it/s]"
          ]
        },
        {
          "output_type": "stream",
          "name": "stdout",
          "text": [
            "F1 in epoch46 : 0.6978\n"
          ]
        },
        {
          "output_type": "stream",
          "name": "stderr",
          "text": [
            "\r 16%|\u001b[32m█▌        \u001b[0m| 48/300 [00:19<01:45,  2.39it/s]"
          ]
        },
        {
          "output_type": "stream",
          "name": "stdout",
          "text": [
            "F1 in epoch47 : 0.7033\n"
          ]
        },
        {
          "output_type": "stream",
          "name": "stderr",
          "text": [
            "\r 16%|\u001b[32m█▋        \u001b[0m| 49/300 [00:19<01:31,  2.74it/s]"
          ]
        },
        {
          "output_type": "stream",
          "name": "stdout",
          "text": [
            "F1 in epoch48 : 0.7089\n"
          ]
        },
        {
          "output_type": "stream",
          "name": "stderr",
          "text": [
            "\r 17%|\u001b[32m█▋        \u001b[0m| 50/300 [00:19<01:42,  2.43it/s]"
          ]
        },
        {
          "output_type": "stream",
          "name": "stdout",
          "text": [
            "F1 in epoch49 : 0.7109\n"
          ]
        },
        {
          "output_type": "stream",
          "name": "stderr",
          "text": [
            "\r 17%|\u001b[32m█▋        \u001b[0m| 51/300 [00:20<01:29,  2.78it/s]"
          ]
        },
        {
          "output_type": "stream",
          "name": "stdout",
          "text": [
            "F1 in epoch50 : 0.7163\n"
          ]
        },
        {
          "output_type": "stream",
          "name": "stderr",
          "text": [
            "\r 17%|\u001b[32m█▋        \u001b[0m| 52/300 [00:20<01:39,  2.49it/s]"
          ]
        },
        {
          "output_type": "stream",
          "name": "stdout",
          "text": [
            "F1 in epoch51 : 0.7226\n"
          ]
        },
        {
          "output_type": "stream",
          "name": "stderr",
          "text": [
            "\r 18%|\u001b[32m█▊        \u001b[0m| 53/300 [00:21<01:47,  2.30it/s]"
          ]
        },
        {
          "output_type": "stream",
          "name": "stdout",
          "text": [
            "F1 in epoch52 : 0.7233\n"
          ]
        },
        {
          "output_type": "stream",
          "name": "stderr",
          "text": [
            "\r 18%|\u001b[32m█▊        \u001b[0m| 54/300 [00:21<01:32,  2.67it/s]"
          ]
        },
        {
          "output_type": "stream",
          "name": "stdout",
          "text": [
            "F1 in epoch53 : 0.7276\n"
          ]
        },
        {
          "output_type": "stream",
          "name": "stderr",
          "text": [
            "\r 18%|\u001b[32m█▊        \u001b[0m| 55/300 [00:21<01:41,  2.41it/s]"
          ]
        },
        {
          "output_type": "stream",
          "name": "stdout",
          "text": [
            "F1 in epoch54 : 0.7339\n"
          ]
        },
        {
          "output_type": "stream",
          "name": "stderr",
          "text": [
            "\r 19%|\u001b[32m█▊        \u001b[0m| 56/300 [00:22<01:28,  2.76it/s]"
          ]
        },
        {
          "output_type": "stream",
          "name": "stdout",
          "text": [
            "F1 in epoch55 : 0.7406\n"
          ]
        },
        {
          "output_type": "stream",
          "name": "stderr",
          "text": [
            "\r 19%|\u001b[32m█▉        \u001b[0m| 57/300 [00:22<01:37,  2.48it/s]"
          ]
        },
        {
          "output_type": "stream",
          "name": "stdout",
          "text": [
            "F1 in epoch56 : 0.7505\n"
          ]
        },
        {
          "output_type": "stream",
          "name": "stderr",
          "text": [
            "\r 19%|\u001b[32m█▉        \u001b[0m| 58/300 [00:22<01:25,  2.85it/s]"
          ]
        },
        {
          "output_type": "stream",
          "name": "stdout",
          "text": [
            "F1 in epoch57 : 0.7592\n"
          ]
        },
        {
          "output_type": "stream",
          "name": "stderr",
          "text": [
            "\r 20%|\u001b[32m█▉        \u001b[0m| 59/300 [00:23<01:34,  2.55it/s]"
          ]
        },
        {
          "output_type": "stream",
          "name": "stdout",
          "text": [
            "F1 in epoch58 : 0.7676\n"
          ]
        },
        {
          "output_type": "stream",
          "name": "stderr",
          "text": [
            "\r 20%|\u001b[32m██        \u001b[0m| 60/300 [00:23<01:42,  2.35it/s]"
          ]
        },
        {
          "output_type": "stream",
          "name": "stdout",
          "text": [
            "F1 in epoch59 : 0.7710\n"
          ]
        },
        {
          "output_type": "stream",
          "name": "stderr",
          "text": [
            "\r 20%|\u001b[32m██        \u001b[0m| 61/300 [00:24<01:28,  2.69it/s]"
          ]
        },
        {
          "output_type": "stream",
          "name": "stdout",
          "text": [
            "F1 in epoch60 : 0.7722\n"
          ]
        },
        {
          "output_type": "stream",
          "name": "stderr",
          "text": [
            "\r 21%|\u001b[32m██        \u001b[0m| 62/300 [00:24<01:37,  2.44it/s]"
          ]
        },
        {
          "output_type": "stream",
          "name": "stdout",
          "text": [
            "F1 in epoch61 : 0.7773\n"
          ]
        },
        {
          "output_type": "stream",
          "name": "stderr",
          "text": [
            "\r 21%|\u001b[32m██        \u001b[0m| 63/300 [00:24<01:24,  2.81it/s]"
          ]
        },
        {
          "output_type": "stream",
          "name": "stdout",
          "text": [
            "F1 in epoch62 : 0.7803\n"
          ]
        },
        {
          "output_type": "stream",
          "name": "stderr",
          "text": [
            "\r 21%|\u001b[32m██▏       \u001b[0m| 64/300 [00:25<01:33,  2.52it/s]"
          ]
        },
        {
          "output_type": "stream",
          "name": "stdout",
          "text": [
            "F1 in epoch63 : 0.7842\n"
          ]
        },
        {
          "output_type": "stream",
          "name": "stderr",
          "text": [
            "\r 22%|\u001b[32m██▏       \u001b[0m| 65/300 [00:25<01:41,  2.31it/s]"
          ]
        },
        {
          "output_type": "stream",
          "name": "stdout",
          "text": [
            "F1 in epoch64 : 0.7896\n"
          ]
        },
        {
          "output_type": "stream",
          "name": "stderr",
          "text": [
            "\r 22%|\u001b[32m██▏       \u001b[0m| 66/300 [00:26<01:28,  2.65it/s]"
          ]
        },
        {
          "output_type": "stream",
          "name": "stdout",
          "text": [
            "F1 in epoch65 : 0.7927\n"
          ]
        },
        {
          "output_type": "stream",
          "name": "stderr",
          "text": [
            "\r 22%|\u001b[32m██▏       \u001b[0m| 67/300 [00:26<01:37,  2.39it/s]"
          ]
        },
        {
          "output_type": "stream",
          "name": "stdout",
          "text": [
            "F1 in epoch66 : 0.7946\n"
          ]
        },
        {
          "output_type": "stream",
          "name": "stderr",
          "text": [
            "\r 23%|\u001b[32m██▎       \u001b[0m| 68/300 [00:26<01:24,  2.76it/s]"
          ]
        },
        {
          "output_type": "stream",
          "name": "stdout",
          "text": [
            "F1 in epoch67 : 0.7972\n"
          ]
        },
        {
          "output_type": "stream",
          "name": "stderr",
          "text": [
            "\r 23%|\u001b[32m██▎       \u001b[0m| 69/300 [00:27<01:34,  2.44it/s]"
          ]
        },
        {
          "output_type": "stream",
          "name": "stdout",
          "text": [
            "F1 in epoch68 : 0.7993\n"
          ]
        },
        {
          "output_type": "stream",
          "name": "stderr",
          "text": [
            "\r 23%|\u001b[32m██▎       \u001b[0m| 70/300 [00:27<01:22,  2.80it/s]"
          ]
        },
        {
          "output_type": "stream",
          "name": "stdout",
          "text": [
            "F1 in epoch69 : 0.8009\n"
          ]
        },
        {
          "output_type": "stream",
          "name": "stderr",
          "text": [
            "\r 24%|\u001b[32m██▎       \u001b[0m| 71/300 [00:28<01:31,  2.50it/s]"
          ]
        },
        {
          "output_type": "stream",
          "name": "stdout",
          "text": [
            "F1 in epoch70 : 0.8012\n"
          ]
        },
        {
          "output_type": "stream",
          "name": "stderr",
          "text": [
            "\r 24%|\u001b[32m██▍       \u001b[0m| 72/300 [00:28<01:20,  2.85it/s]"
          ]
        },
        {
          "output_type": "stream",
          "name": "stdout",
          "text": [
            "F1 in epoch71 : 0.8042\n"
          ]
        },
        {
          "output_type": "stream",
          "name": "stderr",
          "text": [
            "\r 24%|\u001b[32m██▍       \u001b[0m| 73/300 [00:28<01:28,  2.56it/s]"
          ]
        },
        {
          "output_type": "stream",
          "name": "stdout",
          "text": [
            "F1 in epoch72 : 0.8095\n"
          ]
        },
        {
          "output_type": "stream",
          "name": "stderr",
          "text": [
            "\r 25%|\u001b[32m██▍       \u001b[0m| 74/300 [00:29<01:35,  2.36it/s]"
          ]
        },
        {
          "output_type": "stream",
          "name": "stdout",
          "text": [
            "F1 in epoch73 : 0.8127\n"
          ]
        },
        {
          "output_type": "stream",
          "name": "stderr",
          "text": [
            "\r 25%|\u001b[32m██▌       \u001b[0m| 75/300 [00:29<01:22,  2.73it/s]"
          ]
        },
        {
          "output_type": "stream",
          "name": "stdout",
          "text": [
            "F1 in epoch74 : 0.8152\n"
          ]
        },
        {
          "output_type": "stream",
          "name": "stderr",
          "text": [
            "\r 25%|\u001b[32m██▌       \u001b[0m| 76/300 [00:29<01:31,  2.46it/s]"
          ]
        },
        {
          "output_type": "stream",
          "name": "stdout",
          "text": [
            "F1 in epoch75 : 0.8193\n"
          ]
        },
        {
          "output_type": "stream",
          "name": "stderr",
          "text": [
            "\r 26%|\u001b[32m██▌       \u001b[0m| 77/300 [00:30<01:19,  2.82it/s]"
          ]
        },
        {
          "output_type": "stream",
          "name": "stdout",
          "text": [
            "F1 in epoch76 : 0.8204\n"
          ]
        },
        {
          "output_type": "stream",
          "name": "stderr",
          "text": [
            "\r 26%|\u001b[32m██▌       \u001b[0m| 78/300 [00:30<01:27,  2.52it/s]"
          ]
        },
        {
          "output_type": "stream",
          "name": "stdout",
          "text": [
            "F1 in epoch77 : 0.8222\n"
          ]
        },
        {
          "output_type": "stream",
          "name": "stderr",
          "text": [
            "\r 26%|\u001b[32m██▋       \u001b[0m| 79/300 [00:30<01:16,  2.88it/s]"
          ]
        },
        {
          "output_type": "stream",
          "name": "stdout",
          "text": [
            "F1 in epoch78 : 0.8231\n"
          ]
        },
        {
          "output_type": "stream",
          "name": "stderr",
          "text": [
            "\r 27%|\u001b[32m██▋       \u001b[0m| 80/300 [00:31<01:25,  2.57it/s]"
          ]
        },
        {
          "output_type": "stream",
          "name": "stdout",
          "text": [
            "F1 in epoch79 : 0.8261\n"
          ]
        },
        {
          "output_type": "stream",
          "name": "stderr",
          "text": [
            "\r 27%|\u001b[32m██▋       \u001b[0m| 81/300 [00:31<01:33,  2.33it/s]"
          ]
        },
        {
          "output_type": "stream",
          "name": "stdout",
          "text": [
            "F1 in epoch80 : 0.8268\n"
          ]
        },
        {
          "output_type": "stream",
          "name": "stderr",
          "text": [
            "\r 27%|\u001b[32m██▋       \u001b[0m| 82/300 [00:32<01:21,  2.69it/s]"
          ]
        },
        {
          "output_type": "stream",
          "name": "stdout",
          "text": [
            "F1 in epoch81 : 0.8279\n"
          ]
        },
        {
          "output_type": "stream",
          "name": "stderr",
          "text": [
            "\r 28%|\u001b[32m██▊       \u001b[0m| 83/300 [00:32<01:29,  2.44it/s]"
          ]
        },
        {
          "output_type": "stream",
          "name": "stdout",
          "text": [
            "F1 in epoch82 : 0.8268\n"
          ]
        },
        {
          "output_type": "stream",
          "name": "stderr",
          "text": [
            "\r 28%|\u001b[32m██▊       \u001b[0m| 84/300 [00:32<01:17,  2.79it/s]"
          ]
        },
        {
          "output_type": "stream",
          "name": "stdout",
          "text": [
            "F1 in epoch83 : 0.8270\n"
          ]
        },
        {
          "output_type": "stream",
          "name": "stderr",
          "text": [
            "\r 28%|\u001b[32m██▊       \u001b[0m| 85/300 [00:33<01:25,  2.52it/s]"
          ]
        },
        {
          "output_type": "stream",
          "name": "stdout",
          "text": [
            "F1 in epoch84 : 0.8270\n"
          ]
        },
        {
          "output_type": "stream",
          "name": "stderr",
          "text": [
            "\r 29%|\u001b[32m██▊       \u001b[0m| 86/300 [00:33<01:31,  2.33it/s]"
          ]
        },
        {
          "output_type": "stream",
          "name": "stdout",
          "text": [
            "F1 in epoch85 : 0.8265\n"
          ]
        },
        {
          "output_type": "stream",
          "name": "stderr",
          "text": [
            "\r 29%|\u001b[32m██▉       \u001b[0m| 87/300 [00:34<01:19,  2.70it/s]"
          ]
        },
        {
          "output_type": "stream",
          "name": "stdout",
          "text": [
            "F1 in epoch86 : 0.8305\n"
          ]
        },
        {
          "output_type": "stream",
          "name": "stderr",
          "text": [
            "\r 29%|\u001b[32m██▉       \u001b[0m| 88/300 [00:34<01:27,  2.42it/s]"
          ]
        },
        {
          "output_type": "stream",
          "name": "stdout",
          "text": [
            "F1 in epoch87 : 0.8312\n"
          ]
        },
        {
          "output_type": "stream",
          "name": "stderr",
          "text": [
            "\r 30%|\u001b[32m██▉       \u001b[0m| 89/300 [00:34<01:17,  2.73it/s]"
          ]
        },
        {
          "output_type": "stream",
          "name": "stdout",
          "text": [
            "F1 in epoch88 : 0.8307\n"
          ]
        },
        {
          "output_type": "stream",
          "name": "stderr",
          "text": [
            "\r 30%|\u001b[32m███       \u001b[0m| 90/300 [00:35<01:26,  2.44it/s]"
          ]
        },
        {
          "output_type": "stream",
          "name": "stdout",
          "text": [
            "F1 in epoch89 : 0.8322\n"
          ]
        },
        {
          "output_type": "stream",
          "name": "stderr",
          "text": [
            "\r 30%|\u001b[32m███       \u001b[0m| 91/300 [00:35<01:14,  2.79it/s]"
          ]
        },
        {
          "output_type": "stream",
          "name": "stdout",
          "text": [
            "F1 in epoch90 : 0.8332\n"
          ]
        },
        {
          "output_type": "stream",
          "name": "stderr",
          "text": [
            "\r 31%|\u001b[32m███       \u001b[0m| 92/300 [00:36<01:22,  2.52it/s]"
          ]
        },
        {
          "output_type": "stream",
          "name": "stdout",
          "text": [
            "F1 in epoch91 : 0.8346\n"
          ]
        },
        {
          "output_type": "stream",
          "name": "stderr",
          "text": [
            "\r 31%|\u001b[32m███       \u001b[0m| 93/300 [00:36<01:28,  2.33it/s]"
          ]
        },
        {
          "output_type": "stream",
          "name": "stdout",
          "text": [
            "F1 in epoch92 : 0.8352\n"
          ]
        },
        {
          "output_type": "stream",
          "name": "stderr",
          "text": [
            "\r 31%|\u001b[32m███▏      \u001b[0m| 94/300 [00:36<01:16,  2.70it/s]"
          ]
        },
        {
          "output_type": "stream",
          "name": "stdout",
          "text": [
            "F1 in epoch93 : 0.8367\n"
          ]
        },
        {
          "output_type": "stream",
          "name": "stderr",
          "text": [
            "\r 32%|\u001b[32m███▏      \u001b[0m| 95/300 [00:37<01:23,  2.45it/s]"
          ]
        },
        {
          "output_type": "stream",
          "name": "stdout",
          "text": [
            "F1 in epoch94 : 0.8374\n"
          ]
        },
        {
          "output_type": "stream",
          "name": "stderr",
          "text": [
            "\r 32%|\u001b[32m███▏      \u001b[0m| 96/300 [00:37<01:12,  2.80it/s]"
          ]
        },
        {
          "output_type": "stream",
          "name": "stdout",
          "text": [
            "F1 in epoch95 : 0.8398\n"
          ]
        },
        {
          "output_type": "stream",
          "name": "stderr",
          "text": [
            "\r 32%|\u001b[32m███▏      \u001b[0m| 97/300 [00:38<01:21,  2.50it/s]"
          ]
        },
        {
          "output_type": "stream",
          "name": "stdout",
          "text": [
            "F1 in epoch96 : 0.8391\n"
          ]
        },
        {
          "output_type": "stream",
          "name": "stderr",
          "text": [
            "\r 33%|\u001b[32m███▎      \u001b[0m| 98/300 [00:38<01:10,  2.85it/s]"
          ]
        },
        {
          "output_type": "stream",
          "name": "stdout",
          "text": [
            "F1 in epoch97 : 0.8414\n"
          ]
        },
        {
          "output_type": "stream",
          "name": "stderr",
          "text": [
            "\r 33%|\u001b[32m███▎      \u001b[0m| 99/300 [00:38<01:19,  2.54it/s]"
          ]
        },
        {
          "output_type": "stream",
          "name": "stdout",
          "text": [
            "F1 in epoch98 : 0.8427\n"
          ]
        },
        {
          "output_type": "stream",
          "name": "stderr",
          "text": [
            "\r 33%|\u001b[32m███▎      \u001b[0m| 100/300 [00:39<01:26,  2.32it/s]"
          ]
        },
        {
          "output_type": "stream",
          "name": "stdout",
          "text": [
            "F1 in epoch99 : 0.8438\n"
          ]
        },
        {
          "output_type": "stream",
          "name": "stderr",
          "text": [
            "\r 34%|\u001b[32m███▎      \u001b[0m| 101/300 [00:39<01:14,  2.68it/s]"
          ]
        },
        {
          "output_type": "stream",
          "name": "stdout",
          "text": [
            "F1 in epoch100 : 0.8438\n"
          ]
        },
        {
          "output_type": "stream",
          "name": "stderr",
          "text": [
            "\r 34%|\u001b[32m███▍      \u001b[0m| 102/300 [00:40<01:21,  2.43it/s]"
          ]
        },
        {
          "output_type": "stream",
          "name": "stdout",
          "text": [
            "F1 in epoch101 : 0.8435\n"
          ]
        },
        {
          "output_type": "stream",
          "name": "stderr",
          "text": [
            "\r 34%|\u001b[32m███▍      \u001b[0m| 103/300 [00:40<01:11,  2.76it/s]"
          ]
        },
        {
          "output_type": "stream",
          "name": "stdout",
          "text": [
            "F1 in epoch102 : 0.8440\n"
          ]
        },
        {
          "output_type": "stream",
          "name": "stderr",
          "text": [
            "\r 35%|\u001b[32m███▍      \u001b[0m| 104/300 [00:40<01:18,  2.48it/s]"
          ]
        },
        {
          "output_type": "stream",
          "name": "stdout",
          "text": [
            "F1 in epoch103 : 0.8458\n"
          ]
        },
        {
          "output_type": "stream",
          "name": "stderr",
          "text": [
            "\r 35%|\u001b[32m███▌      \u001b[0m| 105/300 [00:41<01:24,  2.29it/s]"
          ]
        },
        {
          "output_type": "stream",
          "name": "stdout",
          "text": [
            "F1 in epoch104 : 0.8462\n"
          ]
        },
        {
          "output_type": "stream",
          "name": "stderr",
          "text": [
            "\r 35%|\u001b[32m███▌      \u001b[0m| 106/300 [00:41<01:13,  2.65it/s]"
          ]
        },
        {
          "output_type": "stream",
          "name": "stdout",
          "text": [
            "F1 in epoch105 : 0.8458\n"
          ]
        },
        {
          "output_type": "stream",
          "name": "stderr",
          "text": [
            "\r 36%|\u001b[32m███▌      \u001b[0m| 107/300 [00:42<01:20,  2.41it/s]"
          ]
        },
        {
          "output_type": "stream",
          "name": "stdout",
          "text": [
            "F1 in epoch106 : 0.8467\n"
          ]
        },
        {
          "output_type": "stream",
          "name": "stderr",
          "text": [
            "\r 36%|\u001b[32m███▌      \u001b[0m| 108/300 [00:42<01:09,  2.77it/s]"
          ]
        },
        {
          "output_type": "stream",
          "name": "stdout",
          "text": [
            "F1 in epoch107 : 0.8462\n"
          ]
        },
        {
          "output_type": "stream",
          "name": "stderr",
          "text": [
            "\r 36%|\u001b[32m███▋      \u001b[0m| 109/300 [00:42<01:16,  2.49it/s]"
          ]
        },
        {
          "output_type": "stream",
          "name": "stdout",
          "text": [
            "F1 in epoch108 : 0.8469\n"
          ]
        },
        {
          "output_type": "stream",
          "name": "stderr",
          "text": [
            "\r 37%|\u001b[32m███▋      \u001b[0m| 110/300 [00:43<01:22,  2.29it/s]"
          ]
        },
        {
          "output_type": "stream",
          "name": "stdout",
          "text": [
            "F1 in epoch109 : 0.8487\n"
          ]
        },
        {
          "output_type": "stream",
          "name": "stderr",
          "text": [
            "\r 37%|\u001b[32m███▋      \u001b[0m| 111/300 [00:43<01:11,  2.66it/s]"
          ]
        },
        {
          "output_type": "stream",
          "name": "stdout",
          "text": [
            "F1 in epoch110 : 0.8487\n"
          ]
        },
        {
          "output_type": "stream",
          "name": "stderr",
          "text": [
            "\r 37%|\u001b[32m███▋      \u001b[0m| 112/300 [00:44<01:18,  2.40it/s]"
          ]
        },
        {
          "output_type": "stream",
          "name": "stdout",
          "text": [
            "F1 in epoch111 : 0.8508\n"
          ]
        },
        {
          "output_type": "stream",
          "name": "stderr",
          "text": [
            "\r 38%|\u001b[32m███▊      \u001b[0m| 113/300 [00:44<01:07,  2.77it/s]"
          ]
        },
        {
          "output_type": "stream",
          "name": "stdout",
          "text": [
            "F1 in epoch112 : 0.8514\n"
          ]
        },
        {
          "output_type": "stream",
          "name": "stderr",
          "text": [
            "\r 38%|\u001b[32m███▊      \u001b[0m| 114/300 [00:44<01:15,  2.48it/s]"
          ]
        },
        {
          "output_type": "stream",
          "name": "stdout",
          "text": [
            "F1 in epoch113 : 0.8520\n"
          ]
        },
        {
          "output_type": "stream",
          "name": "stderr",
          "text": [
            "\r 38%|\u001b[32m███▊      \u001b[0m| 115/300 [00:45<01:05,  2.83it/s]"
          ]
        },
        {
          "output_type": "stream",
          "name": "stdout",
          "text": [
            "F1 in epoch114 : 0.8520\n"
          ]
        },
        {
          "output_type": "stream",
          "name": "stderr",
          "text": [
            "\r 39%|\u001b[32m███▊      \u001b[0m| 116/300 [00:45<01:13,  2.51it/s]"
          ]
        },
        {
          "output_type": "stream",
          "name": "stdout",
          "text": [
            "F1 in epoch115 : 0.8514\n"
          ]
        },
        {
          "output_type": "stream",
          "name": "stderr",
          "text": [
            "\r 39%|\u001b[32m███▉      \u001b[0m| 117/300 [00:45<01:04,  2.85it/s]"
          ]
        },
        {
          "output_type": "stream",
          "name": "stdout",
          "text": [
            "F1 in epoch116 : 0.8520\n"
          ]
        },
        {
          "output_type": "stream",
          "name": "stderr",
          "text": [
            "\r 39%|\u001b[32m███▉      \u001b[0m| 118/300 [00:46<01:11,  2.54it/s]"
          ]
        },
        {
          "output_type": "stream",
          "name": "stdout",
          "text": [
            "F1 in epoch117 : 0.8528\n"
          ]
        },
        {
          "output_type": "stream",
          "name": "stderr",
          "text": [
            "\r 40%|\u001b[32m███▉      \u001b[0m| 119/300 [00:46<01:17,  2.33it/s]"
          ]
        },
        {
          "output_type": "stream",
          "name": "stdout",
          "text": [
            "F1 in epoch118 : 0.8535\n"
          ]
        },
        {
          "output_type": "stream",
          "name": "stderr",
          "text": [
            "\r 40%|\u001b[32m████      \u001b[0m| 120/300 [00:47<01:06,  2.70it/s]"
          ]
        },
        {
          "output_type": "stream",
          "name": "stdout",
          "text": [
            "F1 in epoch119 : 0.8540\n"
          ]
        },
        {
          "output_type": "stream",
          "name": "stderr",
          "text": [
            "\r 40%|\u001b[32m████      \u001b[0m| 121/300 [00:47<01:13,  2.43it/s]"
          ]
        },
        {
          "output_type": "stream",
          "name": "stdout",
          "text": [
            "F1 in epoch120 : 0.8527\n"
          ]
        },
        {
          "output_type": "stream",
          "name": "stderr",
          "text": [
            "\r 41%|\u001b[32m████      \u001b[0m| 122/300 [00:47<01:03,  2.78it/s]"
          ]
        },
        {
          "output_type": "stream",
          "name": "stdout",
          "text": [
            "F1 in epoch121 : 0.8520\n"
          ]
        },
        {
          "output_type": "stream",
          "name": "stderr",
          "text": [
            "\r 41%|\u001b[32m████      \u001b[0m| 123/300 [00:48<01:11,  2.49it/s]"
          ]
        },
        {
          "output_type": "stream",
          "name": "stdout",
          "text": [
            "F1 in epoch122 : 0.8520\n"
          ]
        },
        {
          "output_type": "stream",
          "name": "stderr",
          "text": [
            "\r 41%|\u001b[32m████▏     \u001b[0m| 124/300 [00:48<01:02,  2.80it/s]"
          ]
        },
        {
          "output_type": "stream",
          "name": "stdout",
          "text": [
            "F1 in epoch123 : 0.8520\n"
          ]
        },
        {
          "output_type": "stream",
          "name": "stderr",
          "text": [
            "\r 42%|\u001b[32m████▏     \u001b[0m| 125/300 [00:49<01:09,  2.51it/s]"
          ]
        },
        {
          "output_type": "stream",
          "name": "stdout",
          "text": [
            "F1 in epoch124 : 0.8520\n"
          ]
        },
        {
          "output_type": "stream",
          "name": "stderr",
          "text": [
            "\r 42%|\u001b[32m████▏     \u001b[0m| 126/300 [00:49<01:14,  2.33it/s]"
          ]
        },
        {
          "output_type": "stream",
          "name": "stdout",
          "text": [
            "F1 in epoch125 : 0.8527\n"
          ]
        },
        {
          "output_type": "stream",
          "name": "stderr",
          "text": [
            "\r 42%|\u001b[32m████▏     \u001b[0m| 127/300 [00:49<01:04,  2.70it/s]"
          ]
        },
        {
          "output_type": "stream",
          "name": "stdout",
          "text": [
            "F1 in epoch126 : 0.8527\n"
          ]
        },
        {
          "output_type": "stream",
          "name": "stderr",
          "text": [
            "\r 43%|\u001b[32m████▎     \u001b[0m| 128/300 [00:50<01:10,  2.44it/s]"
          ]
        },
        {
          "output_type": "stream",
          "name": "stdout",
          "text": [
            "F1 in epoch127 : 0.8533\n"
          ]
        },
        {
          "output_type": "stream",
          "name": "stderr",
          "text": [
            "\r 43%|\u001b[32m████▎     \u001b[0m| 129/300 [00:50<01:01,  2.76it/s]"
          ]
        },
        {
          "output_type": "stream",
          "name": "stdout",
          "text": [
            "F1 in epoch128 : 0.8533\n"
          ]
        },
        {
          "output_type": "stream",
          "name": "stderr",
          "text": [
            "\r 43%|\u001b[32m████▎     \u001b[0m| 130/300 [00:51<01:10,  2.41it/s]"
          ]
        },
        {
          "output_type": "stream",
          "name": "stdout",
          "text": [
            "F1 in epoch129 : 0.8540\n"
          ]
        },
        {
          "output_type": "stream",
          "name": "stderr",
          "text": [
            "\r 44%|\u001b[32m████▎     \u001b[0m| 131/300 [00:51<01:03,  2.66it/s]"
          ]
        },
        {
          "output_type": "stream",
          "name": "stdout",
          "text": [
            "F1 in epoch130 : 0.8540\n"
          ]
        },
        {
          "output_type": "stream",
          "name": "stderr",
          "text": [
            "\r 44%|\u001b[32m████▍     \u001b[0m| 132/300 [00:51<01:10,  2.37it/s]"
          ]
        },
        {
          "output_type": "stream",
          "name": "stdout",
          "text": [
            "F1 in epoch131 : 0.8540\n"
          ]
        },
        {
          "output_type": "stream",
          "name": "stderr",
          "text": [
            "\r 44%|\u001b[32m████▍     \u001b[0m| 133/300 [00:52<01:18,  2.11it/s]"
          ]
        },
        {
          "output_type": "stream",
          "name": "stdout",
          "text": [
            "F1 in epoch132 : 0.8538\n"
          ]
        },
        {
          "output_type": "stream",
          "name": "stderr",
          "text": [
            "\r 45%|\u001b[32m████▍     \u001b[0m| 134/300 [00:52<01:07,  2.46it/s]"
          ]
        },
        {
          "output_type": "stream",
          "name": "stdout",
          "text": [
            "F1 in epoch133 : 0.8538\n"
          ]
        },
        {
          "output_type": "stream",
          "name": "stderr",
          "text": [
            "\r 45%|\u001b[32m████▌     \u001b[0m| 135/300 [00:53<01:15,  2.20it/s]"
          ]
        },
        {
          "output_type": "stream",
          "name": "stdout",
          "text": [
            "F1 in epoch134 : 0.8555\n"
          ]
        },
        {
          "output_type": "stream",
          "name": "stderr",
          "text": [
            "\r 45%|\u001b[32m████▌     \u001b[0m| 136/300 [00:53<01:03,  2.57it/s]"
          ]
        },
        {
          "output_type": "stream",
          "name": "stdout",
          "text": [
            "F1 in epoch135 : 0.8555\n"
          ]
        },
        {
          "output_type": "stream",
          "name": "stderr",
          "text": [
            "\r 46%|\u001b[32m████▌     \u001b[0m| 137/300 [00:54<01:09,  2.36it/s]"
          ]
        },
        {
          "output_type": "stream",
          "name": "stdout",
          "text": [
            "F1 in epoch136 : 0.8562\n"
          ]
        },
        {
          "output_type": "stream",
          "name": "stderr",
          "text": [
            "\r 46%|\u001b[32m████▌     \u001b[0m| 138/300 [00:54<00:59,  2.72it/s]"
          ]
        },
        {
          "output_type": "stream",
          "name": "stdout",
          "text": [
            "F1 in epoch137 : 0.8562\n"
          ]
        },
        {
          "output_type": "stream",
          "name": "stderr",
          "text": [
            "\r 46%|\u001b[32m████▋     \u001b[0m| 139/300 [00:54<01:05,  2.47it/s]"
          ]
        },
        {
          "output_type": "stream",
          "name": "stdout",
          "text": [
            "F1 in epoch138 : 0.8568\n"
          ]
        },
        {
          "output_type": "stream",
          "name": "stderr",
          "text": [
            "\r 47%|\u001b[32m████▋     \u001b[0m| 140/300 [00:55<01:09,  2.30it/s]"
          ]
        },
        {
          "output_type": "stream",
          "name": "stdout",
          "text": [
            "F1 in epoch139 : 0.8573\n"
          ]
        },
        {
          "output_type": "stream",
          "name": "stderr",
          "text": [
            "\r 47%|\u001b[32m████▋     \u001b[0m| 141/300 [00:55<00:59,  2.68it/s]"
          ]
        },
        {
          "output_type": "stream",
          "name": "stdout",
          "text": [
            "F1 in epoch140 : 0.8573\n"
          ]
        },
        {
          "output_type": "stream",
          "name": "stderr",
          "text": [
            "\r 47%|\u001b[32m████▋     \u001b[0m| 142/300 [00:56<01:05,  2.43it/s]"
          ]
        },
        {
          "output_type": "stream",
          "name": "stdout",
          "text": [
            "F1 in epoch141 : 0.8573\n"
          ]
        },
        {
          "output_type": "stream",
          "name": "stderr",
          "text": [
            "\r 48%|\u001b[32m████▊     \u001b[0m| 143/300 [00:56<00:56,  2.79it/s]"
          ]
        },
        {
          "output_type": "stream",
          "name": "stdout",
          "text": [
            "F1 in epoch142 : 0.8573\n"
          ]
        },
        {
          "output_type": "stream",
          "name": "stderr",
          "text": [
            "\r 48%|\u001b[32m████▊     \u001b[0m| 144/300 [00:56<01:02,  2.48it/s]"
          ]
        },
        {
          "output_type": "stream",
          "name": "stdout",
          "text": [
            "F1 in epoch143 : 0.8579\n"
          ]
        },
        {
          "output_type": "stream",
          "name": "stderr",
          "text": [
            "\r 48%|\u001b[32m████▊     \u001b[0m| 145/300 [00:56<00:54,  2.83it/s]"
          ]
        },
        {
          "output_type": "stream",
          "name": "stdout",
          "text": [
            "F1 in epoch144 : 0.8584\n"
          ]
        },
        {
          "output_type": "stream",
          "name": "stderr",
          "text": [
            "\r 49%|\u001b[32m████▊     \u001b[0m| 146/300 [00:57<01:01,  2.52it/s]"
          ]
        },
        {
          "output_type": "stream",
          "name": "stdout",
          "text": [
            "F1 in epoch145 : 0.8591\n"
          ]
        },
        {
          "output_type": "stream",
          "name": "stderr",
          "text": [
            "\r 49%|\u001b[32m████▉     \u001b[0m| 147/300 [00:57<01:05,  2.32it/s]"
          ]
        },
        {
          "output_type": "stream",
          "name": "stdout",
          "text": [
            "F1 in epoch146 : 0.8591\n"
          ]
        },
        {
          "output_type": "stream",
          "name": "stderr",
          "text": [
            "\r 49%|\u001b[32m████▉     \u001b[0m| 148/300 [00:58<00:56,  2.68it/s]"
          ]
        },
        {
          "output_type": "stream",
          "name": "stdout",
          "text": [
            "F1 in epoch147 : 0.8591\n"
          ]
        },
        {
          "output_type": "stream",
          "name": "stderr",
          "text": [
            "\r 50%|\u001b[32m████▉     \u001b[0m| 149/300 [00:58<01:02,  2.42it/s]"
          ]
        },
        {
          "output_type": "stream",
          "name": "stdout",
          "text": [
            "F1 in epoch148 : 0.8592\n"
          ]
        },
        {
          "output_type": "stream",
          "name": "stderr",
          "text": [
            "\r 50%|\u001b[32m█████     \u001b[0m| 150/300 [00:58<00:54,  2.75it/s]"
          ]
        },
        {
          "output_type": "stream",
          "name": "stdout",
          "text": [
            "F1 in epoch149 : 0.8592\n"
          ]
        },
        {
          "output_type": "stream",
          "name": "stderr",
          "text": [
            "\r 50%|\u001b[32m█████     \u001b[0m| 151/300 [00:59<01:00,  2.47it/s]"
          ]
        },
        {
          "output_type": "stream",
          "name": "stdout",
          "text": [
            "F1 in epoch150 : 0.8592\n"
          ]
        },
        {
          "output_type": "stream",
          "name": "stderr",
          "text": [
            "\r 51%|\u001b[32m█████     \u001b[0m| 152/300 [00:59<00:52,  2.81it/s]"
          ]
        },
        {
          "output_type": "stream",
          "name": "stdout",
          "text": [
            "F1 in epoch151 : 0.8592\n"
          ]
        },
        {
          "output_type": "stream",
          "name": "stderr",
          "text": [
            "\r 51%|\u001b[32m█████     \u001b[0m| 153/300 [01:00<00:58,  2.53it/s]"
          ]
        },
        {
          "output_type": "stream",
          "name": "stdout",
          "text": [
            "F1 in epoch152 : 0.8598\n"
          ]
        },
        {
          "output_type": "stream",
          "name": "stderr",
          "text": [
            "\r 51%|\u001b[32m█████▏    \u001b[0m| 154/300 [01:00<01:03,  2.32it/s]"
          ]
        },
        {
          "output_type": "stream",
          "name": "stdout",
          "text": [
            "F1 in epoch153 : 0.8598\n"
          ]
        },
        {
          "output_type": "stream",
          "name": "stderr",
          "text": [
            "\r 52%|\u001b[32m█████▏    \u001b[0m| 155/300 [01:00<00:54,  2.68it/s]"
          ]
        },
        {
          "output_type": "stream",
          "name": "stdout",
          "text": [
            "F1 in epoch154 : 0.8600\n"
          ]
        },
        {
          "output_type": "stream",
          "name": "stderr",
          "text": [
            "\r 52%|\u001b[32m█████▏    \u001b[0m| 156/300 [01:01<00:59,  2.44it/s]"
          ]
        },
        {
          "output_type": "stream",
          "name": "stdout",
          "text": [
            "F1 in epoch155 : 0.8600\n"
          ]
        },
        {
          "output_type": "stream",
          "name": "stderr",
          "text": [
            "\r 52%|\u001b[32m█████▏    \u001b[0m| 157/300 [01:01<00:51,  2.76it/s]"
          ]
        },
        {
          "output_type": "stream",
          "name": "stdout",
          "text": [
            "F1 in epoch156 : 0.8595\n"
          ]
        },
        {
          "output_type": "stream",
          "name": "stderr",
          "text": [
            "\r 53%|\u001b[32m█████▎    \u001b[0m| 158/300 [01:02<00:57,  2.48it/s]"
          ]
        },
        {
          "output_type": "stream",
          "name": "stdout",
          "text": [
            "F1 in epoch157 : 0.8590\n"
          ]
        },
        {
          "output_type": "stream",
          "name": "stderr",
          "text": [
            "\r 53%|\u001b[32m█████▎    \u001b[0m| 159/300 [01:02<01:01,  2.29it/s]"
          ]
        },
        {
          "output_type": "stream",
          "name": "stdout",
          "text": [
            "F1 in epoch158 : 0.8590\n"
          ]
        },
        {
          "output_type": "stream",
          "name": "stderr",
          "text": [
            "\r 53%|\u001b[32m█████▎    \u001b[0m| 160/300 [01:02<00:53,  2.63it/s]"
          ]
        },
        {
          "output_type": "stream",
          "name": "stdout",
          "text": [
            "F1 in epoch159 : 0.8597\n"
          ]
        },
        {
          "output_type": "stream",
          "name": "stderr",
          "text": [
            "\r 54%|\u001b[32m█████▎    \u001b[0m| 161/300 [01:03<00:58,  2.38it/s]"
          ]
        },
        {
          "output_type": "stream",
          "name": "stdout",
          "text": [
            "F1 in epoch160 : 0.8597\n"
          ]
        },
        {
          "output_type": "stream",
          "name": "stderr",
          "text": [
            "\r 54%|\u001b[32m█████▍    \u001b[0m| 162/300 [01:03<00:50,  2.74it/s]"
          ]
        },
        {
          "output_type": "stream",
          "name": "stdout",
          "text": [
            "F1 in epoch161 : 0.8597\n"
          ]
        },
        {
          "output_type": "stream",
          "name": "stderr",
          "text": [
            "\r 54%|\u001b[32m█████▍    \u001b[0m| 163/300 [01:04<00:55,  2.45it/s]"
          ]
        },
        {
          "output_type": "stream",
          "name": "stdout",
          "text": [
            "F1 in epoch162 : 0.8592\n"
          ]
        },
        {
          "output_type": "stream",
          "name": "stderr",
          "text": [
            "\r 55%|\u001b[32m█████▍    \u001b[0m| 164/300 [01:04<00:49,  2.77it/s]"
          ]
        },
        {
          "output_type": "stream",
          "name": "stdout",
          "text": [
            "F1 in epoch163 : 0.8598\n"
          ]
        },
        {
          "output_type": "stream",
          "name": "stderr",
          "text": [
            "\r 55%|\u001b[32m█████▌    \u001b[0m| 165/300 [01:05<00:55,  2.45it/s]"
          ]
        },
        {
          "output_type": "stream",
          "name": "stdout",
          "text": [
            "F1 in epoch164 : 0.8598\n"
          ]
        },
        {
          "output_type": "stream",
          "name": "stderr",
          "text": [
            "\r 55%|\u001b[32m█████▌    \u001b[0m| 166/300 [01:05<00:48,  2.74it/s]"
          ]
        },
        {
          "output_type": "stream",
          "name": "stdout",
          "text": [
            "F1 in epoch165 : 0.8598\n"
          ]
        },
        {
          "output_type": "stream",
          "name": "stderr",
          "text": [
            "\r 56%|\u001b[32m█████▌    \u001b[0m| 167/300 [01:05<00:53,  2.47it/s]"
          ]
        },
        {
          "output_type": "stream",
          "name": "stdout",
          "text": [
            "F1 in epoch166 : 0.8598\n"
          ]
        },
        {
          "output_type": "stream",
          "name": "stderr",
          "text": [
            "\r 56%|\u001b[32m█████▌    \u001b[0m| 168/300 [01:06<00:57,  2.29it/s]"
          ]
        },
        {
          "output_type": "stream",
          "name": "stdout",
          "text": [
            "F1 in epoch167 : 0.8594\n"
          ]
        },
        {
          "output_type": "stream",
          "name": "stderr",
          "text": [
            "\r 56%|\u001b[32m█████▋    \u001b[0m| 169/300 [01:06<00:50,  2.62it/s]"
          ]
        },
        {
          "output_type": "stream",
          "name": "stdout",
          "text": [
            "F1 in epoch168 : 0.8587\n"
          ]
        },
        {
          "output_type": "stream",
          "name": "stderr",
          "text": [
            "\r 57%|\u001b[32m█████▋    \u001b[0m| 170/300 [01:07<00:54,  2.38it/s]"
          ]
        },
        {
          "output_type": "stream",
          "name": "stdout",
          "text": [
            "F1 in epoch169 : 0.8583\n"
          ]
        },
        {
          "output_type": "stream",
          "name": "stderr",
          "text": [
            "\r 57%|\u001b[32m█████▋    \u001b[0m| 171/300 [01:07<00:47,  2.73it/s]"
          ]
        },
        {
          "output_type": "stream",
          "name": "stdout",
          "text": [
            "F1 in epoch170 : 0.8583\n"
          ]
        },
        {
          "output_type": "stream",
          "name": "stderr",
          "text": [
            "\r 57%|\u001b[32m█████▋    \u001b[0m| 172/300 [01:07<00:52,  2.43it/s]"
          ]
        },
        {
          "output_type": "stream",
          "name": "stdout",
          "text": [
            "F1 in epoch171 : 0.8583\n"
          ]
        },
        {
          "output_type": "stream",
          "name": "stderr",
          "text": [
            "\r 58%|\u001b[32m█████▊    \u001b[0m| 173/300 [01:08<00:45,  2.79it/s]"
          ]
        },
        {
          "output_type": "stream",
          "name": "stdout",
          "text": [
            "F1 in epoch172 : 0.8583\n"
          ]
        },
        {
          "output_type": "stream",
          "name": "stderr",
          "text": [
            "\r 58%|\u001b[32m█████▊    \u001b[0m| 174/300 [01:08<00:50,  2.51it/s]"
          ]
        },
        {
          "output_type": "stream",
          "name": "stdout",
          "text": [
            "F1 in epoch173 : 0.8578\n"
          ]
        },
        {
          "output_type": "stream",
          "name": "stderr",
          "text": [
            "\r 58%|\u001b[32m█████▊    \u001b[0m| 175/300 [01:09<00:53,  2.32it/s]"
          ]
        },
        {
          "output_type": "stream",
          "name": "stdout",
          "text": [
            "F1 in epoch174 : 0.8573\n"
          ]
        },
        {
          "output_type": "stream",
          "name": "stderr",
          "text": [
            "\r 59%|\u001b[32m█████▊    \u001b[0m| 176/300 [01:09<00:46,  2.68it/s]"
          ]
        },
        {
          "output_type": "stream",
          "name": "stdout",
          "text": [
            "F1 in epoch175 : 0.8579\n"
          ]
        },
        {
          "output_type": "stream",
          "name": "stderr",
          "text": [
            "\r 59%|\u001b[32m█████▉    \u001b[0m| 177/300 [01:09<00:50,  2.44it/s]"
          ]
        },
        {
          "output_type": "stream",
          "name": "stdout",
          "text": [
            "F1 in epoch176 : 0.8592\n"
          ]
        },
        {
          "output_type": "stream",
          "name": "stderr",
          "text": [
            "\r 59%|\u001b[32m█████▉    \u001b[0m| 178/300 [01:09<00:43,  2.80it/s]"
          ]
        },
        {
          "output_type": "stream",
          "name": "stdout",
          "text": [
            "F1 in epoch177 : 0.8592\n"
          ]
        },
        {
          "output_type": "stream",
          "name": "stderr",
          "text": [
            "\r 60%|\u001b[32m█████▉    \u001b[0m| 179/300 [01:10<00:48,  2.51it/s]"
          ]
        },
        {
          "output_type": "stream",
          "name": "stdout",
          "text": [
            "F1 in epoch178 : 0.8592\n"
          ]
        },
        {
          "output_type": "stream",
          "name": "stderr",
          "text": [
            "\r 60%|\u001b[32m██████    \u001b[0m| 180/300 [01:11<00:51,  2.31it/s]"
          ]
        },
        {
          "output_type": "stream",
          "name": "stdout",
          "text": [
            "F1 in epoch179 : 0.8600\n"
          ]
        },
        {
          "output_type": "stream",
          "name": "stderr",
          "text": [
            "\r 60%|\u001b[32m██████    \u001b[0m| 181/300 [01:11<00:44,  2.68it/s]"
          ]
        },
        {
          "output_type": "stream",
          "name": "stdout",
          "text": [
            "F1 in epoch180 : 0.8600\n"
          ]
        },
        {
          "output_type": "stream",
          "name": "stderr",
          "text": [
            "\r 61%|\u001b[32m██████    \u001b[0m| 182/300 [01:11<00:48,  2.43it/s]"
          ]
        },
        {
          "output_type": "stream",
          "name": "stdout",
          "text": [
            "F1 in epoch181 : 0.8600\n"
          ]
        },
        {
          "output_type": "stream",
          "name": "stderr",
          "text": [
            "\r 61%|\u001b[32m██████    \u001b[0m| 183/300 [01:11<00:42,  2.78it/s]"
          ]
        },
        {
          "output_type": "stream",
          "name": "stdout",
          "text": [
            "F1 in epoch182 : 0.8590\n"
          ]
        },
        {
          "output_type": "stream",
          "name": "stderr",
          "text": [
            "\r 61%|\u001b[32m██████▏   \u001b[0m| 184/300 [01:12<00:46,  2.48it/s]"
          ]
        },
        {
          "output_type": "stream",
          "name": "stdout",
          "text": [
            "F1 in epoch183 : 0.8590\n"
          ]
        },
        {
          "output_type": "stream",
          "name": "stderr",
          "text": [
            "\r 62%|\u001b[32m██████▏   \u001b[0m| 185/300 [01:12<00:40,  2.83it/s]"
          ]
        },
        {
          "output_type": "stream",
          "name": "stdout",
          "text": [
            "F1 in epoch184 : 0.8590\n"
          ]
        },
        {
          "output_type": "stream",
          "name": "stderr",
          "text": [
            "\r 62%|\u001b[32m██████▏   \u001b[0m| 186/300 [01:13<00:44,  2.53it/s]"
          ]
        },
        {
          "output_type": "stream",
          "name": "stdout",
          "text": [
            "F1 in epoch185 : 0.8590\n"
          ]
        },
        {
          "output_type": "stream",
          "name": "stderr",
          "text": [
            "\r 62%|\u001b[32m██████▏   \u001b[0m| 187/300 [01:13<00:48,  2.33it/s]"
          ]
        },
        {
          "output_type": "stream",
          "name": "stdout",
          "text": [
            "F1 in epoch186 : 0.8590\n"
          ]
        },
        {
          "output_type": "stream",
          "name": "stderr",
          "text": [
            "\r 63%|\u001b[32m██████▎   \u001b[0m| 188/300 [01:13<00:41,  2.69it/s]"
          ]
        },
        {
          "output_type": "stream",
          "name": "stdout",
          "text": [
            "F1 in epoch187 : 0.8586\n"
          ]
        },
        {
          "output_type": "stream",
          "name": "stderr",
          "text": [
            "\r 63%|\u001b[32m██████▎   \u001b[0m| 189/300 [01:14<00:45,  2.43it/s]"
          ]
        },
        {
          "output_type": "stream",
          "name": "stdout",
          "text": [
            "F1 in epoch188 : 0.8586\n"
          ]
        },
        {
          "output_type": "stream",
          "name": "stderr",
          "text": [
            "\r 63%|\u001b[32m██████▎   \u001b[0m| 190/300 [01:14<00:39,  2.78it/s]"
          ]
        },
        {
          "output_type": "stream",
          "name": "stdout",
          "text": [
            "F1 in epoch189 : 0.8586\n"
          ]
        },
        {
          "output_type": "stream",
          "name": "stderr",
          "text": [
            "\r 64%|\u001b[32m██████▎   \u001b[0m| 191/300 [01:15<00:43,  2.49it/s]"
          ]
        },
        {
          "output_type": "stream",
          "name": "stdout",
          "text": [
            "F1 in epoch190 : 0.8586\n"
          ]
        },
        {
          "output_type": "stream",
          "name": "stderr",
          "text": [
            "\r 64%|\u001b[32m██████▍   \u001b[0m| 192/300 [01:15<00:38,  2.82it/s]"
          ]
        },
        {
          "output_type": "stream",
          "name": "stdout",
          "text": [
            "F1 in epoch191 : 0.8586\n"
          ]
        },
        {
          "output_type": "stream",
          "name": "stderr",
          "text": [
            "\r 64%|\u001b[32m██████▍   \u001b[0m| 193/300 [01:15<00:42,  2.54it/s]"
          ]
        },
        {
          "output_type": "stream",
          "name": "stdout",
          "text": [
            "F1 in epoch192 : 0.8590\n"
          ]
        },
        {
          "output_type": "stream",
          "name": "stderr",
          "text": [
            "\r 65%|\u001b[32m██████▍   \u001b[0m| 194/300 [01:16<00:45,  2.34it/s]"
          ]
        },
        {
          "output_type": "stream",
          "name": "stdout",
          "text": [
            "F1 in epoch193 : 0.8586\n"
          ]
        },
        {
          "output_type": "stream",
          "name": "stderr",
          "text": [
            "\r 65%|\u001b[32m██████▌   \u001b[0m| 195/300 [01:16<00:39,  2.69it/s]"
          ]
        },
        {
          "output_type": "stream",
          "name": "stdout",
          "text": [
            "F1 in epoch194 : 0.8586\n"
          ]
        },
        {
          "output_type": "stream",
          "name": "stderr",
          "text": [
            "\r 65%|\u001b[32m██████▌   \u001b[0m| 196/300 [01:17<00:43,  2.40it/s]"
          ]
        },
        {
          "output_type": "stream",
          "name": "stdout",
          "text": [
            "F1 in epoch195 : 0.8586\n"
          ]
        },
        {
          "output_type": "stream",
          "name": "stderr",
          "text": [
            "\r 66%|\u001b[32m██████▌   \u001b[0m| 197/300 [01:17<00:37,  2.74it/s]"
          ]
        },
        {
          "output_type": "stream",
          "name": "stdout",
          "text": [
            "F1 in epoch196 : 0.8586\n"
          ]
        },
        {
          "output_type": "stream",
          "name": "stderr",
          "text": [
            "\r 66%|\u001b[32m██████▌   \u001b[0m| 198/300 [01:17<00:41,  2.47it/s]"
          ]
        },
        {
          "output_type": "stream",
          "name": "stdout",
          "text": [
            "F1 in epoch197 : 0.8592\n"
          ]
        },
        {
          "output_type": "stream",
          "name": "stderr",
          "text": [
            "\r 66%|\u001b[32m██████▋   \u001b[0m| 199/300 [01:18<00:43,  2.30it/s]"
          ]
        },
        {
          "output_type": "stream",
          "name": "stdout",
          "text": [
            "F1 in epoch198 : 0.8586\n"
          ]
        },
        {
          "output_type": "stream",
          "name": "stderr",
          "text": [
            "\r 67%|\u001b[32m██████▋   \u001b[0m| 200/300 [01:18<00:37,  2.65it/s]"
          ]
        },
        {
          "output_type": "stream",
          "name": "stdout",
          "text": [
            "F1 in epoch199 : 0.8586\n"
          ]
        },
        {
          "output_type": "stream",
          "name": "stderr",
          "text": [
            "\r 67%|\u001b[32m██████▋   \u001b[0m| 201/300 [01:19<00:41,  2.41it/s]"
          ]
        },
        {
          "output_type": "stream",
          "name": "stdout",
          "text": [
            "F1 in epoch200 : 0.8586\n"
          ]
        },
        {
          "output_type": "stream",
          "name": "stderr",
          "text": [
            "\r 67%|\u001b[32m██████▋   \u001b[0m| 202/300 [01:19<00:35,  2.78it/s]"
          ]
        },
        {
          "output_type": "stream",
          "name": "stdout",
          "text": [
            "F1 in epoch201 : 0.8586\n"
          ]
        },
        {
          "output_type": "stream",
          "name": "stderr",
          "text": [
            "\r 68%|\u001b[32m██████▊   \u001b[0m| 203/300 [01:19<00:38,  2.51it/s]"
          ]
        },
        {
          "output_type": "stream",
          "name": "stdout",
          "text": [
            "F1 in epoch202 : 0.8586\n"
          ]
        },
        {
          "output_type": "stream",
          "name": "stderr",
          "text": [
            "\r 68%|\u001b[32m██████▊   \u001b[0m| 204/300 [01:20<00:41,  2.32it/s]"
          ]
        },
        {
          "output_type": "stream",
          "name": "stdout",
          "text": [
            "F1 in epoch203 : 0.8586\n"
          ]
        },
        {
          "output_type": "stream",
          "name": "stderr",
          "text": [
            "\r 68%|\u001b[32m██████▊   \u001b[0m| 205/300 [01:20<00:35,  2.69it/s]"
          ]
        },
        {
          "output_type": "stream",
          "name": "stdout",
          "text": [
            "F1 in epoch204 : 0.8586\n"
          ]
        },
        {
          "output_type": "stream",
          "name": "stderr",
          "text": [
            "\r 69%|\u001b[32m██████▊   \u001b[0m| 206/300 [01:21<00:38,  2.43it/s]"
          ]
        },
        {
          "output_type": "stream",
          "name": "stdout",
          "text": [
            "F1 in epoch205 : 0.8586\n"
          ]
        },
        {
          "output_type": "stream",
          "name": "stderr",
          "text": [
            "\r 69%|\u001b[32m██████▉   \u001b[0m| 207/300 [01:21<00:33,  2.79it/s]"
          ]
        },
        {
          "output_type": "stream",
          "name": "stdout",
          "text": [
            "F1 in epoch206 : 0.8586\n"
          ]
        },
        {
          "output_type": "stream",
          "name": "stderr",
          "text": [
            "\r 69%|\u001b[32m██████▉   \u001b[0m| 208/300 [01:21<00:37,  2.48it/s]"
          ]
        },
        {
          "output_type": "stream",
          "name": "stdout",
          "text": [
            "F1 in epoch207 : 0.8586\n"
          ]
        },
        {
          "output_type": "stream",
          "name": "stderr",
          "text": [
            "\r 70%|\u001b[32m██████▉   \u001b[0m| 209/300 [01:22<00:32,  2.84it/s]"
          ]
        },
        {
          "output_type": "stream",
          "name": "stdout",
          "text": [
            "F1 in epoch208 : 0.8586\n"
          ]
        },
        {
          "output_type": "stream",
          "name": "stderr",
          "text": [
            "\r 70%|\u001b[32m███████   \u001b[0m| 210/300 [01:22<00:35,  2.50it/s]"
          ]
        },
        {
          "output_type": "stream",
          "name": "stdout",
          "text": [
            "F1 in epoch209 : 0.8586\n"
          ]
        },
        {
          "output_type": "stream",
          "name": "stderr",
          "text": [
            "\r 70%|\u001b[32m███████   \u001b[0m| 211/300 [01:22<00:31,  2.85it/s]"
          ]
        },
        {
          "output_type": "stream",
          "name": "stdout",
          "text": [
            "F1 in epoch210 : 0.8581\n"
          ]
        },
        {
          "output_type": "stream",
          "name": "stderr",
          "text": [
            "\r 71%|\u001b[32m███████   \u001b[0m| 212/300 [01:23<00:34,  2.55it/s]"
          ]
        },
        {
          "output_type": "stream",
          "name": "stdout",
          "text": [
            "F1 in epoch211 : 0.8581\n"
          ]
        },
        {
          "output_type": "stream",
          "name": "stderr",
          "text": [
            "\r 71%|\u001b[32m███████   \u001b[0m| 213/300 [01:23<00:37,  2.34it/s]"
          ]
        },
        {
          "output_type": "stream",
          "name": "stdout",
          "text": [
            "F1 in epoch212 : 0.8581\n"
          ]
        },
        {
          "output_type": "stream",
          "name": "stderr",
          "text": [
            "\r 71%|\u001b[32m███████▏  \u001b[0m| 214/300 [01:24<00:31,  2.71it/s]"
          ]
        },
        {
          "output_type": "stream",
          "name": "stdout",
          "text": [
            "F1 in epoch213 : 0.8581\n"
          ]
        },
        {
          "output_type": "stream",
          "name": "stderr",
          "text": [
            "\r 72%|\u001b[32m███████▏  \u001b[0m| 215/300 [01:24<00:34,  2.45it/s]"
          ]
        },
        {
          "output_type": "stream",
          "name": "stdout",
          "text": [
            "F1 in epoch214 : 0.8581\n"
          ]
        },
        {
          "output_type": "stream",
          "name": "stderr",
          "text": [
            "\r 72%|\u001b[32m███████▏  \u001b[0m| 216/300 [01:24<00:29,  2.81it/s]"
          ]
        },
        {
          "output_type": "stream",
          "name": "stdout",
          "text": [
            "F1 in epoch215 : 0.8581\n"
          ]
        },
        {
          "output_type": "stream",
          "name": "stderr",
          "text": [
            "\r 72%|\u001b[32m███████▏  \u001b[0m| 217/300 [01:25<00:33,  2.50it/s]"
          ]
        },
        {
          "output_type": "stream",
          "name": "stdout",
          "text": [
            "F1 in epoch216 : 0.8581\n"
          ]
        },
        {
          "output_type": "stream",
          "name": "stderr",
          "text": [
            "\r 73%|\u001b[32m███████▎  \u001b[0m| 218/300 [01:25<00:28,  2.84it/s]"
          ]
        },
        {
          "output_type": "stream",
          "name": "stdout",
          "text": [
            "F1 in epoch217 : 0.8587\n"
          ]
        },
        {
          "output_type": "stream",
          "name": "stderr",
          "text": [
            "\r 73%|\u001b[32m███████▎  \u001b[0m| 219/300 [01:26<00:32,  2.53it/s]"
          ]
        },
        {
          "output_type": "stream",
          "name": "stdout",
          "text": [
            "F1 in epoch218 : 0.8587\n"
          ]
        },
        {
          "output_type": "stream",
          "name": "stderr",
          "text": [
            "\r 73%|\u001b[32m███████▎  \u001b[0m| 220/300 [01:26<00:34,  2.32it/s]"
          ]
        },
        {
          "output_type": "stream",
          "name": "stdout",
          "text": [
            "F1 in epoch219 : 0.8587\n"
          ]
        },
        {
          "output_type": "stream",
          "name": "stderr",
          "text": [
            "\r 74%|\u001b[32m███████▎  \u001b[0m| 221/300 [01:26<00:29,  2.69it/s]"
          ]
        },
        {
          "output_type": "stream",
          "name": "stdout",
          "text": [
            "F1 in epoch220 : 0.8582\n"
          ]
        },
        {
          "output_type": "stream",
          "name": "stderr",
          "text": [
            "\r 74%|\u001b[32m███████▍  \u001b[0m| 222/300 [01:27<00:32,  2.43it/s]"
          ]
        },
        {
          "output_type": "stream",
          "name": "stdout",
          "text": [
            "F1 in epoch221 : 0.8582\n"
          ]
        },
        {
          "output_type": "stream",
          "name": "stderr",
          "text": [
            "\r 74%|\u001b[32m███████▍  \u001b[0m| 223/300 [01:27<00:27,  2.76it/s]"
          ]
        },
        {
          "output_type": "stream",
          "name": "stdout",
          "text": [
            "F1 in epoch222 : 0.8582\n"
          ]
        },
        {
          "output_type": "stream",
          "name": "stderr",
          "text": [
            "\r 75%|\u001b[32m███████▍  \u001b[0m| 224/300 [01:28<00:30,  2.47it/s]"
          ]
        },
        {
          "output_type": "stream",
          "name": "stdout",
          "text": [
            "F1 in epoch223 : 0.8582\n"
          ]
        },
        {
          "output_type": "stream",
          "name": "stderr",
          "text": [
            "\r 75%|\u001b[32m███████▌  \u001b[0m| 225/300 [01:28<00:26,  2.83it/s]"
          ]
        },
        {
          "output_type": "stream",
          "name": "stdout",
          "text": [
            "F1 in epoch224 : 0.8582\n"
          ]
        },
        {
          "output_type": "stream",
          "name": "stderr",
          "text": [
            "\r 75%|\u001b[32m███████▌  \u001b[0m| 226/300 [01:28<00:29,  2.52it/s]"
          ]
        },
        {
          "output_type": "stream",
          "name": "stdout",
          "text": [
            "F1 in epoch225 : 0.8582\n"
          ]
        },
        {
          "output_type": "stream",
          "name": "stderr",
          "text": [
            "\r 76%|\u001b[32m███████▌  \u001b[0m| 227/300 [01:29<00:32,  2.28it/s]"
          ]
        },
        {
          "output_type": "stream",
          "name": "stdout",
          "text": [
            "F1 in epoch226 : 0.8582\n"
          ]
        },
        {
          "output_type": "stream",
          "name": "stderr",
          "text": [
            "\r 76%|\u001b[32m███████▌  \u001b[0m| 228/300 [01:29<00:27,  2.63it/s]"
          ]
        },
        {
          "output_type": "stream",
          "name": "stdout",
          "text": [
            "F1 in epoch227 : 0.8582\n"
          ]
        },
        {
          "output_type": "stream",
          "name": "stderr",
          "text": [
            "\r 76%|\u001b[32m███████▋  \u001b[0m| 229/300 [01:30<00:29,  2.37it/s]"
          ]
        },
        {
          "output_type": "stream",
          "name": "stdout",
          "text": [
            "F1 in epoch228 : 0.8582\n"
          ]
        },
        {
          "output_type": "stream",
          "name": "stderr",
          "text": [
            "\r 77%|\u001b[32m███████▋  \u001b[0m| 230/300 [01:30<00:25,  2.73it/s]"
          ]
        },
        {
          "output_type": "stream",
          "name": "stdout",
          "text": [
            "F1 in epoch229 : 0.8582\n"
          ]
        },
        {
          "output_type": "stream",
          "name": "stderr",
          "text": [
            "\r 77%|\u001b[32m███████▋  \u001b[0m| 231/300 [01:30<00:28,  2.46it/s]"
          ]
        },
        {
          "output_type": "stream",
          "name": "stdout",
          "text": [
            "F1 in epoch230 : 0.8582\n"
          ]
        },
        {
          "output_type": "stream",
          "name": "stderr",
          "text": [
            "\r 77%|\u001b[32m███████▋  \u001b[0m| 232/300 [01:31<00:24,  2.81it/s]"
          ]
        },
        {
          "output_type": "stream",
          "name": "stdout",
          "text": [
            "F1 in epoch231 : 0.8582\n"
          ]
        },
        {
          "output_type": "stream",
          "name": "stderr",
          "text": [
            "\r 78%|\u001b[32m███████▊  \u001b[0m| 233/300 [01:31<00:27,  2.48it/s]"
          ]
        },
        {
          "output_type": "stream",
          "name": "stdout",
          "text": [
            "F1 in epoch232 : 0.8582\n"
          ]
        },
        {
          "output_type": "stream",
          "name": "stderr",
          "text": [
            "\r 78%|\u001b[32m███████▊  \u001b[0m| 234/300 [01:32<00:28,  2.28it/s]"
          ]
        },
        {
          "output_type": "stream",
          "name": "stdout",
          "text": [
            "F1 in epoch233 : 0.8582\n"
          ]
        },
        {
          "output_type": "stream",
          "name": "stderr",
          "text": [
            "\r 78%|\u001b[32m███████▊  \u001b[0m| 235/300 [01:32<00:24,  2.65it/s]"
          ]
        },
        {
          "output_type": "stream",
          "name": "stdout",
          "text": [
            "F1 in epoch234 : 0.8582\n"
          ]
        },
        {
          "output_type": "stream",
          "name": "stderr",
          "text": [
            "\r 79%|\u001b[32m███████▊  \u001b[0m| 236/300 [01:32<00:26,  2.40it/s]"
          ]
        },
        {
          "output_type": "stream",
          "name": "stdout",
          "text": [
            "F1 in epoch235 : 0.8582\n"
          ]
        },
        {
          "output_type": "stream",
          "name": "stderr",
          "text": [
            "\r 79%|\u001b[32m███████▉  \u001b[0m| 237/300 [01:33<00:22,  2.76it/s]"
          ]
        },
        {
          "output_type": "stream",
          "name": "stdout",
          "text": [
            "F1 in epoch236 : 0.8582\n"
          ]
        },
        {
          "output_type": "stream",
          "name": "stderr",
          "text": [
            "\r 79%|\u001b[32m███████▉  \u001b[0m| 238/300 [01:33<00:25,  2.47it/s]"
          ]
        },
        {
          "output_type": "stream",
          "name": "stdout",
          "text": [
            "F1 in epoch237 : 0.8582\n"
          ]
        },
        {
          "output_type": "stream",
          "name": "stderr",
          "text": [
            "\r 80%|\u001b[32m███████▉  \u001b[0m| 239/300 [01:33<00:21,  2.82it/s]"
          ]
        },
        {
          "output_type": "stream",
          "name": "stdout",
          "text": [
            "F1 in epoch238 : 0.8582\n"
          ]
        },
        {
          "output_type": "stream",
          "name": "stderr",
          "text": [
            "\r 80%|\u001b[32m████████  \u001b[0m| 240/300 [01:34<00:23,  2.52it/s]"
          ]
        },
        {
          "output_type": "stream",
          "name": "stdout",
          "text": [
            "F1 in epoch239 : 0.8582\n"
          ]
        },
        {
          "output_type": "stream",
          "name": "stderr",
          "text": [
            "\r 80%|\u001b[32m████████  \u001b[0m| 241/300 [01:34<00:25,  2.32it/s]"
          ]
        },
        {
          "output_type": "stream",
          "name": "stdout",
          "text": [
            "F1 in epoch240 : 0.8582\n"
          ]
        },
        {
          "output_type": "stream",
          "name": "stderr",
          "text": [
            "\r 81%|\u001b[32m████████  \u001b[0m| 242/300 [01:35<00:21,  2.68it/s]"
          ]
        },
        {
          "output_type": "stream",
          "name": "stdout",
          "text": [
            "F1 in epoch241 : 0.8582\n"
          ]
        },
        {
          "output_type": "stream",
          "name": "stderr",
          "text": [
            "\r 81%|\u001b[32m████████  \u001b[0m| 243/300 [01:35<00:23,  2.38it/s]"
          ]
        },
        {
          "output_type": "stream",
          "name": "stdout",
          "text": [
            "F1 in epoch242 : 0.8582\n"
          ]
        },
        {
          "output_type": "stream",
          "name": "stderr",
          "text": [
            "\r 81%|\u001b[32m████████▏ \u001b[0m| 244/300 [01:35<00:20,  2.73it/s]"
          ]
        },
        {
          "output_type": "stream",
          "name": "stdout",
          "text": [
            "F1 in epoch243 : 0.8582\n"
          ]
        },
        {
          "output_type": "stream",
          "name": "stderr",
          "text": [
            "\r 82%|\u001b[32m████████▏ \u001b[0m| 245/300 [01:36<00:22,  2.46it/s]"
          ]
        },
        {
          "output_type": "stream",
          "name": "stdout",
          "text": [
            "F1 in epoch244 : 0.8582\n"
          ]
        },
        {
          "output_type": "stream",
          "name": "stderr",
          "text": [
            "\r 82%|\u001b[32m████████▏ \u001b[0m| 246/300 [01:36<00:19,  2.82it/s]"
          ]
        },
        {
          "output_type": "stream",
          "name": "stdout",
          "text": [
            "F1 in epoch245 : 0.8582\n"
          ]
        },
        {
          "output_type": "stream",
          "name": "stderr",
          "text": [
            "\r 82%|\u001b[32m████████▏ \u001b[0m| 247/300 [01:37<00:20,  2.54it/s]"
          ]
        },
        {
          "output_type": "stream",
          "name": "stdout",
          "text": [
            "F1 in epoch246 : 0.8582\n"
          ]
        },
        {
          "output_type": "stream",
          "name": "stderr",
          "text": [
            "\r 83%|\u001b[32m████████▎ \u001b[0m| 248/300 [01:37<00:22,  2.34it/s]"
          ]
        },
        {
          "output_type": "stream",
          "name": "stdout",
          "text": [
            "F1 in epoch247 : 0.8582\n"
          ]
        },
        {
          "output_type": "stream",
          "name": "stderr",
          "text": [
            "\r 83%|\u001b[32m████████▎ \u001b[0m| 249/300 [01:37<00:18,  2.71it/s]"
          ]
        },
        {
          "output_type": "stream",
          "name": "stdout",
          "text": [
            "F1 in epoch248 : 0.8582\n"
          ]
        },
        {
          "output_type": "stream",
          "name": "stderr",
          "text": [
            "\r 83%|\u001b[32m████████▎ \u001b[0m| 250/300 [01:38<00:20,  2.45it/s]"
          ]
        },
        {
          "output_type": "stream",
          "name": "stdout",
          "text": [
            "F1 in epoch249 : 0.8587\n"
          ]
        },
        {
          "output_type": "stream",
          "name": "stderr",
          "text": [
            "\r 84%|\u001b[32m████████▎ \u001b[0m| 251/300 [01:38<00:17,  2.81it/s]"
          ]
        },
        {
          "output_type": "stream",
          "name": "stdout",
          "text": [
            "F1 in epoch250 : 0.8587\n"
          ]
        },
        {
          "output_type": "stream",
          "name": "stderr",
          "text": [
            "\r 84%|\u001b[32m████████▍ \u001b[0m| 252/300 [01:39<00:19,  2.52it/s]"
          ]
        },
        {
          "output_type": "stream",
          "name": "stdout",
          "text": [
            "F1 in epoch251 : 0.8587\n"
          ]
        },
        {
          "output_type": "stream",
          "name": "stderr",
          "text": [
            "\r 84%|\u001b[32m████████▍ \u001b[0m| 253/300 [01:39<00:20,  2.33it/s]"
          ]
        },
        {
          "output_type": "stream",
          "name": "stdout",
          "text": [
            "F1 in epoch252 : 0.8587\n"
          ]
        },
        {
          "output_type": "stream",
          "name": "stderr",
          "text": [
            "\r 85%|\u001b[32m████████▍ \u001b[0m| 254/300 [01:39<00:17,  2.68it/s]"
          ]
        },
        {
          "output_type": "stream",
          "name": "stdout",
          "text": [
            "F1 in epoch253 : 0.8587\n"
          ]
        },
        {
          "output_type": "stream",
          "name": "stderr",
          "text": [
            "\r 85%|\u001b[32m████████▌ \u001b[0m| 255/300 [01:40<00:18,  2.41it/s]"
          ]
        },
        {
          "output_type": "stream",
          "name": "stdout",
          "text": [
            "F1 in epoch254 : 0.8587\n"
          ]
        },
        {
          "output_type": "stream",
          "name": "stderr",
          "text": [
            "\r 85%|\u001b[32m████████▌ \u001b[0m| 256/300 [01:40<00:15,  2.77it/s]"
          ]
        },
        {
          "output_type": "stream",
          "name": "stdout",
          "text": [
            "F1 in epoch255 : 0.8587\n"
          ]
        },
        {
          "output_type": "stream",
          "name": "stderr",
          "text": [
            "\r 86%|\u001b[32m████████▌ \u001b[0m| 257/300 [01:41<00:17,  2.47it/s]"
          ]
        },
        {
          "output_type": "stream",
          "name": "stdout",
          "text": [
            "F1 in epoch256 : 0.8587\n"
          ]
        },
        {
          "output_type": "stream",
          "name": "stderr",
          "text": [
            "\r 86%|\u001b[32m████████▌ \u001b[0m| 258/300 [01:41<00:14,  2.81it/s]"
          ]
        },
        {
          "output_type": "stream",
          "name": "stdout",
          "text": [
            "F1 in epoch257 : 0.8587\n"
          ]
        },
        {
          "output_type": "stream",
          "name": "stderr",
          "text": [
            "\r 86%|\u001b[32m████████▋ \u001b[0m| 259/300 [01:41<00:16,  2.43it/s]"
          ]
        },
        {
          "output_type": "stream",
          "name": "stdout",
          "text": [
            "F1 in epoch258 : 0.8587\n"
          ]
        },
        {
          "output_type": "stream",
          "name": "stderr",
          "text": [
            "\r 87%|\u001b[32m████████▋ \u001b[0m| 260/300 [01:42<00:14,  2.77it/s]"
          ]
        },
        {
          "output_type": "stream",
          "name": "stdout",
          "text": [
            "F1 in epoch259 : 0.8587\n"
          ]
        },
        {
          "output_type": "stream",
          "name": "stderr",
          "text": [
            "\r 87%|\u001b[32m████████▋ \u001b[0m| 261/300 [01:42<00:15,  2.48it/s]"
          ]
        },
        {
          "output_type": "stream",
          "name": "stdout",
          "text": [
            "F1 in epoch260 : 0.8587\n"
          ]
        },
        {
          "output_type": "stream",
          "name": "stderr",
          "text": [
            "\r 87%|\u001b[32m████████▋ \u001b[0m| 262/300 [01:43<00:16,  2.30it/s]"
          ]
        },
        {
          "output_type": "stream",
          "name": "stdout",
          "text": [
            "F1 in epoch261 : 0.8587\n"
          ]
        },
        {
          "output_type": "stream",
          "name": "stderr",
          "text": [
            "\r 88%|\u001b[32m████████▊ \u001b[0m| 263/300 [01:43<00:13,  2.67it/s]"
          ]
        },
        {
          "output_type": "stream",
          "name": "stdout",
          "text": [
            "F1 in epoch262 : 0.8587\n"
          ]
        },
        {
          "output_type": "stream",
          "name": "stderr",
          "text": [
            "\r 88%|\u001b[32m████████▊ \u001b[0m| 264/300 [01:43<00:14,  2.42it/s]"
          ]
        },
        {
          "output_type": "stream",
          "name": "stdout",
          "text": [
            "F1 in epoch263 : 0.8587\n"
          ]
        },
        {
          "output_type": "stream",
          "name": "stderr",
          "text": [
            "\r 88%|\u001b[32m████████▊ \u001b[0m| 265/300 [01:44<00:12,  2.74it/s]"
          ]
        },
        {
          "output_type": "stream",
          "name": "stdout",
          "text": [
            "F1 in epoch264 : 0.8587\n"
          ]
        },
        {
          "output_type": "stream",
          "name": "stderr",
          "text": [
            "\r 89%|\u001b[32m████████▊ \u001b[0m| 266/300 [01:44<00:13,  2.47it/s]"
          ]
        },
        {
          "output_type": "stream",
          "name": "stdout",
          "text": [
            "F1 in epoch265 : 0.8587\n"
          ]
        },
        {
          "output_type": "stream",
          "name": "stderr",
          "text": [
            "\r 89%|\u001b[32m████████▉ \u001b[0m| 267/300 [01:44<00:11,  2.82it/s]"
          ]
        },
        {
          "output_type": "stream",
          "name": "stdout",
          "text": [
            "F1 in epoch266 : 0.8587\n"
          ]
        },
        {
          "output_type": "stream",
          "name": "stderr",
          "text": [
            "\r 89%|\u001b[32m████████▉ \u001b[0m| 268/300 [01:45<00:12,  2.53it/s]"
          ]
        },
        {
          "output_type": "stream",
          "name": "stdout",
          "text": [
            "F1 in epoch267 : 0.8587\n"
          ]
        },
        {
          "output_type": "stream",
          "name": "stderr",
          "text": [
            "\r 90%|\u001b[32m████████▉ \u001b[0m| 269/300 [01:45<00:13,  2.33it/s]"
          ]
        },
        {
          "output_type": "stream",
          "name": "stdout",
          "text": [
            "F1 in epoch268 : 0.8587\n"
          ]
        },
        {
          "output_type": "stream",
          "name": "stderr",
          "text": [
            "\r 90%|\u001b[32m█████████ \u001b[0m| 270/300 [01:46<00:11,  2.69it/s]"
          ]
        },
        {
          "output_type": "stream",
          "name": "stdout",
          "text": [
            "F1 in epoch269 : 0.8587\n"
          ]
        },
        {
          "output_type": "stream",
          "name": "stderr",
          "text": [
            "\r 90%|\u001b[32m█████████ \u001b[0m| 271/300 [01:46<00:11,  2.43it/s]"
          ]
        },
        {
          "output_type": "stream",
          "name": "stdout",
          "text": [
            "F1 in epoch270 : 0.8587\n"
          ]
        },
        {
          "output_type": "stream",
          "name": "stderr",
          "text": [
            "\r 91%|\u001b[32m█████████ \u001b[0m| 272/300 [01:46<00:10,  2.79it/s]"
          ]
        },
        {
          "output_type": "stream",
          "name": "stdout",
          "text": [
            "F1 in epoch271 : 0.8587\n"
          ]
        },
        {
          "output_type": "stream",
          "name": "stderr",
          "text": [
            "\r 91%|\u001b[32m█████████ \u001b[0m| 273/300 [01:47<00:10,  2.50it/s]"
          ]
        },
        {
          "output_type": "stream",
          "name": "stdout",
          "text": [
            "F1 in epoch272 : 0.8587\n"
          ]
        },
        {
          "output_type": "stream",
          "name": "stderr",
          "text": [
            "\r 91%|\u001b[32m█████████▏\u001b[0m| 274/300 [01:47<00:11,  2.28it/s]"
          ]
        },
        {
          "output_type": "stream",
          "name": "stdout",
          "text": [
            "F1 in epoch273 : 0.8587\n"
          ]
        },
        {
          "output_type": "stream",
          "name": "stderr",
          "text": [
            "\r 92%|\u001b[32m█████████▏\u001b[0m| 275/300 [01:48<00:09,  2.65it/s]"
          ]
        },
        {
          "output_type": "stream",
          "name": "stdout",
          "text": [
            "F1 in epoch274 : 0.8587\n"
          ]
        },
        {
          "output_type": "stream",
          "name": "stderr",
          "text": [
            "\r 92%|\u001b[32m█████████▏\u001b[0m| 276/300 [01:48<00:10,  2.37it/s]"
          ]
        },
        {
          "output_type": "stream",
          "name": "stdout",
          "text": [
            "F1 in epoch275 : 0.8587\n"
          ]
        },
        {
          "output_type": "stream",
          "name": "stderr",
          "text": [
            "\r 92%|\u001b[32m█████████▏\u001b[0m| 277/300 [01:48<00:08,  2.71it/s]"
          ]
        },
        {
          "output_type": "stream",
          "name": "stdout",
          "text": [
            "F1 in epoch276 : 0.8587\n"
          ]
        },
        {
          "output_type": "stream",
          "name": "stderr",
          "text": [
            "\r 93%|\u001b[32m█████████▎\u001b[0m| 278/300 [01:49<00:09,  2.44it/s]"
          ]
        },
        {
          "output_type": "stream",
          "name": "stdout",
          "text": [
            "F1 in epoch277 : 0.8587\n"
          ]
        },
        {
          "output_type": "stream",
          "name": "stderr",
          "text": [
            "\r 93%|\u001b[32m█████████▎\u001b[0m| 279/300 [01:49<00:07,  2.78it/s]"
          ]
        },
        {
          "output_type": "stream",
          "name": "stdout",
          "text": [
            "F1 in epoch278 : 0.8587\n"
          ]
        },
        {
          "output_type": "stream",
          "name": "stderr",
          "text": [
            "\r 93%|\u001b[32m█████████▎\u001b[0m| 280/300 [01:50<00:07,  2.50it/s]"
          ]
        },
        {
          "output_type": "stream",
          "name": "stdout",
          "text": [
            "F1 in epoch279 : 0.8587\n"
          ]
        },
        {
          "output_type": "stream",
          "name": "stderr",
          "text": [
            "\r 94%|\u001b[32m█████████▎\u001b[0m| 281/300 [01:50<00:08,  2.30it/s]"
          ]
        },
        {
          "output_type": "stream",
          "name": "stdout",
          "text": [
            "F1 in epoch280 : 0.8587\n"
          ]
        },
        {
          "output_type": "stream",
          "name": "stderr",
          "text": [
            "\r 94%|\u001b[32m█████████▍\u001b[0m| 282/300 [01:50<00:06,  2.66it/s]"
          ]
        },
        {
          "output_type": "stream",
          "name": "stdout",
          "text": [
            "F1 in epoch281 : 0.8587\n"
          ]
        },
        {
          "output_type": "stream",
          "name": "stderr",
          "text": [
            "\r 94%|\u001b[32m█████████▍\u001b[0m| 283/300 [01:51<00:07,  2.42it/s]"
          ]
        },
        {
          "output_type": "stream",
          "name": "stdout",
          "text": [
            "F1 in epoch282 : 0.8587\n"
          ]
        },
        {
          "output_type": "stream",
          "name": "stderr",
          "text": [
            "\r 95%|\u001b[32m█████████▍\u001b[0m| 284/300 [01:51<00:05,  2.76it/s]"
          ]
        },
        {
          "output_type": "stream",
          "name": "stdout",
          "text": [
            "F1 in epoch283 : 0.8587\n"
          ]
        },
        {
          "output_type": "stream",
          "name": "stderr",
          "text": [
            "\r 95%|\u001b[32m█████████▌\u001b[0m| 285/300 [01:52<00:06,  2.48it/s]"
          ]
        },
        {
          "output_type": "stream",
          "name": "stdout",
          "text": [
            "F1 in epoch284 : 0.8587\n"
          ]
        },
        {
          "output_type": "stream",
          "name": "stderr",
          "text": [
            "\r 95%|\u001b[32m█████████▌\u001b[0m| 286/300 [01:52<00:04,  2.82it/s]"
          ]
        },
        {
          "output_type": "stream",
          "name": "stdout",
          "text": [
            "F1 in epoch285 : 0.8587\n"
          ]
        },
        {
          "output_type": "stream",
          "name": "stderr",
          "text": [
            "\r 96%|\u001b[32m█████████▌\u001b[0m| 287/300 [01:52<00:05,  2.51it/s]"
          ]
        },
        {
          "output_type": "stream",
          "name": "stdout",
          "text": [
            "F1 in epoch286 : 0.8587\n"
          ]
        },
        {
          "output_type": "stream",
          "name": "stderr",
          "text": [
            "\r 96%|\u001b[32m█████████▌\u001b[0m| 288/300 [01:53<00:05,  2.32it/s]"
          ]
        },
        {
          "output_type": "stream",
          "name": "stdout",
          "text": [
            "F1 in epoch287 : 0.8587\n"
          ]
        },
        {
          "output_type": "stream",
          "name": "stderr",
          "text": [
            "\r 96%|\u001b[32m█████████▋\u001b[0m| 289/300 [01:53<00:04,  2.67it/s]"
          ]
        },
        {
          "output_type": "stream",
          "name": "stdout",
          "text": [
            "F1 in epoch288 : 0.8587\n"
          ]
        },
        {
          "output_type": "stream",
          "name": "stderr",
          "text": [
            "\r 97%|\u001b[32m█████████▋\u001b[0m| 290/300 [01:54<00:04,  2.42it/s]"
          ]
        },
        {
          "output_type": "stream",
          "name": "stdout",
          "text": [
            "F1 in epoch289 : 0.8587\n"
          ]
        },
        {
          "output_type": "stream",
          "name": "stderr",
          "text": [
            "\r 97%|\u001b[32m█████████▋\u001b[0m| 291/300 [01:54<00:03,  2.72it/s]"
          ]
        },
        {
          "output_type": "stream",
          "name": "stdout",
          "text": [
            "F1 in epoch290 : 0.8587\n"
          ]
        },
        {
          "output_type": "stream",
          "name": "stderr",
          "text": [
            "\r 97%|\u001b[32m█████████▋\u001b[0m| 292/300 [01:54<00:03,  2.45it/s]"
          ]
        },
        {
          "output_type": "stream",
          "name": "stdout",
          "text": [
            "F1 in epoch291 : 0.8587\n"
          ]
        },
        {
          "output_type": "stream",
          "name": "stderr",
          "text": [
            "\r 98%|\u001b[32m█████████▊\u001b[0m| 293/300 [01:55<00:03,  2.28it/s]"
          ]
        },
        {
          "output_type": "stream",
          "name": "stdout",
          "text": [
            "F1 in epoch292 : 0.8587\n"
          ]
        },
        {
          "output_type": "stream",
          "name": "stderr",
          "text": [
            "\r 98%|\u001b[32m█████████▊\u001b[0m| 294/300 [01:55<00:02,  2.64it/s]"
          ]
        },
        {
          "output_type": "stream",
          "name": "stdout",
          "text": [
            "F1 in epoch293 : 0.8587\n"
          ]
        },
        {
          "output_type": "stream",
          "name": "stderr",
          "text": [
            "\r 98%|\u001b[32m█████████▊\u001b[0m| 295/300 [01:56<00:02,  2.42it/s]"
          ]
        },
        {
          "output_type": "stream",
          "name": "stdout",
          "text": [
            "F1 in epoch294 : 0.8587\n"
          ]
        },
        {
          "output_type": "stream",
          "name": "stderr",
          "text": [
            "\r 99%|\u001b[32m█████████▊\u001b[0m| 296/300 [01:56<00:01,  2.78it/s]"
          ]
        },
        {
          "output_type": "stream",
          "name": "stdout",
          "text": [
            "F1 in epoch295 : 0.8587\n"
          ]
        },
        {
          "output_type": "stream",
          "name": "stderr",
          "text": [
            "\r 99%|\u001b[32m█████████▉\u001b[0m| 297/300 [01:56<00:01,  2.50it/s]"
          ]
        },
        {
          "output_type": "stream",
          "name": "stdout",
          "text": [
            "F1 in epoch296 : 0.8587\n"
          ]
        },
        {
          "output_type": "stream",
          "name": "stderr",
          "text": [
            "\r 99%|\u001b[32m█████████▉\u001b[0m| 298/300 [01:57<00:00,  2.31it/s]"
          ]
        },
        {
          "output_type": "stream",
          "name": "stdout",
          "text": [
            "F1 in epoch297 : 0.8587\n"
          ]
        },
        {
          "output_type": "stream",
          "name": "stderr",
          "text": [
            "\r100%|\u001b[32m█████████▉\u001b[0m| 299/300 [01:57<00:00,  2.68it/s]"
          ]
        },
        {
          "output_type": "stream",
          "name": "stdout",
          "text": [
            "F1 in epoch298 : 0.8587\n"
          ]
        },
        {
          "output_type": "stream",
          "name": "stderr",
          "text": [
            "100%|\u001b[32m██████████\u001b[0m| 300/300 [01:58<00:00,  2.54it/s]"
          ]
        },
        {
          "output_type": "stream",
          "name": "stdout",
          "text": [
            "F1 in epoch299 : 0.8587\n"
          ]
        },
        {
          "output_type": "stream",
          "name": "stderr",
          "text": [
            "\n"
          ]
        }
      ]
    },
    {
      "cell_type": "code",
      "source": [
        "y_proba = final.cpu().numpy()\n",
        "\n",
        "resl = []\n",
        "for i in y_proba:\n",
        "  a = [x+1 for x in range(len(i)) if i[x] > 0.5]\n",
        "  for j in range(len(a)):\n",
        "    if a[j] >=12:\n",
        "      a[j] = a[j]+1\n",
        "  resl.append(a)\n",
        "\n",
        "test_pred = []\n",
        "for lis in resl:\n",
        "  a = [str(i) for i in lis]\n",
        "  test_pred.append(\" \".join(a))\n",
        "\n",
        "# output_df = pd.DataFrame(test_pred, columns = ['Labels'])\n",
        "\n",
        "# # The best model of our prediction data on kaggle is svm.\n",
        "# # Select the prediction of svm model for output.\n",
        "# output_df = pd.DataFrame(test_pred, columns = ['Labels'])\n",
        "# output_df.to_csv('/content/Predicted_labels.csv')\n",
        "# df.to_csv(\"/content/Predicted_labels.csv\".format(str(output_df)), index= False)\n",
        "# print\n",
        "\n",
        "# make a csv file\n",
        "df = pd.DataFrame(columns=[\"ImageID\", \"Labels\"])\n",
        "# Creating the Second Dataframe using dictionary\n",
        "for index, value in enumerate(test_pred):\n",
        "    df_temp = pd.DataFrame({\"ImageID\":\"{}.jpg\".format(30000+index), \"Labels\":\" \".join([str(i) for i in [value]])}, index=[0])\n",
        "    # for appending df_temp at the end of df\n",
        "    df = df.append(df_temp, ignore_index = True)\n",
        "\n",
        "df.to_csv(\"/content/Predicted_labels.csv\", index = False)"
      ],
      "metadata": {
        "id": "dhj-zpZQCU-Q"
      },
      "execution_count": null,
      "outputs": []
    }
  ]
}