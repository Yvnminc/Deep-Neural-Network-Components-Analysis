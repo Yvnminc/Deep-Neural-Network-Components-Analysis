{
 "cells": [
  {
   "cell_type": "code",
   "execution_count": 1,
   "id": "3aafabdd",
   "metadata": {},
   "outputs": [],
   "source": [
    "from algorithms import *\n",
    "from algorithms.MlpV2 import *\n",
    "from sklearn.metrics import precision_score, recall_score, f1_score\n",
    "data = Data()"
   ]
  },
  {
   "cell_type": "code",
   "execution_count": 2,
   "id": "eb055ca5",
   "metadata": {},
   "outputs": [],
   "source": [
    "X_train = data.train_data\n",
    "y_train = data.train_label"
   ]
  },
  {
   "cell_type": "code",
   "execution_count": 3,
   "id": "a1291518",
   "metadata": {},
   "outputs": [],
   "source": [
    "X_valid = data.validation_data\n",
    "y_valid = data.validation_label"
   ]
  },
  {
   "cell_type": "code",
   "execution_count": 4,
   "id": "c59471b7",
   "metadata": {},
   "outputs": [],
   "source": [
    "batch_size = 128\n",
    "lr = 0.01"
   ]
  },
  {
   "cell_type": "code",
   "execution_count": 5,
   "id": "5d26ed4f",
   "metadata": {},
   "outputs": [],
   "source": [
    "loss = []\n",
    "bn_loss = []\n",
    "train_acc = []\n",
    "valid_acc = []\n",
    "train_precision = []\n",
    "valid_precision = []\n",
    "train_recall = []\n",
    "valid_recall = []\n",
    "train_f1 = []\n",
    "valid_f1 = []"
   ]
  },
  {
   "cell_type": "code",
   "execution_count": 6,
   "id": "dbfc4546",
   "metadata": {
    "scrolled": true
   },
   "outputs": [
    {
     "name": "stdout",
     "output_type": "stream",
     "text": [
      "Epoch: 1  Training Loss: 2.102109326731528  Time (sec): 3.4389734268188477\n",
      "Epoch: 2  Training Loss: 1.846507948972292  Time (sec): 3.084071159362793\n",
      "Epoch: 3  Training Loss: 1.7343811492427286  Time (sec): 3.7098424434661865\n",
      "Epoch: 4  Training Loss: 1.660722071254268  Time (sec): 4.2950146198272705\n",
      "Epoch: 5  Training Loss: 1.602465186582587  Time (sec): 3.461578845977783\n",
      "Epoch: 6  Training Loss: 1.556782141719358  Time (sec): 3.2127327919006348\n",
      "Epoch: 7  Training Loss: 1.5176215366965873  Time (sec): 3.100766658782959\n",
      "Epoch: 8  Training Loss: 1.4836458255519096  Time (sec): 3.1307055950164795\n",
      "Epoch: 9  Training Loss: 1.4518695313979704  Time (sec): 3.6450631618499756\n",
      "Epoch: 10  Training Loss: 1.4233889625309413  Time (sec): 3.222722053527832\n",
      "Epoch: 11  Training Loss: 1.3955219326536583  Time (sec): 2.988161325454712\n",
      "Epoch: 12  Training Loss: 1.372313660836748  Time (sec): 2.9956722259521484\n",
      "Epoch: 13  Training Loss: 1.3483299947956902  Time (sec): 3.2736382484436035\n",
      "Epoch: 14  Training Loss: 1.324552207970657  Time (sec): 3.130361557006836\n",
      "Epoch: 15  Training Loss: 1.3033407398771883  Time (sec): 3.0418739318847656\n",
      "Epoch: 16  Training Loss: 1.2814923001280754  Time (sec): 3.060868501663208\n",
      "Epoch: 17  Training Loss: 1.2621703001733402  Time (sec): 3.2325098514556885\n",
      "Epoch: 18  Training Loss: 1.2412747356332223  Time (sec): 3.0612502098083496\n",
      "Epoch: 19  Training Loss: 1.223706722608244  Time (sec): 3.0668230056762695\n",
      "Epoch: 20  Training Loss: 1.2031697172326363  Time (sec): 3.816763401031494\n",
      "Epoch: 21  Training Loss: 1.1837494880445114  Time (sec): 3.435795783996582\n",
      "Epoch: 22  Training Loss: 1.1647282581479979  Time (sec): 3.496955633163452\n",
      "Epoch: 23  Training Loss: 1.1470501628933314  Time (sec): 3.118438482284546\n",
      "Epoch: 24  Training Loss: 1.1282723180667171  Time (sec): 3.0271222591400146\n",
      "Epoch: 25  Training Loss: 1.1088381049022327  Time (sec): 3.246056079864502\n",
      "Epoch: 26  Training Loss: 1.0914937144398598  Time (sec): 3.269794464111328\n",
      "Epoch: 27  Training Loss: 1.0729576302240644  Time (sec): 3.0394036769866943\n",
      "Epoch: 28  Training Loss: 1.0574160651835538  Time (sec): 3.5501906871795654\n",
      "Epoch: 29  Training Loss: 1.0380854630584009  Time (sec): 3.6745877265930176\n",
      "Epoch: 30  Training Loss: 1.0213015595808719  Time (sec): 3.376741647720337\n",
      "Epoch: 31  Training Loss: 1.0010349375585659  Time (sec): 3.18778133392334\n",
      "Epoch: 32  Training Loss: 0.9821701189674006  Time (sec): 3.1173644065856934\n",
      "Epoch: 33  Training Loss: 0.9655333847669805  Time (sec): 3.1907083988189697\n",
      "Epoch: 34  Training Loss: 0.9499468047713375  Time (sec): 3.0550196170806885\n",
      "Epoch: 35  Training Loss: 0.9321567699777382  Time (sec): 3.061135768890381\n",
      "Epoch: 36  Training Loss: 0.9159563696958415  Time (sec): 3.273594617843628\n",
      "Epoch: 37  Training Loss: 0.8975546507608905  Time (sec): 3.452599287033081\n",
      "Epoch: 38  Training Loss: 0.8819724003683836  Time (sec): 3.0640134811401367\n",
      "Epoch: 39  Training Loss: 0.8653628470391713  Time (sec): 3.025966167449951\n",
      "Epoch: 40  Training Loss: 0.8470410507089237  Time (sec): 3.0299229621887207\n",
      "Epoch: 41  Training Loss: 0.8330015967635486  Time (sec): 3.007234811782837\n",
      "Epoch: 42  Training Loss: 0.8145472191806928  Time (sec): 3.0924324989318848\n",
      "Epoch: 43  Training Loss: 0.7949587207149543  Time (sec): 3.0935986042022705\n",
      "Epoch: 44  Training Loss: 0.7796092661777523  Time (sec): 3.2451395988464355\n",
      "Epoch: 45  Training Loss: 0.7657034199474799  Time (sec): 3.4671287536621094\n",
      "Epoch: 46  Training Loss: 0.7493787943435917  Time (sec): 3.244234800338745\n",
      "Epoch: 47  Training Loss: 0.7283321037966075  Time (sec): 3.7531673908233643\n",
      "Epoch: 48  Training Loss: 0.7107842225550708  Time (sec): 3.537956953048706\n",
      "Epoch: 49  Training Loss: 0.6901132746164258  Time (sec): 3.4002268314361572\n",
      "Epoch: 50  Training Loss: 0.6797764347821078  Time (sec): 2.9968626499176025\n"
     ]
    }
   ],
   "source": [
    "nn = MlpV2(learning_rate=lr, batch_size=batch_size, norm = None)\n",
    "nn.set_optimiser(opt_type='Momentum', params = [0.9])\n",
    "nn.add_layer(128,512,\"relu\",1)\n",
    "nn.add_layer(512,256,\"relu\",1)\n",
    "nn.add_layer(256,128,\"relu\",1)\n",
    "nn.add_layer(128,64,\"relu\",1)\n",
    "nn.add_layer(64,10,\"softmax\",1)\n",
    "    \n",
    "train_loss = nn.fit(X_train, y_train, epochs=50)\n",
    "loss.append(train_loss)\n",
    "    \n",
    "acc = nn.evaluate(X_train, y_train)\n",
    "train_acc.append(acc)\n",
    "    \n",
    "v_acc = nn.evaluate(X_valid, y_valid)\n",
    "valid_acc.append(v_acc)\n",
    "        \n",
    "y_pred_train = np.argmax(nn.predict(X_train), axis=1)\n",
    "y_train_transformed = np.argmax(y_train, axis=1)\n",
    "y_pred_valid = np.argmax(nn.predict(X_valid), axis=1)\n",
    "y_valid_transformed = np.argmax(y_valid, axis=1)\n",
    "        \n",
    "precision = precision_score(y_train_transformed, y_pred_train, average='macro')\n",
    "recall = recall_score(y_train_transformed, y_pred_train, average='macro')\n",
    "f1 = f1_score(y_train_transformed, y_pred_train, average='macro')\n",
    "        \n",
    "train_precision.append(precision)\n",
    "train_recall.append(recall)\n",
    "train_f1.append(f1)\n",
    "        \n",
    "v_precision = precision_score(y_valid_transformed, y_pred_valid, average='macro')\n",
    "v_recall = recall_score(y_valid_transformed, y_pred_valid, average='macro')\n",
    "v_f1 = f1_score(y_valid_transformed, y_pred_valid, average='macro')\n",
    "        \n",
    "valid_precision.append(v_precision)\n",
    "valid_recall.append(v_recall)\n",
    "valid_f1.append(v_f1)"
   ]
  },
  {
   "cell_type": "code",
   "execution_count": 7,
   "id": "f0c27f40",
   "metadata": {},
   "outputs": [
    {
     "name": "stdout",
     "output_type": "stream",
     "text": [
      "Epoch: 1  Training Loss: 2.0207376832610042  Time (sec): 5.470325231552124\n",
      "Epoch: 2  Training Loss: 1.729746423691109  Time (sec): 5.216421365737915\n",
      "Epoch: 3  Training Loss: 1.6415086695262615  Time (sec): 4.959023952484131\n",
      "Epoch: 4  Training Loss: 1.5841745907854436  Time (sec): 5.076411485671997\n",
      "Epoch: 5  Training Loss: 1.537971939702654  Time (sec): 5.038454294204712\n",
      "Epoch: 6  Training Loss: 1.4955147432079283  Time (sec): 5.299022197723389\n",
      "Epoch: 7  Training Loss: 1.4588052027996832  Time (sec): 5.742171049118042\n",
      "Epoch: 8  Training Loss: 1.4268657532140134  Time (sec): 5.16117787361145\n",
      "Epoch: 9  Training Loss: 1.4000136226303972  Time (sec): 5.160543918609619\n",
      "Epoch: 10  Training Loss: 1.3722605193833108  Time (sec): 4.934669494628906\n",
      "Epoch: 11  Training Loss: 1.3505888922661133  Time (sec): 4.790419101715088\n",
      "Epoch: 12  Training Loss: 1.3300963357715814  Time (sec): 4.978040456771851\n",
      "Epoch: 13  Training Loss: 1.320504713051602  Time (sec): 5.4334423542022705\n",
      "Epoch: 14  Training Loss: 1.3085287397400878  Time (sec): 4.913689613342285\n",
      "Epoch: 15  Training Loss: 1.3006497471723064  Time (sec): 4.880579471588135\n",
      "Epoch: 16  Training Loss: 1.2968116753864722  Time (sec): 4.866762161254883\n",
      "Epoch: 17  Training Loss: 1.2881201529232817  Time (sec): 5.093972682952881\n",
      "Epoch: 18  Training Loss: 1.2823244060427184  Time (sec): 5.509292840957642\n",
      "Epoch: 19  Training Loss: 1.2783394456122135  Time (sec): 6.578675270080566\n",
      "Epoch: 20  Training Loss: 1.2756822384260973  Time (sec): 10.277332544326782\n",
      "Epoch: 21  Training Loss: 1.2673776863382749  Time (sec): 11.044158935546875\n",
      "Epoch: 22  Training Loss: 1.2677744794359793  Time (sec): 5.81616473197937\n",
      "Epoch: 23  Training Loss: 1.2649787060560809  Time (sec): 6.672821521759033\n",
      "Epoch: 24  Training Loss: 1.265615538213637  Time (sec): 5.168042898178101\n",
      "Epoch: 25  Training Loss: 1.2620407389304675  Time (sec): 5.470317602157593\n",
      "Epoch: 26  Training Loss: 1.2589735160951485  Time (sec): 4.720103979110718\n",
      "Epoch: 27  Training Loss: 1.252267651161339  Time (sec): 4.711036443710327\n",
      "Epoch: 28  Training Loss: 1.2521183902687953  Time (sec): 4.863407135009766\n",
      "Epoch: 29  Training Loss: 1.2454492137535698  Time (sec): 5.7331860065460205\n",
      "Epoch: 30  Training Loss: 1.2464156376497157  Time (sec): 4.7970359325408936\n",
      "Epoch: 31  Training Loss: 1.242857773581336  Time (sec): 4.955166816711426\n",
      "Epoch: 32  Training Loss: 1.237880472071971  Time (sec): 4.840770483016968\n",
      "Epoch: 33  Training Loss: 1.2352720264519064  Time (sec): 5.363244295120239\n",
      "Epoch: 34  Training Loss: 1.228721983908374  Time (sec): 5.273438453674316\n",
      "Epoch: 35  Training Loss: 1.2283996508810908  Time (sec): 4.729478597640991\n",
      "Epoch: 36  Training Loss: 1.2291875127575391  Time (sec): 4.562707185745239\n",
      "Epoch: 37  Training Loss: 1.22390898856039  Time (sec): 4.601406812667847\n",
      "Epoch: 38  Training Loss: 1.2217909777874771  Time (sec): 4.623008489608765\n",
      "Epoch: 39  Training Loss: 1.2182335415072127  Time (sec): 4.66104793548584\n",
      "Epoch: 40  Training Loss: 1.220459948589976  Time (sec): 4.563379764556885\n",
      "Epoch: 41  Training Loss: 1.2077217034123051  Time (sec): 4.692577600479126\n",
      "Epoch: 42  Training Loss: 1.2108913979645508  Time (sec): 5.074357748031616\n",
      "Epoch: 43  Training Loss: 1.2069850197752068  Time (sec): 5.222005844116211\n",
      "Epoch: 44  Training Loss: 1.206992255243858  Time (sec): 4.895966053009033\n",
      "Epoch: 45  Training Loss: 1.2069616694339627  Time (sec): 4.621702671051025\n",
      "Epoch: 46  Training Loss: 1.198160146336601  Time (sec): 4.632871150970459\n",
      "Epoch: 47  Training Loss: 1.1997342288080854  Time (sec): 4.6575353145599365\n",
      "Epoch: 48  Training Loss: 1.1965417553333517  Time (sec): 4.97073221206665\n",
      "Epoch: 49  Training Loss: 1.199536669040442  Time (sec): 5.617132186889648\n",
      "Epoch: 50  Training Loss: 1.1937702299417121  Time (sec): 4.999697208404541\n"
     ]
    }
   ],
   "source": [
    "nn = MlpV2(learning_rate=lr, batch_size=batch_size)\n",
    "nn.set_optimiser(opt_type='Momentum', params = [0.9])\n",
    "nn.set_batchNormalizer()\n",
    "nn.add_layer(128,512,\"relu\",1)\n",
    "nn.add_layer(512,256,\"relu\",1)\n",
    "nn.add_layer(256,128,\"relu\",1)\n",
    "nn.add_layer(128,64,\"relu\",1)\n",
    "nn.add_layer(64,10,\"softmax\",1)\n",
    "train_loss = nn.fit(X_train, y_train, epochs=50)\n",
    "bn_loss.append(train_loss)"
   ]
  },
  {
   "cell_type": "code",
   "execution_count": 10,
   "id": "e7a00358",
   "metadata": {},
   "outputs": [
    {
     "data": {
      "image/png": "[encoded data removed]",
      "text/plain": [
       "<Figure size 432x288 with 1 Axes>"
      ]
     },
     "metadata": {
      "needs_background": "light"
     },
     "output_type": "display_data"
    }
   ],
   "source": [
    "import matplotlib.pyplot as plt\n",
    "plt.plot(loss[0], label=f'without_BN')\n",
    "plt.plot(bn_loss[0], label=f'with_BN')\n",
    "plt.legend()\n",
    "plt.xlabel('Epoch Number')\n",
    "plt.ylabel('Loss')\n",
    "#plt.savefig('visual_outputs/bn_loss.png')\n",
    "plt.show()"
   ]
  },
  {
   "cell_type": "code",
   "execution_count": 9,
   "id": "59d6e10a",
   "metadata": {},
   "outputs": [
    {
     "name": "stdout",
     "output_type": "stream",
     "text": [
      "[0.7892666666666667] [0.5202] [0.7905808058813024] [0.52293792471225] [0.7891866581970663] [0.5217103473514804] [0.789409377680259] [0.5213704424401506]\n"
     ]
    }
   ],
   "source": [
    "print(train_acc, valid_acc, train_precision, valid_precision, train_recall, valid_recall, train_f1, valid_f1)"
   ]
  }
 ],
 "metadata": {
  "kernelspec": {
   "display_name": "Python 3",
   "language": "python",
   "name": "python3"
  },
  "language_info": {
   "codemirror_mode": {
    "name": "ipython",
    "version": 3
   },
   "file_extension": ".py",
   "mimetype": "text/x-python",
   "name": "python",
   "nbconvert_exporter": "python",
   "pygments_lexer": "ipython3",
   "version": "3.6.13"
  }
 },
 "nbformat": 4,
 "nbformat_minor": 5
}
