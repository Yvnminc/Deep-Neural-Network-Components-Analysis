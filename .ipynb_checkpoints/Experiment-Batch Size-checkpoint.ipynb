{
 "cells": [
  {
   "cell_type": "code",
   "execution_count": 1,
   "id": "c5964888",
   "metadata": {},
   "outputs": [
    {
     "name": "stdout",
     "output_type": "stream",
     "text": [
      "(45000, 128)\n",
      "(45000, 10)\n",
      "(5000, 128)\n",
      "(5000, 10)\n",
      "(10000, 128)\n",
      "(10000, 10)\n"
     ]
    }
   ],
   "source": [
    "from algorithms import *\n",
    "from algorithms.MlpV2 import *\n",
    "data = Data()\n",
    "data.print_shapes()\n",
    "X_train = data.train_data\n",
    "y_train = data.train_label"
   ]
  },
  {
   "cell_type": "code",
   "execution_count": 2,
   "id": "48152614",
   "metadata": {},
   "outputs": [],
   "source": [
    "X_test = data.test_data\n",
    "y_test = data.test_label"
   ]
  },
  {
   "cell_type": "code",
   "execution_count": 3,
   "id": "b6f39c37",
   "metadata": {},
   "outputs": [],
   "source": [
    "batch_size = [32, 64, 128, 256]\n",
    "loss = []\n",
    "train_acc = []\n",
    "test_acc = []"
   ]
  },
  {
   "cell_type": "code",
   "execution_count": null,
   "id": "eea96c1c",
   "metadata": {},
   "outputs": [
    {
     "name": "stdout",
     "output_type": "stream",
     "text": [
      "Epoch: 1  Training Loss: 2.19920849042573  Time (sec): 6.803438186645508\n"
     ]
    }
   ],
   "source": [
    "for batch in batch_size:\n",
    "    nn = MlpV2(learning_rate=0.001, batch_size= batch)\n",
    "    nn.set_momentum(0.9)\n",
    "    nn.set_batchNormalizer()\n",
    "    nn.add_layer(128,512,\"relu\",1)\n",
    "    nn.add_layer(512,256,\"relu\",1)\n",
    "    nn.add_layer(256,128,\"relu\",1)\n",
    "    nn.add_layer(128,64,\"relu\",1)\n",
    "    nn.add_layer(64,10,\"softmax\",1)\n",
    "    \n",
    "    train_loss = nn.fit(X_train, y_train, epochs=50)\n",
    "    loss.append(train_loss)\n",
    "    \n",
    "    acc = nn.evaluate(X_train, y_train)\n",
    "    train_acc.append(acc)\n",
    "    \n",
    "    t_acc = nn.evaluate(X_test, y_test)\n",
    "    test_acc.append(t_acc)"
   ]
  },
  {
   "cell_type": "code",
   "execution_count": null,
   "id": "b564c266",
   "metadata": {},
   "outputs": [],
   "source": [
    "print(train_acc)\n",
    "print(test_acc)"
   ]
  }
 ],
 "metadata": {
  "kernelspec": {
   "display_name": "Python 3",
   "language": "python",
   "name": "python3"
  },
  "language_info": {
   "codemirror_mode": {
    "name": "ipython",
    "version": 3
   },
   "file_extension": ".py",
   "mimetype": "text/x-python",
   "name": "python",
   "nbconvert_exporter": "python",
   "pygments_lexer": "ipython3",
   "version": "3.6.13"
  }
 },
 "nbformat": 4,
 "nbformat_minor": 5
}
