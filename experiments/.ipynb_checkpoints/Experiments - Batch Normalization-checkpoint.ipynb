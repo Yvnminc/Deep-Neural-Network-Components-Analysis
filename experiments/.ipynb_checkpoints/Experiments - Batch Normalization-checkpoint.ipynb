{
 "cells": [
  {
   "cell_type": "markdown",
   "id": "c067c3bb",
   "metadata": {},
   "source": [
    "## Ablation studey on Batch Normalization"
   ]
  },
  {
   "cell_type": "code",
   "execution_count": 1,
   "id": "d60b7e51",
   "metadata": {},
   "outputs": [
    {
     "name": "stderr",
     "output_type": "stream",
     "text": [
      "\n",
      "Bad key \"text.kerning_factor\" on line 4 in\n",
      "C:\\Users\\James\\Anaconda3\\envs\\pytorch\\lib\\site-packages\\matplotlib\\mpl-data\\stylelib\\_classic_test_patch.mplstyle.\n",
      "You probably need to get an updated matplotlibrc file from\n",
      "http://github.com/matplotlib/matplotlib/blob/master/matplotlibrc.template\n",
      "or from the matplotlib source distribution\n"
     ]
    }
   ],
   "source": [
    "import sys\n",
    "sys.path.append(\"../\")\n",
    "from algorithms import Evals"
   ]
  },
  {
   "cell_type": "code",
   "execution_count": 2,
   "id": "c71e8c3c",
   "metadata": {},
   "outputs": [
    {
     "name": "stdout",
     "output_type": "stream",
     "text": [
      "-----------------Running: True----------------------\n",
      "Epoch: 5  Training Loss: 1.628251791650852  Time (sec) per epoch: 3.8932714462280273\n",
      "Epoch: 10  Training Loss: 1.3955387612177568  Time (sec) per epoch: 3.929145097732544\n",
      "Epoch: 15  Training Loss: 1.2030744483217366  Time (sec) per epoch: 3.825449228286743\n",
      "Epoch: 20  Training Loss: 1.12542886209954  Time (sec) per epoch: 3.8210272789001465\n",
      "Epoch: 25  Training Loss: 1.1036492060987113  Time (sec) per epoch: 3.967768430709839\n",
      "Epoch: 30  Training Loss: 1.0862988540564429  Time (sec) per epoch: 3.7657880783081055\n",
      "Epoch: 35  Training Loss: 1.077882950466193  Time (sec) per epoch: 4.2993245124816895\n",
      "Epoch: 40  Training Loss: 1.0690328116963086  Time (sec) per epoch: 4.038502216339111\n",
      "Epoch: 45  Training Loss: 1.068104403568686  Time (sec) per epoch: 3.9243273735046387\n",
      "Epoch: 50  Training Loss: 1.067560777265627  Time (sec) per epoch: 3.957261085510254\n",
      "-----------------Running: False----------------------\n",
      "Epoch: 5  Training Loss: 1.7279873380558268  Time (sec) per epoch: 2.5233030319213867\n",
      "Epoch: 10  Training Loss: 1.4659386633583906  Time (sec) per epoch: 2.303562641143799\n",
      "Epoch: 15  Training Loss: 1.278407777808998  Time (sec) per epoch: 2.2990224361419678\n",
      "Epoch: 20  Training Loss: 1.1134823039427113  Time (sec) per epoch: 2.293938159942627\n",
      "Epoch: 25  Training Loss: 0.9568042115054117  Time (sec) per epoch: 2.3250319957733154\n",
      "Epoch: 30  Training Loss: 0.8104243077827717  Time (sec) per epoch: 2.347759962081909\n",
      "Epoch: 35  Training Loss: 0.6693308446130113  Time (sec) per epoch: 2.267920732498169\n",
      "Epoch: 40  Training Loss: 0.5380395622652083  Time (sec) per epoch: 2.3422610759735107\n",
      "Epoch: 45  Training Loss: 0.4142150155685694  Time (sec) per epoch: 2.2921547889709473\n",
      "Epoch: 50  Training Loss: 0.30604540649997986  Time (sec) per epoch: 2.3095390796661377\n"
     ]
    }
   ],
   "source": [
    "# Setup activation experiment\n",
    "bn = [True, False]\n",
    "\n",
    "eval_dict = Evals.set_exp(exps= bn, exp_name= 'batch_normalizer')\n",
    "eval_df = Evals.run_exp(exp_dict= eval_dict, epochs= 50, plot=False)"
   ]
  },
  {
   "cell_type": "code",
   "execution_count": 3,
   "id": "f1964ee5",
   "metadata": {},
   "outputs": [
    {
     "data": {
      "text/html": [
       "<div>\n",
       "<style scoped>\n",
       "    .dataframe tbody tr th:only-of-type {\n",
       "        vertical-align: middle;\n",
       "    }\n",
       "\n",
       "    .dataframe tbody tr th {\n",
       "        vertical-align: top;\n",
       "    }\n",
       "\n",
       "    .dataframe thead th {\n",
       "        text-align: right;\n",
       "    }\n",
       "</style>\n",
       "<table border=\"1\" class=\"dataframe\">\n",
       "  <thead>\n",
       "    <tr style=\"text-align: right;\">\n",
       "      <th></th>\n",
       "      <th>Hyperparameters</th>\n",
       "      <th>loss</th>\n",
       "      <th>train_acc</th>\n",
       "      <th>valid_acc</th>\n",
       "      <th>train_precision</th>\n",
       "      <th>valid_precision</th>\n",
       "      <th>train_recall</th>\n",
       "      <th>valid_recall</th>\n",
       "      <th>train_f1</th>\n",
       "      <th>valid_f1</th>\n",
       "      <th>times</th>\n",
       "    </tr>\n",
       "  </thead>\n",
       "  <tbody>\n",
       "    <tr>\n",
       "      <th>0</th>\n",
       "      <td>True</td>\n",
       "      <td>[2.3577281562749945, 1.943009261394827, 1.7813...</td>\n",
       "      <td>0.756575</td>\n",
       "      <td>0.4982</td>\n",
       "      <td>0.735756</td>\n",
       "      <td>0.488340</td>\n",
       "      <td>0.755926</td>\n",
       "      <td>0.499587</td>\n",
       "      <td>0.733705</td>\n",
       "      <td>0.484638</td>\n",
       "      <td>196.349243</td>\n",
       "    </tr>\n",
       "    <tr>\n",
       "      <th>1</th>\n",
       "      <td>False</td>\n",
       "      <td>[2.2896074145693666, 2.1956449071564035, 2.021...</td>\n",
       "      <td>0.929350</td>\n",
       "      <td>0.4793</td>\n",
       "      <td>0.930788</td>\n",
       "      <td>0.481657</td>\n",
       "      <td>0.929224</td>\n",
       "      <td>0.480280</td>\n",
       "      <td>0.929007</td>\n",
       "      <td>0.479339</td>\n",
       "      <td>116.027536</td>\n",
       "    </tr>\n",
       "  </tbody>\n",
       "</table>\n",
       "</div>"
      ],
      "text/plain": [
       "   Hyperparameters                                               loss  \\\n",
       "0             True  [2.3577281562749945, 1.943009261394827, 1.7813...   \n",
       "1            False  [2.2896074145693666, 2.1956449071564035, 2.021...   \n",
       "\n",
       "   train_acc  valid_acc  train_precision  valid_precision  train_recall  \\\n",
       "0   0.756575     0.4982         0.735756         0.488340      0.755926   \n",
       "1   0.929350     0.4793         0.930788         0.481657      0.929224   \n",
       "\n",
       "   valid_recall  train_f1  valid_f1       times  \n",
       "0      0.499587  0.733705  0.484638  196.349243  \n",
       "1      0.480280  0.929007  0.479339  116.027536  "
      ]
     },
     "execution_count": 3,
     "metadata": {},
     "output_type": "execute_result"
    }
   ],
   "source": [
    "eval_df"
   ]
  }
 ],
 "metadata": {
  "kernelspec": {
   "display_name": "Python 3",
   "language": "python",
   "name": "python3"
  },
  "language_info": {
   "codemirror_mode": {
    "name": "ipython",
    "version": 3
   },
   "file_extension": ".py",
   "mimetype": "text/x-python",
   "name": "python",
   "nbconvert_exporter": "python",
   "pygments_lexer": "ipython3",
   "version": "3.6.13"
  }
 },
 "nbformat": 4,
 "nbformat_minor": 5
}
