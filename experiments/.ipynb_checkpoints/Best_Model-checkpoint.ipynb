{
 "cells": [
  {
   "cell_type": "markdown",
   "metadata": {},
   "source": [
    "## Demonstration of how to set up, train, and test a fine tuned MLP"
   ]
  },
  {
   "cell_type": "code",
   "execution_count": 1,
   "metadata": {},
   "outputs": [
    {
     "name": "stderr",
     "output_type": "stream",
     "text": [
      "\n",
      "Bad key \"text.kerning_factor\" on line 4 in\n",
      "C:\\Users\\James\\Anaconda3\\envs\\pytorch\\lib\\site-packages\\matplotlib\\mpl-data\\stylelib\\_classic_test_patch.mplstyle.\n",
      "You probably need to get an updated matplotlibrc file from\n",
      "http://github.com/matplotlib/matplotlib/blob/master/matplotlibrc.template\n",
      "or from the matplotlib source distribution\n"
     ]
    },
    {
     "name": "stdout",
     "output_type": "stream",
     "text": [
      "(40000, 128)\n",
      "(40000, 10)\n",
      "(10000, 128)\n",
      "(10000, 10)\n",
      "(10000, 128)\n",
      "(10000, 10)\n"
     ]
    }
   ],
   "source": [
    "import sys\n",
    "sys.path.append(\"../\")\n",
    "from algorithms import *\n",
    "data = Data()\n",
    "data.print_shapes()\n",
    "X_train = data.train_data\n",
    "y_train = data.train_label\n",
    "X_test = data.test_data\n",
    "y_test = data.test_label"
   ]
  },
  {
   "cell_type": "markdown",
   "metadata": {},
   "source": [
    "### Set up parameters of a MLP"
   ]
  },
  {
   "cell_type": "code",
   "execution_count": 2,
   "metadata": {},
   "outputs": [],
   "source": [
    "MOMENTUM = 0.9\n",
    "nn = Mlp(learning_rate=0.001, batch_size= 128, keep_prob=0.8)\n",
    "nn.set_optimiser('Adam',[0.9,0.99])\n",
    "nn.set_batchNormalizer(momentum = MOMENTUM)\n",
    "nn.add_layer(128,512,\"leaky_relu\",1)\n",
    "nn.add_layer(512,256,\"leaky_relu\",1)\n",
    "nn.add_layer(256,128,\"leaky_relu\",1)\n",
    "nn.add_layer(128,64,\"leaky_relu\",1)\n",
    "nn.add_layer(64,10,\"softmax\",1)"
   ]
  },
  {
   "cell_type": "markdown",
   "metadata": {},
   "source": [
    "### Train MLP"
   ]
  },
  {
   "cell_type": "code",
   "execution_count": 3,
   "metadata": {},
   "outputs": [
    {
     "name": "stdout",
     "output_type": "stream",
     "text": [
      "Epoch: 5  Training Loss: 1.1261550098854265  Time (sec) per epoch: 4.744018316268921\n",
      "Epoch: 10  Training Loss: 0.8617170988618879  Time (sec) per epoch: 5.118071794509888\n",
      "Epoch: 15  Training Loss: 0.7240226907994397  Time (sec) per epoch: 4.794304132461548\n",
      "Epoch: 20  Training Loss: 0.646473574569952  Time (sec) per epoch: 4.68132209777832\n",
      "Epoch: 25  Training Loss: 0.5997745755628352  Time (sec) per epoch: 4.881532430648804\n",
      "Epoch: 30  Training Loss: 0.5638313124396921  Time (sec) per epoch: 4.742326736450195\n",
      "Epoch: 35  Training Loss: 0.5363844899152819  Time (sec) per epoch: 4.742947578430176\n",
      "Epoch: 40  Training Loss: 0.5189233665429782  Time (sec) per epoch: 4.804305553436279\n",
      "Epoch: 45  Training Loss: 0.5006249822127472  Time (sec) per epoch: 4.887481212615967\n",
      "Epoch: 50  Training Loss: 0.48748357626196936  Time (sec) per epoch: 4.93444299697876\n"
     ]
    },
    {
     "data": {
      "text/plain": [
       "(array([1.77199627, 1.45102108, 1.31458802, 1.2092481 , 1.12615501,\n",
       "        1.05874475, 0.99641794, 0.94418416, 0.90058482, 0.8617171 ,\n",
       "        0.82568869, 0.79336801, 0.76962707, 0.74523083, 0.72402269,\n",
       "        0.70465028, 0.68617599, 0.67323655, 0.66075577, 0.64647357,\n",
       "        0.6350155 , 0.62487207, 0.61930649, 0.60767155, 0.59977458,\n",
       "        0.59029754, 0.58355773, 0.57830367, 0.57055434, 0.56383131,\n",
       "        0.55847124, 0.55186612, 0.54563842, 0.54178146, 0.53638449,\n",
       "        0.52969515, 0.52702327, 0.52323252, 0.52085371, 0.51892337,\n",
       "        0.51337615, 0.51140836, 0.50665257, 0.50535792, 0.50062498,\n",
       "        0.49679036, 0.49621331, 0.49474844, 0.4900988 , 0.48748358]),\n",
       " 244.54387784004211)"
      ]
     },
     "execution_count": 3,
     "metadata": {},
     "output_type": "execute_result"
    }
   ],
   "source": [
    "nn.fit(X_train, y_train, epochs= 50)"
   ]
  },
  {
   "cell_type": "markdown",
   "metadata": {},
   "source": [
    "### Evaluate MLP"
   ]
  },
  {
   "cell_type": "code",
   "execution_count": 4,
   "metadata": {},
   "outputs": [
    {
     "data": {
      "text/plain": [
       "0.99355"
      ]
     },
     "execution_count": 4,
     "metadata": {},
     "output_type": "execute_result"
    }
   ],
   "source": [
    "nn.evaluate(X_train,y_train)"
   ]
  },
  {
   "cell_type": "code",
   "execution_count": 5,
   "metadata": {},
   "outputs": [
    {
     "data": {
      "text/plain": [
       "0.4935"
      ]
     },
     "execution_count": 5,
     "metadata": {},
     "output_type": "execute_result"
    }
   ],
   "source": [
    "nn.evaluate(X_test,y_test)"
   ]
  }
 ],
 "metadata": {
  "kernelspec": {
   "display_name": "Python 3",
   "language": "python",
   "name": "python3"
  },
  "language_info": {
   "codemirror_mode": {
    "name": "ipython",
    "version": 3
   },
   "file_extension": ".py",
   "mimetype": "text/x-python",
   "name": "python",
   "nbconvert_exporter": "python",
   "pygments_lexer": "ipython3",
   "version": "3.6.13"
  },
  "vscode": {
   "interpreter": {
    "hash": "3c882730db67e28db1e924ef806594fad4161f4a410f43aebd253948128b358f"
   }
  }
 },
 "nbformat": 4,
 "nbformat_minor": 2
}
