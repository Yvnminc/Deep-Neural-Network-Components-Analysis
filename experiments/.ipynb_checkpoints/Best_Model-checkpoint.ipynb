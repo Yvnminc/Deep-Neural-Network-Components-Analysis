{
 "cells": [
  {
   "cell_type": "markdown",
   "metadata": {},
   "source": [
    "## Demonstration of how to set up, train, and test a fine tuned MLP"
   ]
  },
  {
   "cell_type": "code",
   "execution_count": 1,
   "metadata": {},
   "outputs": [
    {
     "name": "stderr",
     "output_type": "stream",
     "text": [
      "\n",
      "Bad key \"text.kerning_factor\" on line 4 in\n",
      "C:\\Users\\James\\Anaconda3\\envs\\pytorch\\lib\\site-packages\\matplotlib\\mpl-data\\stylelib\\_classic_test_patch.mplstyle.\n",
      "You probably need to get an updated matplotlibrc file from\n",
      "http://github.com/matplotlib/matplotlib/blob/master/matplotlibrc.template\n",
      "or from the matplotlib source distribution\n"
     ]
    },
    {
     "name": "stdout",
     "output_type": "stream",
     "text": [
      "(40000, 128)\n",
      "(40000, 10)\n",
      "(10000, 128)\n",
      "(10000, 10)\n",
      "(10000, 128)\n",
      "(10000, 10)\n"
     ]
    }
   ],
   "source": [
    "import sys\n",
    "sys.path.append(\"../\")\n",
    "from algorithms import *\n",
    "data = Data()\n",
    "data.print_shapes()\n",
    "X_train = data.train_data\n",
    "y_train = data.train_label\n",
    "X_test = data.test_data\n",
    "y_test = data.test_label"
   ]
  },
  {
   "cell_type": "markdown",
   "metadata": {},
   "source": [
    "### Set up parameters of a MLP"
   ]
  },
  {
   "cell_type": "code",
   "execution_count": 2,
   "metadata": {},
   "outputs": [],
   "source": [
    "MOMENTUM = 0.9\n",
    "nn = Mlp(learning_rate=0.001, batch_size= 128)\n",
    "nn.set_optimiser('Adam',[0.9,0.99])\n",
    "nn.set_batchNormalizer(momentum = MOMENTUM)\n",
    "nn.add_layer(128,512,\"relu\",1)\n",
    "nn.add_layer(512,256,\"relu\",1)\n",
    "nn.add_layer(256,128,\"relu\",1)\n",
    "nn.add_layer(128,64,\"relu\",1)\n",
    "nn.add_layer(64,10,\"softmax\",1)"
   ]
  },
  {
   "cell_type": "markdown",
   "metadata": {},
   "source": [
    "### Train MLP"
   ]
  },
  {
   "cell_type": "code",
   "execution_count": 3,
   "metadata": {},
   "outputs": [
    {
     "name": "stdout",
     "output_type": "stream",
     "text": [
      "Epoch: 5  Training Loss: 1.1057454039653198  Time (sec) per epoch: 4.735580921173096\n",
      "Epoch: 10  Training Loss: 0.8743268070078588  Time (sec) per epoch: 4.689336061477661\n",
      "Epoch: 15  Training Loss: 0.7549594129802535  Time (sec) per epoch: 4.721628904342651\n",
      "Epoch: 20  Training Loss: 0.6859410887235734  Time (sec) per epoch: 4.806262731552124\n",
      "Epoch: 25  Training Loss: 0.6352198884535907  Time (sec) per epoch: 4.754155397415161\n",
      "Epoch: 30  Training Loss: 0.5989045012982493  Time (sec) per epoch: 4.698026895523071\n",
      "Epoch: 35  Training Loss: 0.5697817457408221  Time (sec) per epoch: 4.872446298599243\n",
      "Epoch: 40  Training Loss: 0.5503322084966801  Time (sec) per epoch: 4.823874473571777\n",
      "Epoch: 45  Training Loss: 0.5293436386199719  Time (sec) per epoch: 4.834545612335205\n",
      "Epoch: 50  Training Loss: 0.5158828328586529  Time (sec) per epoch: 4.656841278076172\n"
     ]
    },
    {
     "data": {
      "text/plain": [
       "(array([1.77590291, 1.44298031, 1.29739081, 1.19231425, 1.1057454 ,\n",
       "        1.04303686, 0.98660086, 0.94438517, 0.90314189, 0.87432681,\n",
       "        0.84050555, 0.81654698, 0.79432952, 0.77080486, 0.75495941,\n",
       "        0.74094724, 0.72339521, 0.70960908, 0.69940116, 0.68594109,\n",
       "        0.67451461, 0.66303434, 0.65349731, 0.64355543, 0.63521989,\n",
       "        0.62882922, 0.61923751, 0.61364294, 0.60619272, 0.5989045 ,\n",
       "        0.59302026, 0.58641018, 0.58221903, 0.57450237, 0.56978175,\n",
       "        0.56693747, 0.5603098 , 0.55502117, 0.5533654 , 0.55033221,\n",
       "        0.54504305, 0.5405318 , 0.53518807, 0.53350625, 0.52934364,\n",
       "        0.52473134, 0.52303125, 0.51906855, 0.51547768, 0.51588283]),\n",
       " 238.68317675590515)"
      ]
     },
     "execution_count": 3,
     "metadata": {},
     "output_type": "execute_result"
    }
   ],
   "source": [
    "nn.fit(X_train, y_train, epochs= 50)"
   ]
  },
  {
   "cell_type": "markdown",
   "metadata": {},
   "source": [
    "### Evaluate MLP"
   ]
  },
  {
   "cell_type": "code",
   "execution_count": 4,
   "metadata": {},
   "outputs": [
    {
     "data": {
      "text/plain": [
       "0.994375"
      ]
     },
     "execution_count": 4,
     "metadata": {},
     "output_type": "execute_result"
    }
   ],
   "source": [
    "nn.evaluate(X_train,y_train)"
   ]
  },
  {
   "cell_type": "code",
   "execution_count": 5,
   "metadata": {},
   "outputs": [
    {
     "data": {
      "text/plain": [
       "0.4934"
      ]
     },
     "execution_count": 5,
     "metadata": {},
     "output_type": "execute_result"
    }
   ],
   "source": [
    "nn.evaluate(X_test,y_test)"
   ]
  }
 ],
 "metadata": {
  "kernelspec": {
   "display_name": "Python 3",
   "language": "python",
   "name": "python3"
  },
  "language_info": {
   "codemirror_mode": {
    "name": "ipython",
    "version": 3
   },
   "file_extension": ".py",
   "mimetype": "text/x-python",
   "name": "python",
   "nbconvert_exporter": "python",
   "pygments_lexer": "ipython3",
   "version": "3.6.13"
  },
  "vscode": {
   "interpreter": {
    "hash": "3c882730db67e28db1e924ef806594fad4161f4a410f43aebd253948128b358f"
   }
  }
 },
 "nbformat": 4,
 "nbformat_minor": 2
}
