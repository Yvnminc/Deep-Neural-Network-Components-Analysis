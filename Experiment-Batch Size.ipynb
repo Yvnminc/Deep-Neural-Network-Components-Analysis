{
 "cells": [
  {
   "cell_type": "code",
   "execution_count": 1,
   "id": "856b40b4",
   "metadata": {},
   "outputs": [
    {
     "name": "stdout",
     "output_type": "stream",
     "text": [
      "(45000, 128)\n",
      "(45000, 10)\n",
      "(5000, 128)\n",
      "(5000, 10)\n",
      "(10000, 128)\n",
      "(10000, 10)\n"
     ]
    }
   ],
   "source": [
    "from algorithms import *\n",
    "from algorithms.MlpV2 import *\n",
    "data = Data()\n",
    "data.print_shapes()\n",
    "X_train = data.train_data\n",
    "y_train = data.train_label"
   ]
  },
  {
   "cell_type": "code",
   "execution_count": 2,
   "id": "73d0a2e6",
   "metadata": {},
   "outputs": [],
   "source": [
    "X_test = data.test_data\n",
    "y_test = data.test_label"
   ]
  },
  {
   "cell_type": "code",
   "execution_count": 3,
   "id": "2512a6a4",
   "metadata": {},
   "outputs": [],
   "source": [
    "batch_size = [32, 64, 128, 256]\n",
    "loss = []\n",
    "train_acc = []\n",
    "test_acc = []"
   ]
  },
  {
   "cell_type": "code",
   "execution_count": 4,
   "id": "75702e0a",
   "metadata": {},
   "outputs": [
    {
     "name": "stdout",
     "output_type": "stream",
     "text": [
      "Epoch: 1  Training Loss: 1.987310627475628  Time (sec): 7.200211763381958\n",
      "Epoch: 2  Training Loss: 1.7390984211206522  Time (sec): 7.099810361862183\n",
      "Epoch: 3  Training Loss: 1.662148812100062  Time (sec): 6.997423887252808\n",
      "Epoch: 4  Training Loss: 1.6134954518545015  Time (sec): 6.939979553222656\n",
      "Epoch: 5  Training Loss: 1.5872579750079787  Time (sec): 7.096311330795288\n",
      "Epoch: 6  Training Loss: 1.6215545125240982  Time (sec): 6.997931241989136\n",
      "Epoch: 7  Training Loss: 1.995063745236686  Time (sec): 7.0806660652160645\n",
      "Epoch: 8  Training Loss: 1.951697232514006  Time (sec): 6.965386629104614\n",
      "Epoch: 9  Training Loss: 1.9404477560678186  Time (sec): 7.079723834991455\n",
      "Epoch: 10  Training Loss: 1.978170548715002  Time (sec): 6.979020357131958\n",
      "Epoch: 11  Training Loss: 2.05067072360733  Time (sec): 6.9109437465667725\n",
      "Epoch: 12  Training Loss: 2.116620296772681  Time (sec): 6.870788335800171\n",
      "Epoch: 13  Training Loss: 2.1494696189212665  Time (sec): 6.9524290561676025\n",
      "Epoch: 14  Training Loss: 2.1648852793358917  Time (sec): 7.271066188812256\n",
      "Epoch: 15  Training Loss: 2.2111927110374783  Time (sec): 6.945811748504639\n",
      "Epoch: 16  Training Loss: 2.1732669701266523  Time (sec): 6.888044357299805\n",
      "Epoch: 17  Training Loss: 2.2485510175326473  Time (sec): 6.995080947875977\n",
      "Epoch: 18  Training Loss: 2.386211678038823  Time (sec): 7.070971965789795\n",
      "Epoch: 19  Training Loss: 2.1554957071833294  Time (sec): 6.896636724472046\n",
      "Epoch: 20  Training Loss: 2.129086671509856  Time (sec): 6.949709177017212\n",
      "Epoch: 21  Training Loss: 2.083638645578717  Time (sec): 6.885730504989624\n",
      "Epoch: 22  Training Loss: 2.0843582908888405  Time (sec): 6.920382261276245\n",
      "Epoch: 23  Training Loss: 2.134488845553418  Time (sec): 6.901616096496582\n",
      "Epoch: 24  Training Loss: 2.197836808525102  Time (sec): 7.1625025272369385\n",
      "Epoch: 25  Training Loss: 2.098476245098794  Time (sec): 7.327220439910889\n",
      "Epoch: 26  Training Loss: 2.0926845272310346  Time (sec): 8.321193218231201\n",
      "Epoch: 27  Training Loss: 2.1125715613083655  Time (sec): 7.209083795547485\n",
      "Epoch: 28  Training Loss: 2.13359838435436  Time (sec): 7.092309236526489\n",
      "Epoch: 29  Training Loss: 2.2414734416805593  Time (sec): 7.287089109420776\n",
      "Epoch: 30  Training Loss: 2.1984755978786175  Time (sec): 7.157916784286499\n",
      "Epoch: 31  Training Loss: 2.1894636844066326  Time (sec): 7.079624652862549\n",
      "Epoch: 32  Training Loss: 2.1980316880834794  Time (sec): 7.185204267501831\n",
      "Epoch: 33  Training Loss: 2.201951929462918  Time (sec): 7.017898797988892\n",
      "Epoch: 34  Training Loss: 2.2091120060463343  Time (sec): 7.111751079559326\n",
      "Epoch: 35  Training Loss: 2.2569311546963005  Time (sec): 7.1235716342926025\n",
      "Epoch: 36  Training Loss: 2.252672091561094  Time (sec): 7.27365255355835\n",
      "Epoch: 37  Training Loss: 2.2372691623894063  Time (sec): 7.344891786575317\n",
      "Epoch: 38  Training Loss: 2.229469590653964  Time (sec): 7.0223493576049805\n",
      "Epoch: 39  Training Loss: 2.2919630735564054  Time (sec): 7.198622226715088\n",
      "Epoch: 40  Training Loss: 2.2638011177225335  Time (sec): 7.118952751159668\n",
      "Epoch: 41  Training Loss: 2.258461463418692  Time (sec): 7.432317733764648\n",
      "Epoch: 42  Training Loss: 2.256751512291628  Time (sec): 6.909126281738281\n",
      "Epoch: 43  Training Loss: 2.252559942566386  Time (sec): 8.290058135986328\n",
      "Epoch: 44  Training Loss: 2.2389071126977114  Time (sec): 7.524951696395874\n",
      "Epoch: 45  Training Loss: 2.263432317192188  Time (sec): 8.144001245498657\n",
      "Epoch: 46  Training Loss: 2.306629749289887  Time (sec): 7.553808689117432\n",
      "Epoch: 47  Training Loss: 2.3085948136911725  Time (sec): 7.661790370941162\n",
      "Epoch: 48  Training Loss: 2.3012024324703706  Time (sec): 7.583718299865723\n",
      "Epoch: 49  Training Loss: 2.3156310623279976  Time (sec): 7.417768239974976\n",
      "Epoch: 50  Training Loss: 2.3030131416554136  Time (sec): 7.352894067764282\n",
      "Epoch: 1  Training Loss: 2.161903551219869  Time (sec): 5.571232080459595\n",
      "Epoch: 2  Training Loss: 1.8486204285004761  Time (sec): 5.557692050933838\n",
      "Epoch: 3  Training Loss: 1.7505435489596144  Time (sec): 5.505690813064575\n",
      "Epoch: 4  Training Loss: 1.6908488339411591  Time (sec): 5.517508506774902\n",
      "Epoch: 5  Training Loss: 1.6439321735492682  Time (sec): 5.543514251708984\n",
      "Epoch: 6  Training Loss: 1.6056761802257895  Time (sec): 5.417869567871094\n",
      "Epoch: 7  Training Loss: 1.5755630457533005  Time (sec): 5.465409517288208\n",
      "Epoch: 8  Training Loss: 1.5479920555632352  Time (sec): 5.588745832443237\n",
      "Epoch: 9  Training Loss: 1.5222711244037241  Time (sec): 5.534522533416748\n",
      "Epoch: 10  Training Loss: 1.5019462261108014  Time (sec): 5.504629611968994\n",
      "Epoch: 11  Training Loss: 1.4794951435110526  Time (sec): 5.457491159439087\n",
      "Epoch: 12  Training Loss: 1.4613239349637133  Time (sec): 5.401805877685547\n",
      "Epoch: 13  Training Loss: 1.4399469444953874  Time (sec): 5.526249885559082\n",
      "Epoch: 14  Training Loss: 1.4204943781475985  Time (sec): 5.510802268981934\n",
      "Epoch: 15  Training Loss: 1.4029362141041186  Time (sec): 5.599522590637207\n",
      "Epoch: 16  Training Loss: 1.3867264109929978  Time (sec): 5.548004627227783\n",
      "Epoch: 17  Training Loss: 1.3704527595322715  Time (sec): 5.685370683670044\n",
      "Epoch: 18  Training Loss: 1.355301164924057  Time (sec): 5.629724740982056\n",
      "Epoch: 19  Training Loss: 1.3422658423675349  Time (sec): 5.652819871902466\n",
      "Epoch: 20  Training Loss: 1.333164645890641  Time (sec): 5.5217132568359375\n",
      "Epoch: 21  Training Loss: 1.3205528919942744  Time (sec): 5.501678705215454\n",
      "Epoch: 22  Training Loss: 1.3148896809545343  Time (sec): 5.510840892791748\n",
      "Epoch: 23  Training Loss: 1.3067180557809004  Time (sec): 5.456621885299683\n",
      "Epoch: 24  Training Loss: 1.3008667146451818  Time (sec): 5.486672878265381\n",
      "Epoch: 25  Training Loss: 1.2991217065954852  Time (sec): 5.452690601348877\n",
      "Epoch: 26  Training Loss: 1.3036450917953148  Time (sec): 5.555777549743652\n",
      "Epoch: 27  Training Loss: 1.3063318212815753  Time (sec): 5.46119236946106\n",
      "Epoch: 28  Training Loss: 1.3443939059117622  Time (sec): 5.451411247253418\n",
      "Epoch: 29  Training Loss: 1.7093530109897639  Time (sec): 5.471451759338379\n",
      "Epoch: 30  Training Loss: 1.7234145969473529  Time (sec): 5.529267311096191\n",
      "Epoch: 31  Training Loss: 1.6900751501004112  Time (sec): 5.45622706413269\n",
      "Epoch: 32  Training Loss: 1.6745048743436233  Time (sec): 5.483627557754517\n",
      "Epoch: 33  Training Loss: 1.6881472572184544  Time (sec): 5.461209297180176\n",
      "Epoch: 34  Training Loss: 1.7082082338068287  Time (sec): 5.440605401992798\n",
      "Epoch: 35  Training Loss: 1.729978718950107  Time (sec): 5.452260494232178\n",
      "Epoch: 36  Training Loss: 1.7264730258872016  Time (sec): 5.530177354812622\n",
      "Epoch: 37  Training Loss: 1.7564888599361679  Time (sec): 5.535967826843262\n",
      "Epoch: 38  Training Loss: 1.7774921060732134  Time (sec): 5.398395776748657\n",
      "Epoch: 39  Training Loss: 1.7943098288763797  Time (sec): 5.451879978179932\n",
      "Epoch: 40  Training Loss: 1.7854675678738692  Time (sec): 5.498250722885132\n",
      "Epoch: 41  Training Loss: 1.802484323566804  Time (sec): 5.465104818344116\n",
      "Epoch: 42  Training Loss: 1.8181940900114781  Time (sec): 5.439830780029297\n",
      "Epoch: 43  Training Loss: 1.8261969842357453  Time (sec): 5.477212190628052\n",
      "Epoch: 44  Training Loss: 1.8309336114519452  Time (sec): 5.469212055206299\n",
      "Epoch: 45  Training Loss: 1.834519343812951  Time (sec): 5.374096393585205\n",
      "Epoch: 46  Training Loss: 1.8710268454996468  Time (sec): 5.484232425689697\n",
      "Epoch: 47  Training Loss: 1.8252598812870817  Time (sec): 5.459359645843506\n",
      "Epoch: 48  Training Loss: 1.8265455606181955  Time (sec): 5.488028526306152\n",
      "Epoch: 49  Training Loss: 1.8225491115859922  Time (sec): 5.4987547397613525\n",
      "Epoch: 50  Training Loss: 1.8424727219249337  Time (sec): 5.411901473999023\n",
      "Epoch: 1  Training Loss: 2.2899589035530465  Time (sec): 4.160615682601929\n",
      "Epoch: 2  Training Loss: 1.9679373386300882  Time (sec): 4.115825891494751\n",
      "Epoch: 3  Training Loss: 1.8520490100624416  Time (sec): 4.062377691268921\n",
      "Epoch: 4  Training Loss: 1.7840556922946447  Time (sec): 3.9839892387390137\n",
      "Epoch: 5  Training Loss: 1.73547545588454  Time (sec): 3.9907469749450684\n",
      "Epoch: 6  Training Loss: 1.6981068355531859  Time (sec): 3.8934764862060547\n",
      "Epoch: 7  Training Loss: 1.6698136517120319  Time (sec): 3.9626128673553467\n",
      "Epoch: 8  Training Loss: 1.6424113596239251  Time (sec): 3.8942008018493652\n",
      "Epoch: 9  Training Loss: 1.6195767646730075  Time (sec): 3.9262924194335938\n"
     ]
    },
    {
     "name": "stdout",
     "output_type": "stream",
     "text": [
      "Epoch: 10  Training Loss: 1.5965356042027845  Time (sec): 3.947227954864502\n",
      "Epoch: 11  Training Loss: 1.5785544818618453  Time (sec): 3.91947865486145\n",
      "Epoch: 12  Training Loss: 1.5622135312849965  Time (sec): 3.938572406768799\n",
      "Epoch: 13  Training Loss: 1.5452909014864218  Time (sec): 3.9781317710876465\n",
      "Epoch: 14  Training Loss: 1.5299173562919348  Time (sec): 3.9565253257751465\n",
      "Epoch: 15  Training Loss: 1.516254345492237  Time (sec): 3.862661123275757\n",
      "Epoch: 16  Training Loss: 1.5025346772579151  Time (sec): 3.9782626628875732\n",
      "Epoch: 17  Training Loss: 1.488679063180898  Time (sec): 3.948585033416748\n",
      "Epoch: 18  Training Loss: 1.4758307868114013  Time (sec): 3.987830877304077\n",
      "Epoch: 19  Training Loss: 1.4615865595745603  Time (sec): 3.9725587368011475\n",
      "Epoch: 20  Training Loss: 1.4510785414547955  Time (sec): 3.980198621749878\n",
      "Epoch: 21  Training Loss: 1.4364989042702156  Time (sec): 3.948038101196289\n",
      "Epoch: 22  Training Loss: 1.4245890248640471  Time (sec): 3.9625284671783447\n",
      "Epoch: 23  Training Loss: 1.4111777744461282  Time (sec): 3.8738505840301514\n",
      "Epoch: 24  Training Loss: 1.398883405359549  Time (sec): 4.0540971755981445\n",
      "Epoch: 25  Training Loss: 1.3853787084409244  Time (sec): 4.038956642150879\n",
      "Epoch: 26  Training Loss: 1.374087542961723  Time (sec): 4.0240278244018555\n",
      "Epoch: 27  Training Loss: 1.3585546056006512  Time (sec): 3.963453531265259\n",
      "Epoch: 28  Training Loss: 1.3475151529681106  Time (sec): 3.96186900138855\n",
      "Epoch: 29  Training Loss: 1.3320605401978807  Time (sec): 3.96208119392395\n",
      "Epoch: 30  Training Loss: 1.316902524480069  Time (sec): 3.9841158390045166\n",
      "Epoch: 31  Training Loss: 1.3061950488981309  Time (sec): 3.928562641143799\n",
      "Epoch: 32  Training Loss: 1.2902692005338512  Time (sec): 3.940763235092163\n",
      "Epoch: 33  Training Loss: 1.276177576204434  Time (sec): 3.991683006286621\n",
      "Epoch: 34  Training Loss: 1.2649905535187724  Time (sec): 3.958510398864746\n",
      "Epoch: 35  Training Loss: 1.2491793906613604  Time (sec): 3.962540864944458\n",
      "Epoch: 36  Training Loss: 1.2372093453016768  Time (sec): 3.9225618839263916\n",
      "Epoch: 37  Training Loss: 1.223585500371693  Time (sec): 3.933535575866699\n",
      "Epoch: 38  Training Loss: 1.2132049043214659  Time (sec): 3.9223761558532715\n",
      "Epoch: 39  Training Loss: 1.1970154986158803  Time (sec): 3.9764251708984375\n",
      "Epoch: 40  Training Loss: 1.1863137151777157  Time (sec): 3.9772439002990723\n",
      "Epoch: 41  Training Loss: 1.1746636791975422  Time (sec): 3.9841392040252686\n",
      "Epoch: 42  Training Loss: 1.1657588613007204  Time (sec): 3.929511785507202\n",
      "Epoch: 43  Training Loss: 1.1585565935339943  Time (sec): 3.9517061710357666\n",
      "Epoch: 44  Training Loss: 1.145614029741208  Time (sec): 3.944007158279419\n",
      "Epoch: 45  Training Loss: 1.1368446017830236  Time (sec): 3.9624814987182617\n",
      "Epoch: 46  Training Loss: 1.1253866910898522  Time (sec): 3.9209821224212646\n",
      "Epoch: 47  Training Loss: 1.1191042774620934  Time (sec): 3.924717903137207\n",
      "Epoch: 48  Training Loss: 1.1138311761480377  Time (sec): 3.994563579559326\n",
      "Epoch: 49  Training Loss: 1.1060167916036123  Time (sec): 3.9800779819488525\n",
      "Epoch: 50  Training Loss: 1.0993130930688009  Time (sec): 3.944770336151123\n",
      "Epoch: 1  Training Loss: 2.4559642021524692  Time (sec): 4.170696496963501\n",
      "Epoch: 2  Training Loss: 2.112622980369648  Time (sec): 4.1813743114471436\n",
      "Epoch: 3  Training Loss: 1.9759303406731819  Time (sec): 4.1666259765625\n",
      "Epoch: 4  Training Loss: 1.8977401698148613  Time (sec): 4.252507209777832\n",
      "Epoch: 5  Training Loss: 1.8471320236762032  Time (sec): 4.218177080154419\n",
      "Epoch: 6  Training Loss: 1.806002156962444  Time (sec): 4.16462779045105\n",
      "Epoch: 7  Training Loss: 1.7752583335954533  Time (sec): 4.192882061004639\n",
      "Epoch: 8  Training Loss: 1.747754696863556  Time (sec): 4.210986614227295\n",
      "Epoch: 9  Training Loss: 1.7262844747406079  Time (sec): 4.258494138717651\n",
      "Epoch: 10  Training Loss: 1.70601397534359  Time (sec): 4.326539993286133\n",
      "Epoch: 11  Training Loss: 1.6893131376228745  Time (sec): 4.320569276809692\n",
      "Epoch: 12  Training Loss: 1.672617985589479  Time (sec): 4.351284503936768\n",
      "Epoch: 13  Training Loss: 1.657312304755189  Time (sec): 4.344411611557007\n",
      "Epoch: 14  Training Loss: 1.644212956270937  Time (sec): 4.215113162994385\n",
      "Epoch: 15  Training Loss: 1.6323868116713265  Time (sec): 4.342010259628296\n",
      "Epoch: 16  Training Loss: 1.6202377832368948  Time (sec): 4.178753614425659\n",
      "Epoch: 17  Training Loss: 1.6094008941465092  Time (sec): 4.180176734924316\n",
      "Epoch: 18  Training Loss: 1.5980513248042663  Time (sec): 4.312434673309326\n",
      "Epoch: 19  Training Loss: 1.589505904064298  Time (sec): 4.273937463760376\n",
      "Epoch: 20  Training Loss: 1.5787516339212158  Time (sec): 4.958771705627441\n",
      "Epoch: 21  Training Loss: 1.568572059090654  Time (sec): 4.808072805404663\n",
      "Epoch: 22  Training Loss: 1.5612324752969464  Time (sec): 4.392514944076538\n",
      "Epoch: 23  Training Loss: 1.5523118624090713  Time (sec): 4.3736865520477295\n",
      "Epoch: 24  Training Loss: 1.5424514125843913  Time (sec): 4.458855867385864\n",
      "Epoch: 25  Training Loss: 1.5353402835434136  Time (sec): 4.71138858795166\n",
      "Epoch: 26  Training Loss: 1.5280805775821555  Time (sec): 4.522274732589722\n",
      "Epoch: 27  Training Loss: 1.5189265570095554  Time (sec): 4.2961602210998535\n",
      "Epoch: 28  Training Loss: 1.5123249425457517  Time (sec): 4.392658233642578\n",
      "Epoch: 29  Training Loss: 1.5034465778609183  Time (sec): 4.226086378097534\n",
      "Epoch: 30  Training Loss: 1.4956323974061057  Time (sec): 4.380106687545776\n",
      "Epoch: 31  Training Loss: 1.4900840140869462  Time (sec): 4.453008413314819\n",
      "Epoch: 32  Training Loss: 1.4813734528747704  Time (sec): 4.401773929595947\n",
      "Epoch: 33  Training Loss: 1.4732040834887241  Time (sec): 4.439539670944214\n",
      "Epoch: 34  Training Loss: 1.4664547022708585  Time (sec): 4.370380401611328\n",
      "Epoch: 35  Training Loss: 1.4593860139506896  Time (sec): 4.510416746139526\n",
      "Epoch: 36  Training Loss: 1.4529004252906543  Time (sec): 4.291965007781982\n",
      "Epoch: 37  Training Loss: 1.44438057656958  Time (sec): 4.564329147338867\n",
      "Epoch: 38  Training Loss: 1.4379503522325798  Time (sec): 4.49759578704834\n",
      "Epoch: 39  Training Loss: 1.4306149509883082  Time (sec): 4.488760948181152\n",
      "Epoch: 40  Training Loss: 1.4238037647399728  Time (sec): 4.262056112289429\n",
      "Epoch: 41  Training Loss: 1.415324350880304  Time (sec): 4.244476318359375\n",
      "Epoch: 42  Training Loss: 1.4095640948046781  Time (sec): 4.412150144577026\n",
      "Epoch: 43  Training Loss: 1.4000927828264913  Time (sec): 4.24517560005188\n",
      "Epoch: 44  Training Loss: 1.3943974923849247  Time (sec): 4.165074825286865\n",
      "Epoch: 45  Training Loss: 1.3861041005576673  Time (sec): 4.260473251342773\n",
      "Epoch: 46  Training Loss: 1.3783192664584905  Time (sec): 4.159888505935669\n",
      "Epoch: 47  Training Loss: 1.3717390044089715  Time (sec): 4.210373640060425\n",
      "Epoch: 48  Training Loss: 1.3620864640020716  Time (sec): 4.294048309326172\n",
      "Epoch: 49  Training Loss: 1.3551186145752698  Time (sec): 4.1893837451934814\n",
      "Epoch: 50  Training Loss: 1.3470420506485754  Time (sec): 4.247362375259399\n"
     ]
    }
   ],
   "source": [
    "for batch in batch_size:\n",
    "    nn = MlpV2(learning_rate=0.003, batch_size= batch)\n",
    "    nn.set_momentum(0.9)\n",
    "    nn.set_batchNormalizer()\n",
    "    nn.add_layer(128,512,\"relu\",1)\n",
    "    nn.add_layer(512,256,\"relu\",1)\n",
    "    nn.add_layer(256,128,\"relu\",1)\n",
    "    nn.add_layer(128,64,\"relu\",1)\n",
    "    nn.add_layer(64,10,\"softmax\",1)\n",
    "    \n",
    "    train_loss = nn.fit(X_train, y_train, epochs=50)\n",
    "    loss.append(train_loss)\n",
    "    \n",
    "    acc = nn.evaluate(X_train, y_train)\n",
    "    train_acc.append(acc)\n",
    "    \n",
    "    t_acc = nn.evaluate(X_test, y_test)\n",
    "    test_acc.append(t_acc)"
   ]
  },
  {
   "cell_type": "code",
   "execution_count": 5,
   "id": "0295e137",
   "metadata": {},
   "outputs": [
    {
     "name": "stdout",
     "output_type": "stream",
     "text": [
      "[0.14208888888888888, 0.3601111111111111, 0.7311777777777778, 0.5871555555555555]\n",
      "[0.1417, 0.3561, 0.5263, 0.5023]\n"
     ]
    }
   ],
   "source": [
    "print(train_acc)\n",
    "print(test_acc)"
   ]
  },
  {
   "cell_type": "code",
   "execution_count": 26,
   "id": "48aed42e",
   "metadata": {},
   "outputs": [
    {
     "data": {
      "image/png": "[encoded data removed]",
      "text/plain": [
       "<Figure size 432x288 with 1 Axes>"
      ]
     },
     "metadata": {
      "needs_background": "light"
     },
     "output_type": "display_data"
    }
   ],
   "source": [
    "import matplotlib.pyplot as plt\n",
    "plt.plot(batch_size, train_acc, label='Training Accuracy')\n",
    "plt.plot(batch_size, test_acc, label='Testing Accuracy')\n",
    "plt.legend()\n",
    "plt.xlabel('Batch Size')\n",
    "plt.ylabel('Accuracy')\n",
    "plt.savefig('visual_outputs/batch_acc.png')\n",
    "plt.show()"
   ]
  },
  {
   "cell_type": "code",
   "execution_count": 27,
   "id": "058302db",
   "metadata": {},
   "outputs": [
    {
     "data": {
      "image/png": "[encoded data removed]",
      "text/plain": [
       "<Figure size 432x288 with 1 Axes>"
      ]
     },
     "metadata": {
      "needs_background": "light"
     },
     "output_type": "display_data"
    }
   ],
   "source": [
    "for i in range(len(loss)):\n",
    "    plt.plot(loss[i], label=f'batch size = {batch_size[i]:.0f}')\n",
    "plt.legend()\n",
    "plt.xlabel('Epoch Number')\n",
    "plt.ylabel('Loss')\n",
    "plt.savefig('visual_outputs/batch_loss.png')\n",
    "plt.show()"
   ]
  }
 ],
 "metadata": {
  "kernelspec": {
   "display_name": "Python 3",
   "language": "python",
   "name": "python3"
  },
  "language_info": {
   "codemirror_mode": {
    "name": "ipython",
    "version": 3
   },
   "file_extension": ".py",
   "mimetype": "text/x-python",
   "name": "python",
   "nbconvert_exporter": "python",
   "pygments_lexer": "ipython3",
   "version": "3.6.13"
  }
 },
 "nbformat": 4,
 "nbformat_minor": 5
}
