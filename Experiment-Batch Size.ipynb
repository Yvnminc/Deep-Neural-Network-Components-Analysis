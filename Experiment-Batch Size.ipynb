{
 "cells": [
  {
   "cell_type": "code",
   "execution_count": 1,
   "id": "856b40b4",
   "metadata": {},
   "outputs": [
    {
     "name": "stdout",
     "output_type": "stream",
     "text": [
      "(45000, 128)\n",
      "(45000, 10)\n",
      "(5000, 128)\n",
      "(5000, 10)\n",
      "(10000, 128)\n",
      "(10000, 10)\n"
     ]
    }
   ],
   "source": [
    "from algorithms import *\n",
    "from algorithms.MlpV2 import *\n",
    "data = Data()\n",
    "data.print_shapes()\n",
    "X_train = data.train_data\n",
    "y_train = data.train_label"
   ]
  },
  {
   "cell_type": "code",
   "execution_count": 2,
   "id": "73d0a2e6",
   "metadata": {},
   "outputs": [],
   "source": [
    "X_test = data.test_data\n",
    "y_test = data.test_label"
   ]
  },
  {
   "cell_type": "code",
   "execution_count": 3,
   "id": "2512a6a4",
   "metadata": {},
   "outputs": [],
   "source": [
    "batch_size = [64, 128, 256]\n",
    "learning_rate = [0.001, 0.01, 0.1]\n",
    "loss = []\n",
    "train_acc = []\n",
    "test_acc = []\n",
    "train_precision = []\n",
    "test_precision = []\n",
    "train_recall = []\n",
    "test_recall = []\n",
    "train_f1 = []\n",
    "test_f1 = []"
   ]
  },
  {
   "cell_type": "code",
   "execution_count": 5,
   "id": "75702e0a",
   "metadata": {},
   "outputs": [
    {
     "ename": "SyntaxError",
     "evalue": "positional argument follows keyword argument (<ipython-input-5-fdd382e6b97a>, line 6)",
     "output_type": "error",
     "traceback": [
      "\u001b[1;36m  File \u001b[1;32m\"<ipython-input-5-fdd382e6b97a>\"\u001b[1;36m, line \u001b[1;32m6\u001b[0m\n\u001b[1;33m    nn.set_optimiser(opt_type='Momentum',[0.9])\u001b[0m\n\u001b[1;37m                                        ^\u001b[0m\n\u001b[1;31mSyntaxError\u001b[0m\u001b[1;31m:\u001b[0m positional argument follows keyword argument\n"
     ]
    }
   ],
   "source": [
    "from sklearn.metrics import precision_score, recall_score, f1_score\n",
    "\n",
    "for batch in batch_size:\n",
    "    for lr in learning_rate:\n",
    "        nn = MlpV2(learning_rate=lr, batch_size=batch)\n",
    "        nn.set_optimiser(opt_type='Momentum', [0.9])\n",
    "        nn.set_batchNormalizer()\n",
    "        nn.add_layer(128,512,\"relu\",1)\n",
    "        nn.add_layer(512,256,\"relu\",1)\n",
    "        nn.add_layer(256,128,\"relu\",1)\n",
    "        nn.add_layer(128,64,\"relu\",1)\n",
    "        nn.add_layer(64,10,\"softmax\",1)\n",
    "    \n",
    "        train_loss = nn.fit(X_train, y_train, epochs=50)\n",
    "        loss.append(train_loss)\n",
    "    \n",
    "        acc = nn.evaluate(X_train, y_train)\n",
    "        train_acc.append(acc)\n",
    "    \n",
    "        t_acc = nn.evaluate(X_test, y_test)\n",
    "        test_acc.append(t_acc)\n",
    "        \n",
    "        y_pred_train = nn.predict(X_train)\n",
    "        y_pred_test = nn.predict(X_test)\n",
    "        \n",
    "        precision = precision_score(y_train, y_pred_train, average='macro')\n",
    "        recall = recall_score(y_train, y_pred_train, average='macro')\n",
    "        f1 = f1_score(y_train, y_pred_train, average='macro')\n",
    "        \n",
    "        train_precision.append(precision)\n",
    "        train_recall.append(recall)\n",
    "        train_f1.append(f1)\n",
    "        \n",
    "        t_precision = precision_score(y_test, y_pred_test, average='macro')\n",
    "        t_recall = recall_score(y_test, y_pred_test, average='macro')\n",
    "        t_f1 = f1_score(y_test, y_pred_test, average='macro')\n",
    "        \n",
    "        test_precision.append(t_precision)\n",
    "        test_recall.append(t_recall)\n",
    "        test_f1.append(t_f1)"
   ]
  },
  {
   "cell_type": "code",
   "execution_count": null,
   "id": "48aed42e",
   "metadata": {},
   "outputs": [],
   "source": [
    "import seaborn as sns\n",
    "import numpy as np\n",
    "import pandas as pd\n",
    "\n",
    "train_accuracy = np.reshape(train_acc, (len(batch_size), len(learning_rate)))\n",
    "test_accuracy = np.reshape(test_acc, (len(batch_size), len(learning_rate)))\n",
    "train_precision = np.reshape(train_precision, (len(batch_size), len(learning_rate)))\n",
    "test_precision = np.reshape(test_precision, (len(batch_size), len(learning_rate)))\n",
    "train_recall = np.reshape(train_recall, (len(batch_size), len(learning_rate)))\n",
    "test_recall = np.reshape(test_recall, (len(batch_size), len(learning_rate)))\n",
    "train_f1 = np.reshape(train_f1, (len(batch_size), len(learning_rate)))\n",
    "test_f1 = np.reshape(test_f1, (len(batch_size), len(learning_rate)))\n",
    "\n",
    "\n",
    "def plot_heatmap(data, metric_name, cmap='coolwarm'):\n",
    "    df = pd.DataFrame(data, index=batch_size, columns=learning_rate)\n",
    "    plt.figure(figsize=(10, 6))\n",
    "    sns.heatmap(df, annot=True, fmt='.4f', cmap=cmap)\n",
    "    plt.title(f'{metric_name} Heatmap')\n",
    "    plt.xlabel('Learning Rate')\n",
    "    plt.ylabel('Batch Size')\n",
    "    plt.savefig(f'visual_outputs/{metric_name}_heatmap.png')\n",
    "    plt.show()\n",
    "    \n",
    "plot_heatmap(train_accuracy, 'Train Accuracy')\n",
    "plot_heatmap(test_accuracy, 'Test Accuracy')\n",
    "plot_heatmap(train_precision, 'Train Precision')\n",
    "plot_heatmap(test_precision, 'Test Precision')\n",
    "plot_heatmap(train_recall, 'Train Recall')\n",
    "plot_heatmap(test_recall, 'Test Recall')\n",
    "plot_heatmap(train_f1, 'Train Macro-F1 Score')\n",
    "plot_heatmap(test_f1, 'Test Macro-F1 Score')"
   ]
  },
  {
   "cell_type": "code",
   "execution_count": null,
   "id": "058302db",
   "metadata": {},
   "outputs": [],
   "source": [
    "import matplotlib.pyplot as plt\n",
    "index = 0\n",
    "for i in range(len(batch_size)):\n",
    "    for j in range(len(learning_rate)):\n",
    "        plt.plot(loss[index],label=f'batch size = {batch_size[i]:.0f}, lr = {learning_rate[j]:.0f}')\n",
    "        index += 1\n",
    "plt.legend()\n",
    "plt.xlabel('Epoch Number')\n",
    "plt.ylabel('Loss')\n",
    "plt.savefig('visual_outputs/batch_lr_loss.png')\n",
    "plt.show()"
   ]
  }
 ],
 "metadata": {
  "kernelspec": {
   "display_name": "Python 3",
   "language": "python",
   "name": "python3"
  },
  "language_info": {
   "codemirror_mode": {
    "name": "ipython",
    "version": 3
   },
   "file_extension": ".py",
   "mimetype": "text/x-python",
   "name": "python",
   "nbconvert_exporter": "python",
   "pygments_lexer": "ipython3",
   "version": "3.6.13"
  }
 },
 "nbformat": 4,
 "nbformat_minor": 5
}
